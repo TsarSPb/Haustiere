{
 "cells": [
  {
   "cell_type": "code",
   "execution_count": 1,
   "metadata": {
    "ExecuteTime": {
     "end_time": "2019-10-24T13:55:51.290860Z",
     "start_time": "2019-10-24T13:55:48.100170Z"
    }
   },
   "outputs": [],
   "source": [
    "import pandas as pd\n",
    "import numpy as np\n",
    "import matplotlib.pyplot as plt\n",
    "from sklearn.metrics import confusion_matrix\n",
    "from sklearn.model_selection import cross_val_score"
   ]
  },
  {
   "cell_type": "markdown",
   "metadata": {},
   "source": [
    "# Loading data"
   ]
  },
  {
   "cell_type": "code",
   "execution_count": 2,
   "metadata": {
    "ExecuteTime": {
     "end_time": "2019-10-24T13:55:51.468861Z",
     "start_time": "2019-10-24T13:55:51.292869Z"
    }
   },
   "outputs": [],
   "source": [
    "data = pd.read_csv('CMAPSSData/train_FD001.txt', header=None, sep=' ')\n",
    "data_test = pd.read_csv('CMAPSSData/test_FD001.txt', header=None, sep=' ')\n",
    "y_test = pd.read_csv('CMAPSSData/RUL_FD001.txt', header=None)"
   ]
  },
  {
   "cell_type": "code",
   "execution_count": 3,
   "metadata": {
    "ExecuteTime": {
     "end_time": "2019-10-24T13:55:51.477828Z",
     "start_time": "2019-10-24T13:55:51.469862Z"
    }
   },
   "outputs": [],
   "source": [
    "data = data.drop([26,27], axis= 1)\n",
    "data_test = data_test.drop([26,27], axis= 1)"
   ]
  },
  {
   "cell_type": "code",
   "execution_count": 4,
   "metadata": {
    "ExecuteTime": {
     "end_time": "2019-10-24T13:55:51.484864Z",
     "start_time": "2019-10-24T13:55:51.479827Z"
    }
   },
   "outputs": [],
   "source": [
    "sensors = []\n",
    "for i in np.arange(1,22):\n",
    "    sensors.append('sensor'+str(i))\n",
    "data.columns=['asset','cycle','setting1','setting2','setting3']+sensors\n",
    "data_test.columns=['asset','cycle','setting1','setting2','setting3']+sensors"
   ]
  },
  {
   "cell_type": "code",
   "execution_count": 5,
   "metadata": {
    "ExecuteTime": {
     "end_time": "2019-10-24T13:55:51.508864Z",
     "start_time": "2019-10-24T13:55:51.486829Z"
    }
   },
   "outputs": [
    {
     "data": {
      "text/html": [
       "<div>\n",
       "<style scoped>\n",
       "    .dataframe tbody tr th:only-of-type {\n",
       "        vertical-align: middle;\n",
       "    }\n",
       "\n",
       "    .dataframe tbody tr th {\n",
       "        vertical-align: top;\n",
       "    }\n",
       "\n",
       "    .dataframe thead th {\n",
       "        text-align: right;\n",
       "    }\n",
       "</style>\n",
       "<table border=\"1\" class=\"dataframe\">\n",
       "  <thead>\n",
       "    <tr style=\"text-align: right;\">\n",
       "      <th></th>\n",
       "      <th>asset</th>\n",
       "      <th>cycle</th>\n",
       "      <th>setting1</th>\n",
       "      <th>setting2</th>\n",
       "      <th>setting3</th>\n",
       "      <th>sensor1</th>\n",
       "      <th>sensor2</th>\n",
       "      <th>sensor3</th>\n",
       "      <th>sensor4</th>\n",
       "      <th>sensor5</th>\n",
       "      <th>...</th>\n",
       "      <th>sensor12</th>\n",
       "      <th>sensor13</th>\n",
       "      <th>sensor14</th>\n",
       "      <th>sensor15</th>\n",
       "      <th>sensor16</th>\n",
       "      <th>sensor17</th>\n",
       "      <th>sensor18</th>\n",
       "      <th>sensor19</th>\n",
       "      <th>sensor20</th>\n",
       "      <th>sensor21</th>\n",
       "    </tr>\n",
       "  </thead>\n",
       "  <tbody>\n",
       "    <tr>\n",
       "      <th>0</th>\n",
       "      <td>1</td>\n",
       "      <td>1</td>\n",
       "      <td>-0.0007</td>\n",
       "      <td>-0.0004</td>\n",
       "      <td>100.0</td>\n",
       "      <td>518.67</td>\n",
       "      <td>641.82</td>\n",
       "      <td>1589.70</td>\n",
       "      <td>1400.60</td>\n",
       "      <td>14.62</td>\n",
       "      <td>...</td>\n",
       "      <td>521.66</td>\n",
       "      <td>2388.02</td>\n",
       "      <td>8138.62</td>\n",
       "      <td>8.4195</td>\n",
       "      <td>0.03</td>\n",
       "      <td>392</td>\n",
       "      <td>2388</td>\n",
       "      <td>100.0</td>\n",
       "      <td>39.06</td>\n",
       "      <td>23.4190</td>\n",
       "    </tr>\n",
       "    <tr>\n",
       "      <th>1</th>\n",
       "      <td>1</td>\n",
       "      <td>2</td>\n",
       "      <td>0.0019</td>\n",
       "      <td>-0.0003</td>\n",
       "      <td>100.0</td>\n",
       "      <td>518.67</td>\n",
       "      <td>642.15</td>\n",
       "      <td>1591.82</td>\n",
       "      <td>1403.14</td>\n",
       "      <td>14.62</td>\n",
       "      <td>...</td>\n",
       "      <td>522.28</td>\n",
       "      <td>2388.07</td>\n",
       "      <td>8131.49</td>\n",
       "      <td>8.4318</td>\n",
       "      <td>0.03</td>\n",
       "      <td>392</td>\n",
       "      <td>2388</td>\n",
       "      <td>100.0</td>\n",
       "      <td>39.00</td>\n",
       "      <td>23.4236</td>\n",
       "    </tr>\n",
       "    <tr>\n",
       "      <th>2</th>\n",
       "      <td>1</td>\n",
       "      <td>3</td>\n",
       "      <td>-0.0043</td>\n",
       "      <td>0.0003</td>\n",
       "      <td>100.0</td>\n",
       "      <td>518.67</td>\n",
       "      <td>642.35</td>\n",
       "      <td>1587.99</td>\n",
       "      <td>1404.20</td>\n",
       "      <td>14.62</td>\n",
       "      <td>...</td>\n",
       "      <td>522.42</td>\n",
       "      <td>2388.03</td>\n",
       "      <td>8133.23</td>\n",
       "      <td>8.4178</td>\n",
       "      <td>0.03</td>\n",
       "      <td>390</td>\n",
       "      <td>2388</td>\n",
       "      <td>100.0</td>\n",
       "      <td>38.95</td>\n",
       "      <td>23.3442</td>\n",
       "    </tr>\n",
       "    <tr>\n",
       "      <th>3</th>\n",
       "      <td>1</td>\n",
       "      <td>4</td>\n",
       "      <td>0.0007</td>\n",
       "      <td>0.0000</td>\n",
       "      <td>100.0</td>\n",
       "      <td>518.67</td>\n",
       "      <td>642.35</td>\n",
       "      <td>1582.79</td>\n",
       "      <td>1401.87</td>\n",
       "      <td>14.62</td>\n",
       "      <td>...</td>\n",
       "      <td>522.86</td>\n",
       "      <td>2388.08</td>\n",
       "      <td>8133.83</td>\n",
       "      <td>8.3682</td>\n",
       "      <td>0.03</td>\n",
       "      <td>392</td>\n",
       "      <td>2388</td>\n",
       "      <td>100.0</td>\n",
       "      <td>38.88</td>\n",
       "      <td>23.3739</td>\n",
       "    </tr>\n",
       "    <tr>\n",
       "      <th>4</th>\n",
       "      <td>1</td>\n",
       "      <td>5</td>\n",
       "      <td>-0.0019</td>\n",
       "      <td>-0.0002</td>\n",
       "      <td>100.0</td>\n",
       "      <td>518.67</td>\n",
       "      <td>642.37</td>\n",
       "      <td>1582.85</td>\n",
       "      <td>1406.22</td>\n",
       "      <td>14.62</td>\n",
       "      <td>...</td>\n",
       "      <td>522.19</td>\n",
       "      <td>2388.04</td>\n",
       "      <td>8133.80</td>\n",
       "      <td>8.4294</td>\n",
       "      <td>0.03</td>\n",
       "      <td>393</td>\n",
       "      <td>2388</td>\n",
       "      <td>100.0</td>\n",
       "      <td>38.90</td>\n",
       "      <td>23.4044</td>\n",
       "    </tr>\n",
       "  </tbody>\n",
       "</table>\n",
       "<p>5 rows × 26 columns</p>\n",
       "</div>"
      ],
      "text/plain": [
       "   asset  cycle  setting1  setting2  setting3  sensor1  sensor2  sensor3  \\\n",
       "0      1      1   -0.0007   -0.0004     100.0   518.67   641.82  1589.70   \n",
       "1      1      2    0.0019   -0.0003     100.0   518.67   642.15  1591.82   \n",
       "2      1      3   -0.0043    0.0003     100.0   518.67   642.35  1587.99   \n",
       "3      1      4    0.0007    0.0000     100.0   518.67   642.35  1582.79   \n",
       "4      1      5   -0.0019   -0.0002     100.0   518.67   642.37  1582.85   \n",
       "\n",
       "   sensor4  sensor5    ...     sensor12  sensor13  sensor14  sensor15  \\\n",
       "0  1400.60    14.62    ...       521.66   2388.02   8138.62    8.4195   \n",
       "1  1403.14    14.62    ...       522.28   2388.07   8131.49    8.4318   \n",
       "2  1404.20    14.62    ...       522.42   2388.03   8133.23    8.4178   \n",
       "3  1401.87    14.62    ...       522.86   2388.08   8133.83    8.3682   \n",
       "4  1406.22    14.62    ...       522.19   2388.04   8133.80    8.4294   \n",
       "\n",
       "   sensor16  sensor17  sensor18  sensor19  sensor20  sensor21  \n",
       "0      0.03       392      2388     100.0     39.06   23.4190  \n",
       "1      0.03       392      2388     100.0     39.00   23.4236  \n",
       "2      0.03       390      2388     100.0     38.95   23.3442  \n",
       "3      0.03       392      2388     100.0     38.88   23.3739  \n",
       "4      0.03       393      2388     100.0     38.90   23.4044  \n",
       "\n",
       "[5 rows x 26 columns]"
      ]
     },
     "execution_count": 5,
     "metadata": {},
     "output_type": "execute_result"
    }
   ],
   "source": [
    "data.iloc[:,:].head()"
   ]
  },
  {
   "cell_type": "code",
   "execution_count": 6,
   "metadata": {
    "ExecuteTime": {
     "end_time": "2019-10-24T13:55:51.528863Z",
     "start_time": "2019-10-24T13:55:51.509860Z"
    }
   },
   "outputs": [
    {
     "data": {
      "text/html": [
       "<div>\n",
       "<style scoped>\n",
       "    .dataframe tbody tr th:only-of-type {\n",
       "        vertical-align: middle;\n",
       "    }\n",
       "\n",
       "    .dataframe tbody tr th {\n",
       "        vertical-align: top;\n",
       "    }\n",
       "\n",
       "    .dataframe thead th {\n",
       "        text-align: right;\n",
       "    }\n",
       "</style>\n",
       "<table border=\"1\" class=\"dataframe\">\n",
       "  <thead>\n",
       "    <tr style=\"text-align: right;\">\n",
       "      <th></th>\n",
       "      <th>asset</th>\n",
       "      <th>cycle</th>\n",
       "      <th>setting1</th>\n",
       "      <th>setting2</th>\n",
       "      <th>setting3</th>\n",
       "      <th>sensor1</th>\n",
       "      <th>sensor2</th>\n",
       "      <th>sensor3</th>\n",
       "      <th>sensor4</th>\n",
       "      <th>sensor5</th>\n",
       "      <th>...</th>\n",
       "      <th>sensor12</th>\n",
       "      <th>sensor13</th>\n",
       "      <th>sensor14</th>\n",
       "      <th>sensor15</th>\n",
       "      <th>sensor16</th>\n",
       "      <th>sensor17</th>\n",
       "      <th>sensor18</th>\n",
       "      <th>sensor19</th>\n",
       "      <th>sensor20</th>\n",
       "      <th>sensor21</th>\n",
       "    </tr>\n",
       "  </thead>\n",
       "  <tbody>\n",
       "    <tr>\n",
       "      <th>0</th>\n",
       "      <td>1</td>\n",
       "      <td>1</td>\n",
       "      <td>0.0023</td>\n",
       "      <td>0.0003</td>\n",
       "      <td>100.0</td>\n",
       "      <td>518.67</td>\n",
       "      <td>643.02</td>\n",
       "      <td>1585.29</td>\n",
       "      <td>1398.21</td>\n",
       "      <td>14.62</td>\n",
       "      <td>...</td>\n",
       "      <td>521.72</td>\n",
       "      <td>2388.03</td>\n",
       "      <td>8125.55</td>\n",
       "      <td>8.4052</td>\n",
       "      <td>0.03</td>\n",
       "      <td>392</td>\n",
       "      <td>2388</td>\n",
       "      <td>100.0</td>\n",
       "      <td>38.86</td>\n",
       "      <td>23.3735</td>\n",
       "    </tr>\n",
       "    <tr>\n",
       "      <th>1</th>\n",
       "      <td>1</td>\n",
       "      <td>2</td>\n",
       "      <td>-0.0027</td>\n",
       "      <td>-0.0003</td>\n",
       "      <td>100.0</td>\n",
       "      <td>518.67</td>\n",
       "      <td>641.71</td>\n",
       "      <td>1588.45</td>\n",
       "      <td>1395.42</td>\n",
       "      <td>14.62</td>\n",
       "      <td>...</td>\n",
       "      <td>522.16</td>\n",
       "      <td>2388.06</td>\n",
       "      <td>8139.62</td>\n",
       "      <td>8.3803</td>\n",
       "      <td>0.03</td>\n",
       "      <td>393</td>\n",
       "      <td>2388</td>\n",
       "      <td>100.0</td>\n",
       "      <td>39.02</td>\n",
       "      <td>23.3916</td>\n",
       "    </tr>\n",
       "    <tr>\n",
       "      <th>2</th>\n",
       "      <td>1</td>\n",
       "      <td>3</td>\n",
       "      <td>0.0003</td>\n",
       "      <td>0.0001</td>\n",
       "      <td>100.0</td>\n",
       "      <td>518.67</td>\n",
       "      <td>642.46</td>\n",
       "      <td>1586.94</td>\n",
       "      <td>1401.34</td>\n",
       "      <td>14.62</td>\n",
       "      <td>...</td>\n",
       "      <td>521.97</td>\n",
       "      <td>2388.03</td>\n",
       "      <td>8130.10</td>\n",
       "      <td>8.4441</td>\n",
       "      <td>0.03</td>\n",
       "      <td>393</td>\n",
       "      <td>2388</td>\n",
       "      <td>100.0</td>\n",
       "      <td>39.08</td>\n",
       "      <td>23.4166</td>\n",
       "    </tr>\n",
       "    <tr>\n",
       "      <th>3</th>\n",
       "      <td>1</td>\n",
       "      <td>4</td>\n",
       "      <td>0.0042</td>\n",
       "      <td>0.0000</td>\n",
       "      <td>100.0</td>\n",
       "      <td>518.67</td>\n",
       "      <td>642.44</td>\n",
       "      <td>1584.12</td>\n",
       "      <td>1406.42</td>\n",
       "      <td>14.62</td>\n",
       "      <td>...</td>\n",
       "      <td>521.38</td>\n",
       "      <td>2388.05</td>\n",
       "      <td>8132.90</td>\n",
       "      <td>8.3917</td>\n",
       "      <td>0.03</td>\n",
       "      <td>391</td>\n",
       "      <td>2388</td>\n",
       "      <td>100.0</td>\n",
       "      <td>39.00</td>\n",
       "      <td>23.3737</td>\n",
       "    </tr>\n",
       "    <tr>\n",
       "      <th>4</th>\n",
       "      <td>1</td>\n",
       "      <td>5</td>\n",
       "      <td>0.0014</td>\n",
       "      <td>0.0000</td>\n",
       "      <td>100.0</td>\n",
       "      <td>518.67</td>\n",
       "      <td>642.51</td>\n",
       "      <td>1587.19</td>\n",
       "      <td>1401.92</td>\n",
       "      <td>14.62</td>\n",
       "      <td>...</td>\n",
       "      <td>522.15</td>\n",
       "      <td>2388.03</td>\n",
       "      <td>8129.54</td>\n",
       "      <td>8.4031</td>\n",
       "      <td>0.03</td>\n",
       "      <td>390</td>\n",
       "      <td>2388</td>\n",
       "      <td>100.0</td>\n",
       "      <td>38.99</td>\n",
       "      <td>23.4130</td>\n",
       "    </tr>\n",
       "  </tbody>\n",
       "</table>\n",
       "<p>5 rows × 26 columns</p>\n",
       "</div>"
      ],
      "text/plain": [
       "   asset  cycle  setting1  setting2  setting3  sensor1  sensor2  sensor3  \\\n",
       "0      1      1    0.0023    0.0003     100.0   518.67   643.02  1585.29   \n",
       "1      1      2   -0.0027   -0.0003     100.0   518.67   641.71  1588.45   \n",
       "2      1      3    0.0003    0.0001     100.0   518.67   642.46  1586.94   \n",
       "3      1      4    0.0042    0.0000     100.0   518.67   642.44  1584.12   \n",
       "4      1      5    0.0014    0.0000     100.0   518.67   642.51  1587.19   \n",
       "\n",
       "   sensor4  sensor5    ...     sensor12  sensor13  sensor14  sensor15  \\\n",
       "0  1398.21    14.62    ...       521.72   2388.03   8125.55    8.4052   \n",
       "1  1395.42    14.62    ...       522.16   2388.06   8139.62    8.3803   \n",
       "2  1401.34    14.62    ...       521.97   2388.03   8130.10    8.4441   \n",
       "3  1406.42    14.62    ...       521.38   2388.05   8132.90    8.3917   \n",
       "4  1401.92    14.62    ...       522.15   2388.03   8129.54    8.4031   \n",
       "\n",
       "   sensor16  sensor17  sensor18  sensor19  sensor20  sensor21  \n",
       "0      0.03       392      2388     100.0     38.86   23.3735  \n",
       "1      0.03       393      2388     100.0     39.02   23.3916  \n",
       "2      0.03       393      2388     100.0     39.08   23.4166  \n",
       "3      0.03       391      2388     100.0     39.00   23.3737  \n",
       "4      0.03       390      2388     100.0     38.99   23.4130  \n",
       "\n",
       "[5 rows x 26 columns]"
      ]
     },
     "execution_count": 6,
     "metadata": {},
     "output_type": "execute_result"
    }
   ],
   "source": [
    "data_test.head()"
   ]
  },
  {
   "cell_type": "code",
   "execution_count": 7,
   "metadata": {
    "ExecuteTime": {
     "end_time": "2019-10-24T13:55:51.536865Z",
     "start_time": "2019-10-24T13:55:51.529876Z"
    }
   },
   "outputs": [
    {
     "data": {
      "text/html": [
       "<div>\n",
       "<style scoped>\n",
       "    .dataframe tbody tr th:only-of-type {\n",
       "        vertical-align: middle;\n",
       "    }\n",
       "\n",
       "    .dataframe tbody tr th {\n",
       "        vertical-align: top;\n",
       "    }\n",
       "\n",
       "    .dataframe thead th {\n",
       "        text-align: right;\n",
       "    }\n",
       "</style>\n",
       "<table border=\"1\" class=\"dataframe\">\n",
       "  <thead>\n",
       "    <tr style=\"text-align: right;\">\n",
       "      <th></th>\n",
       "      <th>0</th>\n",
       "    </tr>\n",
       "  </thead>\n",
       "  <tbody>\n",
       "    <tr>\n",
       "      <th>0</th>\n",
       "      <td>112</td>\n",
       "    </tr>\n",
       "    <tr>\n",
       "      <th>1</th>\n",
       "      <td>98</td>\n",
       "    </tr>\n",
       "    <tr>\n",
       "      <th>2</th>\n",
       "      <td>69</td>\n",
       "    </tr>\n",
       "    <tr>\n",
       "      <th>3</th>\n",
       "      <td>82</td>\n",
       "    </tr>\n",
       "    <tr>\n",
       "      <th>4</th>\n",
       "      <td>91</td>\n",
       "    </tr>\n",
       "  </tbody>\n",
       "</table>\n",
       "</div>"
      ],
      "text/plain": [
       "     0\n",
       "0  112\n",
       "1   98\n",
       "2   69\n",
       "3   82\n",
       "4   91"
      ]
     },
     "execution_count": 7,
     "metadata": {},
     "output_type": "execute_result"
    }
   ],
   "source": [
    "y_test.head()"
   ]
  },
  {
   "cell_type": "code",
   "execution_count": 8,
   "metadata": {
    "ExecuteTime": {
     "end_time": "2019-10-24T13:55:51.556831Z",
     "start_time": "2019-10-24T13:55:51.537829Z"
    }
   },
   "outputs": [
    {
     "data": {
      "text/html": [
       "<div>\n",
       "<style scoped>\n",
       "    .dataframe tbody tr th:only-of-type {\n",
       "        vertical-align: middle;\n",
       "    }\n",
       "\n",
       "    .dataframe tbody tr th {\n",
       "        vertical-align: top;\n",
       "    }\n",
       "\n",
       "    .dataframe thead th {\n",
       "        text-align: right;\n",
       "    }\n",
       "</style>\n",
       "<table border=\"1\" class=\"dataframe\">\n",
       "  <thead>\n",
       "    <tr style=\"text-align: right;\">\n",
       "      <th></th>\n",
       "      <th>asset</th>\n",
       "      <th>cycle</th>\n",
       "      <th>setting1</th>\n",
       "      <th>setting2</th>\n",
       "      <th>setting3</th>\n",
       "      <th>sensor1</th>\n",
       "      <th>sensor2</th>\n",
       "      <th>sensor3</th>\n",
       "      <th>sensor4</th>\n",
       "      <th>sensor5</th>\n",
       "      <th>...</th>\n",
       "      <th>sensor12</th>\n",
       "      <th>sensor13</th>\n",
       "      <th>sensor14</th>\n",
       "      <th>sensor15</th>\n",
       "      <th>sensor16</th>\n",
       "      <th>sensor17</th>\n",
       "      <th>sensor18</th>\n",
       "      <th>sensor19</th>\n",
       "      <th>sensor20</th>\n",
       "      <th>sensor21</th>\n",
       "    </tr>\n",
       "  </thead>\n",
       "  <tbody>\n",
       "    <tr>\n",
       "      <th>0</th>\n",
       "      <td>1</td>\n",
       "      <td>1</td>\n",
       "      <td>-0.0007</td>\n",
       "      <td>-0.0004</td>\n",
       "      <td>100.0</td>\n",
       "      <td>518.67</td>\n",
       "      <td>641.82</td>\n",
       "      <td>1589.70</td>\n",
       "      <td>1400.60</td>\n",
       "      <td>14.62</td>\n",
       "      <td>...</td>\n",
       "      <td>521.66</td>\n",
       "      <td>2388.02</td>\n",
       "      <td>8138.62</td>\n",
       "      <td>8.4195</td>\n",
       "      <td>0.03</td>\n",
       "      <td>392</td>\n",
       "      <td>2388</td>\n",
       "      <td>100.0</td>\n",
       "      <td>39.06</td>\n",
       "      <td>23.4190</td>\n",
       "    </tr>\n",
       "    <tr>\n",
       "      <th>1</th>\n",
       "      <td>1</td>\n",
       "      <td>2</td>\n",
       "      <td>0.0019</td>\n",
       "      <td>-0.0003</td>\n",
       "      <td>100.0</td>\n",
       "      <td>518.67</td>\n",
       "      <td>642.15</td>\n",
       "      <td>1591.82</td>\n",
       "      <td>1403.14</td>\n",
       "      <td>14.62</td>\n",
       "      <td>...</td>\n",
       "      <td>522.28</td>\n",
       "      <td>2388.07</td>\n",
       "      <td>8131.49</td>\n",
       "      <td>8.4318</td>\n",
       "      <td>0.03</td>\n",
       "      <td>392</td>\n",
       "      <td>2388</td>\n",
       "      <td>100.0</td>\n",
       "      <td>39.00</td>\n",
       "      <td>23.4236</td>\n",
       "    </tr>\n",
       "    <tr>\n",
       "      <th>2</th>\n",
       "      <td>1</td>\n",
       "      <td>3</td>\n",
       "      <td>-0.0043</td>\n",
       "      <td>0.0003</td>\n",
       "      <td>100.0</td>\n",
       "      <td>518.67</td>\n",
       "      <td>642.35</td>\n",
       "      <td>1587.99</td>\n",
       "      <td>1404.20</td>\n",
       "      <td>14.62</td>\n",
       "      <td>...</td>\n",
       "      <td>522.42</td>\n",
       "      <td>2388.03</td>\n",
       "      <td>8133.23</td>\n",
       "      <td>8.4178</td>\n",
       "      <td>0.03</td>\n",
       "      <td>390</td>\n",
       "      <td>2388</td>\n",
       "      <td>100.0</td>\n",
       "      <td>38.95</td>\n",
       "      <td>23.3442</td>\n",
       "    </tr>\n",
       "    <tr>\n",
       "      <th>3</th>\n",
       "      <td>1</td>\n",
       "      <td>4</td>\n",
       "      <td>0.0007</td>\n",
       "      <td>0.0000</td>\n",
       "      <td>100.0</td>\n",
       "      <td>518.67</td>\n",
       "      <td>642.35</td>\n",
       "      <td>1582.79</td>\n",
       "      <td>1401.87</td>\n",
       "      <td>14.62</td>\n",
       "      <td>...</td>\n",
       "      <td>522.86</td>\n",
       "      <td>2388.08</td>\n",
       "      <td>8133.83</td>\n",
       "      <td>8.3682</td>\n",
       "      <td>0.03</td>\n",
       "      <td>392</td>\n",
       "      <td>2388</td>\n",
       "      <td>100.0</td>\n",
       "      <td>38.88</td>\n",
       "      <td>23.3739</td>\n",
       "    </tr>\n",
       "    <tr>\n",
       "      <th>4</th>\n",
       "      <td>1</td>\n",
       "      <td>5</td>\n",
       "      <td>-0.0019</td>\n",
       "      <td>-0.0002</td>\n",
       "      <td>100.0</td>\n",
       "      <td>518.67</td>\n",
       "      <td>642.37</td>\n",
       "      <td>1582.85</td>\n",
       "      <td>1406.22</td>\n",
       "      <td>14.62</td>\n",
       "      <td>...</td>\n",
       "      <td>522.19</td>\n",
       "      <td>2388.04</td>\n",
       "      <td>8133.80</td>\n",
       "      <td>8.4294</td>\n",
       "      <td>0.03</td>\n",
       "      <td>393</td>\n",
       "      <td>2388</td>\n",
       "      <td>100.0</td>\n",
       "      <td>38.90</td>\n",
       "      <td>23.4044</td>\n",
       "    </tr>\n",
       "  </tbody>\n",
       "</table>\n",
       "<p>5 rows × 26 columns</p>\n",
       "</div>"
      ],
      "text/plain": [
       "   asset  cycle  setting1  setting2  setting3  sensor1  sensor2  sensor3  \\\n",
       "0      1      1   -0.0007   -0.0004     100.0   518.67   641.82  1589.70   \n",
       "1      1      2    0.0019   -0.0003     100.0   518.67   642.15  1591.82   \n",
       "2      1      3   -0.0043    0.0003     100.0   518.67   642.35  1587.99   \n",
       "3      1      4    0.0007    0.0000     100.0   518.67   642.35  1582.79   \n",
       "4      1      5   -0.0019   -0.0002     100.0   518.67   642.37  1582.85   \n",
       "\n",
       "   sensor4  sensor5    ...     sensor12  sensor13  sensor14  sensor15  \\\n",
       "0  1400.60    14.62    ...       521.66   2388.02   8138.62    8.4195   \n",
       "1  1403.14    14.62    ...       522.28   2388.07   8131.49    8.4318   \n",
       "2  1404.20    14.62    ...       522.42   2388.03   8133.23    8.4178   \n",
       "3  1401.87    14.62    ...       522.86   2388.08   8133.83    8.3682   \n",
       "4  1406.22    14.62    ...       522.19   2388.04   8133.80    8.4294   \n",
       "\n",
       "   sensor16  sensor17  sensor18  sensor19  sensor20  sensor21  \n",
       "0      0.03       392      2388     100.0     39.06   23.4190  \n",
       "1      0.03       392      2388     100.0     39.00   23.4236  \n",
       "2      0.03       390      2388     100.0     38.95   23.3442  \n",
       "3      0.03       392      2388     100.0     38.88   23.3739  \n",
       "4      0.03       393      2388     100.0     38.90   23.4044  \n",
       "\n",
       "[5 rows x 26 columns]"
      ]
     },
     "execution_count": 8,
     "metadata": {},
     "output_type": "execute_result"
    }
   ],
   "source": [
    "data.head()"
   ]
  },
  {
   "cell_type": "code",
   "execution_count": 9,
   "metadata": {
    "ExecuteTime": {
     "end_time": "2019-10-24T13:55:51.579860Z",
     "start_time": "2019-10-24T13:55:51.557832Z"
    }
   },
   "outputs": [
    {
     "data": {
      "text/html": [
       "<div>\n",
       "<style scoped>\n",
       "    .dataframe tbody tr th:only-of-type {\n",
       "        vertical-align: middle;\n",
       "    }\n",
       "\n",
       "    .dataframe tbody tr th {\n",
       "        vertical-align: top;\n",
       "    }\n",
       "\n",
       "    .dataframe thead th {\n",
       "        text-align: right;\n",
       "    }\n",
       "</style>\n",
       "<table border=\"1\" class=\"dataframe\">\n",
       "  <thead>\n",
       "    <tr style=\"text-align: right;\">\n",
       "      <th></th>\n",
       "      <th>asset</th>\n",
       "      <th>cycle</th>\n",
       "      <th>setting1</th>\n",
       "      <th>setting2</th>\n",
       "      <th>setting3</th>\n",
       "      <th>sensor1</th>\n",
       "      <th>sensor2</th>\n",
       "      <th>sensor3</th>\n",
       "      <th>sensor4</th>\n",
       "      <th>sensor5</th>\n",
       "      <th>...</th>\n",
       "      <th>sensor12</th>\n",
       "      <th>sensor13</th>\n",
       "      <th>sensor14</th>\n",
       "      <th>sensor15</th>\n",
       "      <th>sensor16</th>\n",
       "      <th>sensor17</th>\n",
       "      <th>sensor18</th>\n",
       "      <th>sensor19</th>\n",
       "      <th>sensor20</th>\n",
       "      <th>sensor21</th>\n",
       "    </tr>\n",
       "  </thead>\n",
       "  <tbody>\n",
       "    <tr>\n",
       "      <th>0</th>\n",
       "      <td>1</td>\n",
       "      <td>1</td>\n",
       "      <td>-0.0007</td>\n",
       "      <td>-0.0004</td>\n",
       "      <td>100.0</td>\n",
       "      <td>518.67</td>\n",
       "      <td>641.82</td>\n",
       "      <td>1589.70</td>\n",
       "      <td>1400.60</td>\n",
       "      <td>14.62</td>\n",
       "      <td>...</td>\n",
       "      <td>521.66</td>\n",
       "      <td>2388.02</td>\n",
       "      <td>8138.62</td>\n",
       "      <td>8.4195</td>\n",
       "      <td>0.03</td>\n",
       "      <td>392</td>\n",
       "      <td>2388</td>\n",
       "      <td>100.0</td>\n",
       "      <td>39.06</td>\n",
       "      <td>23.4190</td>\n",
       "    </tr>\n",
       "    <tr>\n",
       "      <th>20630</th>\n",
       "      <td>100</td>\n",
       "      <td>200</td>\n",
       "      <td>-0.0032</td>\n",
       "      <td>-0.0005</td>\n",
       "      <td>100.0</td>\n",
       "      <td>518.67</td>\n",
       "      <td>643.85</td>\n",
       "      <td>1600.38</td>\n",
       "      <td>1432.14</td>\n",
       "      <td>14.62</td>\n",
       "      <td>...</td>\n",
       "      <td>519.30</td>\n",
       "      <td>2388.26</td>\n",
       "      <td>8137.33</td>\n",
       "      <td>8.5036</td>\n",
       "      <td>0.03</td>\n",
       "      <td>396</td>\n",
       "      <td>2388</td>\n",
       "      <td>100.0</td>\n",
       "      <td>38.37</td>\n",
       "      <td>23.0522</td>\n",
       "    </tr>\n",
       "  </tbody>\n",
       "</table>\n",
       "<p>2 rows × 26 columns</p>\n",
       "</div>"
      ],
      "text/plain": [
       "       asset  cycle  setting1  setting2  setting3  sensor1  sensor2  sensor3  \\\n",
       "0          1      1   -0.0007   -0.0004     100.0   518.67   641.82  1589.70   \n",
       "20630    100    200   -0.0032   -0.0005     100.0   518.67   643.85  1600.38   \n",
       "\n",
       "       sensor4  sensor5    ...     sensor12  sensor13  sensor14  sensor15  \\\n",
       "0      1400.60    14.62    ...       521.66   2388.02   8138.62    8.4195   \n",
       "20630  1432.14    14.62    ...       519.30   2388.26   8137.33    8.5036   \n",
       "\n",
       "       sensor16  sensor17  sensor18  sensor19  sensor20  sensor21  \n",
       "0          0.03       392      2388     100.0     39.06   23.4190  \n",
       "20630      0.03       396      2388     100.0     38.37   23.0522  \n",
       "\n",
       "[2 rows x 26 columns]"
      ]
     },
     "execution_count": 9,
     "metadata": {},
     "output_type": "execute_result"
    }
   ],
   "source": [
    "data[(data.asset.iloc[1:]-data.asset.iloc[:-1])!=0]"
   ]
  },
  {
   "cell_type": "code",
   "execution_count": 10,
   "metadata": {
    "ExecuteTime": {
     "end_time": "2019-10-24T13:55:51.585863Z",
     "start_time": "2019-10-24T13:55:51.580860Z"
    }
   },
   "outputs": [
    {
     "data": {
      "text/plain": [
       "array([ 0, -1,  0,  0,  0, -2,  0])"
      ]
     },
     "execution_count": 10,
     "metadata": {},
     "output_type": "execute_result"
    }
   ],
   "source": [
    "t = np.array([0,0,1,1,1,1,3,3])\n",
    "diffs_a = t[:-1] - t[1:]\n",
    "diffs_a"
   ]
  },
  {
   "cell_type": "code",
   "execution_count": 11,
   "metadata": {
    "ExecuteTime": {
     "end_time": "2019-10-24T13:55:51.592828Z",
     "start_time": "2019-10-24T13:55:51.586866Z"
    }
   },
   "outputs": [
    {
     "data": {
      "text/plain": [
       "array([0, 1, 3])"
      ]
     },
     "execution_count": 11,
     "metadata": {},
     "output_type": "execute_result"
    }
   ],
   "source": [
    "np.append(t[np.where(diffs_a != 0)],t[-1])"
   ]
  },
  {
   "cell_type": "markdown",
   "metadata": {},
   "source": [
    "# EDA"
   ]
  },
  {
   "cell_type": "code",
   "execution_count": 12,
   "metadata": {
    "ExecuteTime": {
     "end_time": "2019-10-24T13:55:51.606825Z",
     "start_time": "2019-10-24T13:55:51.593832Z"
    }
   },
   "outputs": [
    {
     "name": "stdout",
     "output_type": "stream",
     "text": [
      "<class 'pandas.core.frame.DataFrame'>\n",
      "RangeIndex: 20631 entries, 0 to 20630\n",
      "Data columns (total 26 columns):\n",
      "asset       20631 non-null int64\n",
      "cycle       20631 non-null int64\n",
      "setting1    20631 non-null float64\n",
      "setting2    20631 non-null float64\n",
      "setting3    20631 non-null float64\n",
      "sensor1     20631 non-null float64\n",
      "sensor2     20631 non-null float64\n",
      "sensor3     20631 non-null float64\n",
      "sensor4     20631 non-null float64\n",
      "sensor5     20631 non-null float64\n",
      "sensor6     20631 non-null float64\n",
      "sensor7     20631 non-null float64\n",
      "sensor8     20631 non-null float64\n",
      "sensor9     20631 non-null float64\n",
      "sensor10    20631 non-null float64\n",
      "sensor11    20631 non-null float64\n",
      "sensor12    20631 non-null float64\n",
      "sensor13    20631 non-null float64\n",
      "sensor14    20631 non-null float64\n",
      "sensor15    20631 non-null float64\n",
      "sensor16    20631 non-null float64\n",
      "sensor17    20631 non-null int64\n",
      "sensor18    20631 non-null int64\n",
      "sensor19    20631 non-null float64\n",
      "sensor20    20631 non-null float64\n",
      "sensor21    20631 non-null float64\n",
      "dtypes: float64(22), int64(4)\n",
      "memory usage: 4.1 MB\n"
     ]
    }
   ],
   "source": [
    "data.info()"
   ]
  },
  {
   "cell_type": "code",
   "execution_count": 13,
   "metadata": {
    "ExecuteTime": {
     "end_time": "2019-10-24T13:55:51.629825Z",
     "start_time": "2019-10-24T13:55:51.607825Z"
    }
   },
   "outputs": [
    {
     "name": "stdout",
     "output_type": "stream",
     "text": [
      "(20631, 26)\n",
      "asset 100\n",
      "cycle 362\n",
      "setting1 158\n",
      "setting2 13\n",
      "setting3 1\n",
      "sensor1 1\n",
      "sensor2 310\n",
      "sensor3 3012\n",
      "sensor4 4051\n",
      "sensor5 1\n",
      "sensor6 2\n",
      "sensor7 513\n",
      "sensor8 53\n",
      "sensor9 6403\n",
      "sensor10 1\n",
      "sensor11 159\n",
      "sensor12 427\n",
      "sensor13 56\n",
      "sensor14 6078\n",
      "sensor15 1918\n",
      "sensor16 1\n",
      "sensor17 13\n",
      "sensor18 1\n",
      "sensor19 1\n",
      "sensor20 120\n",
      "sensor21 4745\n",
      "(13096, 26)\n",
      "asset 100\n",
      "cycle 303\n",
      "setting1 150\n",
      "setting2 14\n",
      "setting3 1\n",
      "sensor1 1\n",
      "sensor2 262\n",
      "sensor3 2361\n",
      "sensor4 2954\n",
      "sensor5 1\n",
      "sensor6 2\n",
      "sensor7 415\n",
      "sensor8 41\n",
      "sensor9 4047\n",
      "sensor10 1\n",
      "sensor11 136\n",
      "sensor12 357\n",
      "sensor13 43\n",
      "sensor14 3786\n",
      "sensor15 1506\n",
      "sensor16 1\n",
      "sensor17 9\n",
      "sensor18 1\n",
      "sensor19 1\n",
      "sensor20 103\n",
      "sensor21 3555\n"
     ]
    }
   ],
   "source": [
    "print(data.shape)\n",
    "for i in data.columns:\n",
    "    print(str(i)+' '+str(data[i].nunique()))\n",
    "print(data_test.shape)\n",
    "for i in data_test.columns:\n",
    "    print(str(i)+' '+str(data_test[i].nunique()))"
   ]
  },
  {
   "cell_type": "code",
   "execution_count": 14,
   "metadata": {
    "ExecuteTime": {
     "end_time": "2019-10-24T13:55:51.650827Z",
     "start_time": "2019-10-24T13:55:51.630826Z"
    }
   },
   "outputs": [
    {
     "name": "stdout",
     "output_type": "stream",
     "text": [
      "There are 20631 cycles in the test dataset\n",
      "Mean no. of cycles for an asset is  206.31\n"
     ]
    },
    {
     "data": {
      "text/html": [
       "<div>\n",
       "<style scoped>\n",
       "    .dataframe tbody tr th:only-of-type {\n",
       "        vertical-align: middle;\n",
       "    }\n",
       "\n",
       "    .dataframe tbody tr th {\n",
       "        vertical-align: top;\n",
       "    }\n",
       "\n",
       "    .dataframe thead th {\n",
       "        text-align: right;\n",
       "    }\n",
       "</style>\n",
       "<table border=\"1\" class=\"dataframe\">\n",
       "  <thead>\n",
       "    <tr style=\"text-align: right;\">\n",
       "      <th>asset</th>\n",
       "      <th>1</th>\n",
       "      <th>2</th>\n",
       "      <th>3</th>\n",
       "      <th>4</th>\n",
       "      <th>5</th>\n",
       "      <th>6</th>\n",
       "      <th>7</th>\n",
       "      <th>8</th>\n",
       "      <th>9</th>\n",
       "      <th>10</th>\n",
       "      <th>...</th>\n",
       "      <th>91</th>\n",
       "      <th>92</th>\n",
       "      <th>93</th>\n",
       "      <th>94</th>\n",
       "      <th>95</th>\n",
       "      <th>96</th>\n",
       "      <th>97</th>\n",
       "      <th>98</th>\n",
       "      <th>99</th>\n",
       "      <th>100</th>\n",
       "    </tr>\n",
       "  </thead>\n",
       "  <tbody>\n",
       "    <tr>\n",
       "      <th>count</th>\n",
       "      <td>192</td>\n",
       "      <td>287</td>\n",
       "      <td>179</td>\n",
       "      <td>189</td>\n",
       "      <td>269</td>\n",
       "      <td>188</td>\n",
       "      <td>259</td>\n",
       "      <td>150</td>\n",
       "      <td>201</td>\n",
       "      <td>222</td>\n",
       "      <td>...</td>\n",
       "      <td>135</td>\n",
       "      <td>341</td>\n",
       "      <td>155</td>\n",
       "      <td>258</td>\n",
       "      <td>283</td>\n",
       "      <td>336</td>\n",
       "      <td>202</td>\n",
       "      <td>156</td>\n",
       "      <td>185</td>\n",
       "      <td>200</td>\n",
       "    </tr>\n",
       "    <tr>\n",
       "      <th>max</th>\n",
       "      <td>192</td>\n",
       "      <td>287</td>\n",
       "      <td>179</td>\n",
       "      <td>189</td>\n",
       "      <td>269</td>\n",
       "      <td>188</td>\n",
       "      <td>259</td>\n",
       "      <td>150</td>\n",
       "      <td>201</td>\n",
       "      <td>222</td>\n",
       "      <td>...</td>\n",
       "      <td>135</td>\n",
       "      <td>341</td>\n",
       "      <td>155</td>\n",
       "      <td>258</td>\n",
       "      <td>283</td>\n",
       "      <td>336</td>\n",
       "      <td>202</td>\n",
       "      <td>156</td>\n",
       "      <td>185</td>\n",
       "      <td>200</td>\n",
       "    </tr>\n",
       "  </tbody>\n",
       "</table>\n",
       "<p>2 rows × 100 columns</p>\n",
       "</div>"
      ],
      "text/plain": [
       "asset  1    2    3    4    5    6    7    8    9    10  ...   91   92   93   \\\n",
       "count  192  287  179  189  269  188  259  150  201  222 ...   135  341  155   \n",
       "max    192  287  179  189  269  188  259  150  201  222 ...   135  341  155   \n",
       "\n",
       "asset  94   95   96   97   98   99   100  \n",
       "count  258  283  336  202  156  185  200  \n",
       "max    258  283  336  202  156  185  200  \n",
       "\n",
       "[2 rows x 100 columns]"
      ]
     },
     "execution_count": 14,
     "metadata": {},
     "output_type": "execute_result"
    }
   ],
   "source": [
    "print(\"There are\",data.shape[0],\"cycles in the test dataset\")\n",
    "print(\"Mean no. of cycles for an asset is \",data.groupby('asset')['cycle'].agg(['count','max'])['max'].mean())\n",
    "data.groupby('asset')['cycle'].agg(['count','max']).T"
   ]
  },
  {
   "cell_type": "code",
   "execution_count": 15,
   "metadata": {
    "ExecuteTime": {
     "end_time": "2019-10-24T13:55:51.669825Z",
     "start_time": "2019-10-24T13:55:51.651827Z"
    }
   },
   "outputs": [
    {
     "data": {
      "text/html": [
       "<div>\n",
       "<style scoped>\n",
       "    .dataframe tbody tr th:only-of-type {\n",
       "        vertical-align: middle;\n",
       "    }\n",
       "\n",
       "    .dataframe tbody tr th {\n",
       "        vertical-align: top;\n",
       "    }\n",
       "\n",
       "    .dataframe thead th {\n",
       "        text-align: right;\n",
       "    }\n",
       "</style>\n",
       "<table border=\"1\" class=\"dataframe\">\n",
       "  <thead>\n",
       "    <tr style=\"text-align: right;\">\n",
       "      <th></th>\n",
       "      <th>asset</th>\n",
       "      <th>cycle</th>\n",
       "      <th>setting1</th>\n",
       "      <th>setting2</th>\n",
       "      <th>setting3</th>\n",
       "      <th>sensor1</th>\n",
       "      <th>sensor2</th>\n",
       "      <th>sensor3</th>\n",
       "      <th>sensor4</th>\n",
       "      <th>sensor5</th>\n",
       "      <th>...</th>\n",
       "      <th>sensor12</th>\n",
       "      <th>sensor13</th>\n",
       "      <th>sensor14</th>\n",
       "      <th>sensor15</th>\n",
       "      <th>sensor16</th>\n",
       "      <th>sensor17</th>\n",
       "      <th>sensor18</th>\n",
       "      <th>sensor19</th>\n",
       "      <th>sensor20</th>\n",
       "      <th>sensor21</th>\n",
       "    </tr>\n",
       "  </thead>\n",
       "  <tbody>\n",
       "    <tr>\n",
       "      <th>13091</th>\n",
       "      <td>100</td>\n",
       "      <td>194</td>\n",
       "      <td>0.0049</td>\n",
       "      <td>0.0000</td>\n",
       "      <td>100.0</td>\n",
       "      <td>518.67</td>\n",
       "      <td>643.24</td>\n",
       "      <td>1599.45</td>\n",
       "      <td>1415.79</td>\n",
       "      <td>14.62</td>\n",
       "      <td>...</td>\n",
       "      <td>520.69</td>\n",
       "      <td>2388.00</td>\n",
       "      <td>8213.28</td>\n",
       "      <td>8.4715</td>\n",
       "      <td>0.03</td>\n",
       "      <td>394</td>\n",
       "      <td>2388</td>\n",
       "      <td>100.0</td>\n",
       "      <td>38.65</td>\n",
       "      <td>23.1974</td>\n",
       "    </tr>\n",
       "    <tr>\n",
       "      <th>13092</th>\n",
       "      <td>100</td>\n",
       "      <td>195</td>\n",
       "      <td>-0.0011</td>\n",
       "      <td>-0.0001</td>\n",
       "      <td>100.0</td>\n",
       "      <td>518.67</td>\n",
       "      <td>643.22</td>\n",
       "      <td>1595.69</td>\n",
       "      <td>1422.05</td>\n",
       "      <td>14.62</td>\n",
       "      <td>...</td>\n",
       "      <td>521.05</td>\n",
       "      <td>2388.09</td>\n",
       "      <td>8210.85</td>\n",
       "      <td>8.4512</td>\n",
       "      <td>0.03</td>\n",
       "      <td>395</td>\n",
       "      <td>2388</td>\n",
       "      <td>100.0</td>\n",
       "      <td>38.57</td>\n",
       "      <td>23.2771</td>\n",
       "    </tr>\n",
       "    <tr>\n",
       "      <th>13093</th>\n",
       "      <td>100</td>\n",
       "      <td>196</td>\n",
       "      <td>-0.0006</td>\n",
       "      <td>-0.0003</td>\n",
       "      <td>100.0</td>\n",
       "      <td>518.67</td>\n",
       "      <td>643.44</td>\n",
       "      <td>1593.15</td>\n",
       "      <td>1406.82</td>\n",
       "      <td>14.62</td>\n",
       "      <td>...</td>\n",
       "      <td>521.18</td>\n",
       "      <td>2388.04</td>\n",
       "      <td>8217.24</td>\n",
       "      <td>8.4569</td>\n",
       "      <td>0.03</td>\n",
       "      <td>395</td>\n",
       "      <td>2388</td>\n",
       "      <td>100.0</td>\n",
       "      <td>38.62</td>\n",
       "      <td>23.2051</td>\n",
       "    </tr>\n",
       "    <tr>\n",
       "      <th>13094</th>\n",
       "      <td>100</td>\n",
       "      <td>197</td>\n",
       "      <td>-0.0038</td>\n",
       "      <td>0.0001</td>\n",
       "      <td>100.0</td>\n",
       "      <td>518.67</td>\n",
       "      <td>643.26</td>\n",
       "      <td>1594.99</td>\n",
       "      <td>1419.36</td>\n",
       "      <td>14.62</td>\n",
       "      <td>...</td>\n",
       "      <td>521.33</td>\n",
       "      <td>2388.08</td>\n",
       "      <td>8220.48</td>\n",
       "      <td>8.4711</td>\n",
       "      <td>0.03</td>\n",
       "      <td>395</td>\n",
       "      <td>2388</td>\n",
       "      <td>100.0</td>\n",
       "      <td>38.66</td>\n",
       "      <td>23.2699</td>\n",
       "    </tr>\n",
       "    <tr>\n",
       "      <th>13095</th>\n",
       "      <td>100</td>\n",
       "      <td>198</td>\n",
       "      <td>0.0013</td>\n",
       "      <td>0.0003</td>\n",
       "      <td>100.0</td>\n",
       "      <td>518.67</td>\n",
       "      <td>642.95</td>\n",
       "      <td>1601.62</td>\n",
       "      <td>1424.99</td>\n",
       "      <td>14.62</td>\n",
       "      <td>...</td>\n",
       "      <td>521.07</td>\n",
       "      <td>2388.05</td>\n",
       "      <td>8214.64</td>\n",
       "      <td>8.4903</td>\n",
       "      <td>0.03</td>\n",
       "      <td>396</td>\n",
       "      <td>2388</td>\n",
       "      <td>100.0</td>\n",
       "      <td>38.70</td>\n",
       "      <td>23.1855</td>\n",
       "    </tr>\n",
       "  </tbody>\n",
       "</table>\n",
       "<p>5 rows × 26 columns</p>\n",
       "</div>"
      ],
      "text/plain": [
       "       asset  cycle  setting1  setting2  setting3  sensor1  sensor2  sensor3  \\\n",
       "13091    100    194    0.0049    0.0000     100.0   518.67   643.24  1599.45   \n",
       "13092    100    195   -0.0011   -0.0001     100.0   518.67   643.22  1595.69   \n",
       "13093    100    196   -0.0006   -0.0003     100.0   518.67   643.44  1593.15   \n",
       "13094    100    197   -0.0038    0.0001     100.0   518.67   643.26  1594.99   \n",
       "13095    100    198    0.0013    0.0003     100.0   518.67   642.95  1601.62   \n",
       "\n",
       "       sensor4  sensor5    ...     sensor12  sensor13  sensor14  sensor15  \\\n",
       "13091  1415.79    14.62    ...       520.69   2388.00   8213.28    8.4715   \n",
       "13092  1422.05    14.62    ...       521.05   2388.09   8210.85    8.4512   \n",
       "13093  1406.82    14.62    ...       521.18   2388.04   8217.24    8.4569   \n",
       "13094  1419.36    14.62    ...       521.33   2388.08   8220.48    8.4711   \n",
       "13095  1424.99    14.62    ...       521.07   2388.05   8214.64    8.4903   \n",
       "\n",
       "       sensor16  sensor17  sensor18  sensor19  sensor20  sensor21  \n",
       "13091      0.03       394      2388     100.0     38.65   23.1974  \n",
       "13092      0.03       395      2388     100.0     38.57   23.2771  \n",
       "13093      0.03       395      2388     100.0     38.62   23.2051  \n",
       "13094      0.03       395      2388     100.0     38.66   23.2699  \n",
       "13095      0.03       396      2388     100.0     38.70   23.1855  \n",
       "\n",
       "[5 rows x 26 columns]"
      ]
     },
     "execution_count": 15,
     "metadata": {},
     "output_type": "execute_result"
    }
   ],
   "source": [
    "data_test.tail()"
   ]
  },
  {
   "cell_type": "code",
   "execution_count": 16,
   "metadata": {
    "ExecuteTime": {
     "end_time": "2019-10-24T13:55:51.678825Z",
     "start_time": "2019-10-24T13:55:51.670826Z"
    }
   },
   "outputs": [
    {
     "name": "stdout",
     "output_type": "stream",
     "text": [
      "I can probably take like last ~15% for validation, it's around 3094.65\n"
     ]
    },
    {
     "data": {
      "text/plain": [
       "3013"
      ]
     },
     "execution_count": 16,
     "metadata": {},
     "output_type": "execute_result"
    }
   ],
   "source": [
    "print(\"I can probably take like last ~15% for validation, it's around\",data.shape[0]*.15)\n",
    "data.groupby('asset')['cycle'].agg(['count','max'])['max'][-14:].sum()"
   ]
  },
  {
   "cell_type": "code",
   "execution_count": 17,
   "metadata": {
    "ExecuteTime": {
     "end_time": "2019-10-24T13:55:51.685830Z",
     "start_time": "2019-10-24T13:55:51.679825Z"
    }
   },
   "outputs": [
    {
     "data": {
      "text/plain": [
       "asset         87.0000\n",
       "cycle          1.0000\n",
       "setting1      -0.0007\n",
       "setting2      -0.0004\n",
       "setting3     100.0000\n",
       "sensor1      518.6700\n",
       "sensor2      642.6700\n",
       "sensor3     1595.3300\n",
       "sensor4     1404.2300\n",
       "sensor5       14.6200\n",
       "sensor6       21.6100\n",
       "sensor7      554.2900\n",
       "sensor8     2388.0400\n",
       "sensor9     9060.4500\n",
       "sensor10       1.3000\n",
       "sensor11      47.3600\n",
       "sensor12     522.0700\n",
       "sensor13    2388.0100\n",
       "sensor14    8143.6000\n",
       "sensor15       8.4386\n",
       "sensor16       0.0300\n",
       "sensor17     396.0000\n",
       "sensor18    2388.0000\n",
       "sensor19     100.0000\n",
       "sensor20      38.8700\n",
       "sensor21      23.3231\n",
       "Name: 17618, dtype: float64"
      ]
     },
     "execution_count": 17,
     "metadata": {},
     "output_type": "execute_result"
    }
   ],
   "source": [
    "data.iloc[data.shape[0]-3013,:]"
   ]
  },
  {
   "cell_type": "code",
   "execution_count": 18,
   "metadata": {
    "ExecuteTime": {
     "end_time": "2019-10-24T13:55:51.821875Z",
     "start_time": "2019-10-24T13:55:51.689830Z"
    }
   },
   "outputs": [
    {
     "data": {
      "image/png": "[encoded data removed]",
      "text/plain": [
       "<Figure size 432x288 with 1 Axes>"
      ]
     },
     "metadata": {
      "needs_background": "light"
     },
     "output_type": "display_data"
    }
   ],
   "source": [
    "plt.hist(data.groupby('asset')['cycle'].agg(['count','max'])['max']);"
   ]
  },
  {
   "cell_type": "code",
   "execution_count": 19,
   "metadata": {
    "ExecuteTime": {
     "end_time": "2019-10-24T13:55:51.950827Z",
     "start_time": "2019-10-24T13:55:51.825862Z"
    }
   },
   "outputs": [
    {
     "data": {
      "image/png": "[encoded data removed]",
      "text/plain": [
       "<Figure size 432x288 with 1 Axes>"
      ]
     },
     "metadata": {
      "needs_background": "light"
     },
     "output_type": "display_data"
    }
   ],
   "source": [
    "plt.hist(data.groupby('asset')['cycle'].agg(['count','max'])['max'],bins=16);"
   ]
  },
  {
   "cell_type": "markdown",
   "metadata": {},
   "source": [
    "## Getting info about the no of unique values"
   ]
  },
  {
   "cell_type": "code",
   "execution_count": 20,
   "metadata": {
    "ExecuteTime": {
     "end_time": "2019-10-24T13:55:51.981865Z",
     "start_time": "2019-10-24T13:55:51.951865Z"
    }
   },
   "outputs": [
    {
     "name": "stdout",
     "output_type": "stream",
     "text": [
      "\tsetting2 13\n",
      "[-0.0004 -0.0003  0.0003  0.     -0.0002 -0.0001  0.0001  0.0002  0.0004\n",
      "  0.0005  0.0006 -0.0005 -0.0006]\n",
      "-0.0003    2104\n",
      " 0.0001    2097\n",
      " 0.0000    2070\n",
      " 0.0003    2065\n",
      "-0.0004    2051\n",
      "-0.0002    2049\n",
      " 0.0002    2038\n",
      "-0.0001    2029\n",
      " 0.0004    1997\n",
      " 0.0005    1068\n",
      "-0.0005     958\n",
      " 0.0006      71\n",
      "-0.0006      34\n",
      "Name: setting2, dtype: int64\n",
      "\tsetting3 1\n",
      "[100.]\n",
      "100.0    20631\n",
      "Name: setting3, dtype: int64\n",
      "\tsensor1 1\n",
      "[518.67]\n",
      "518.67    20631\n",
      "Name: sensor1, dtype: int64\n",
      "\tsensor5 1\n",
      "[14.62]\n",
      "14.62    20631\n",
      "Name: sensor5, dtype: int64\n",
      "\tsensor6 2\n",
      "[21.61 21.6 ]\n",
      "21.61    20225\n",
      "21.60      406\n",
      "Name: sensor6, dtype: int64\n",
      "\tsensor10 1\n",
      "[1.3]\n",
      "1.3    20631\n",
      "Name: sensor10, dtype: int64\n",
      "\tsensor16 1\n",
      "[0.03]\n",
      "0.03    20631\n",
      "Name: sensor16, dtype: int64\n",
      "\tsensor17 13\n",
      "[392 390 393 391 394 396 395 397 398 389 399 388 400]\n",
      "393    5445\n",
      "392    4578\n",
      "394    4063\n",
      "395    2339\n",
      "391    2022\n",
      "396    1185\n",
      "390     452\n",
      "397     436\n",
      "398      72\n",
      "389      30\n",
      "399       7\n",
      "388       1\n",
      "400       1\n",
      "Name: sensor17, dtype: int64\n",
      "\tsensor18 1\n",
      "[2388]\n",
      "2388    20631\n",
      "Name: sensor18, dtype: int64\n",
      "\tsensor19 1\n",
      "[100.]\n",
      "100.0    20631\n",
      "Name: sensor19, dtype: int64\n"
     ]
    }
   ],
   "source": [
    "for i in data.columns:\n",
    "    if data[i].nunique()<15:\n",
    "        print(\"\\t\"+str(i)+' '+str(data[i].nunique()))\n",
    "        print(data[i].unique())\n",
    "        print(data[i].value_counts())"
   ]
  },
  {
   "cell_type": "markdown",
   "metadata": {},
   "source": [
    "## Dropping columns with just 1 value"
   ]
  },
  {
   "cell_type": "code",
   "execution_count": 21,
   "metadata": {
    "ExecuteTime": {
     "end_time": "2019-10-24T13:55:51.993826Z",
     "start_time": "2019-10-24T13:55:51.982829Z"
    }
   },
   "outputs": [
    {
     "data": {
      "text/plain": [
       "['setting3',\n",
       " 'sensor1',\n",
       " 'sensor5',\n",
       " 'sensor10',\n",
       " 'sensor16',\n",
       " 'sensor18',\n",
       " 'sensor19']"
      ]
     },
     "execution_count": 21,
     "metadata": {},
     "output_type": "execute_result"
    }
   ],
   "source": [
    "columns_to_drop = []\n",
    "for i in data.columns:\n",
    "    if data[i].nunique()==1:\n",
    "        columns_to_drop.append(i)\n",
    "columns_to_drop"
   ]
  },
  {
   "cell_type": "code",
   "execution_count": 22,
   "metadata": {
    "ExecuteTime": {
     "end_time": "2019-10-24T13:55:52.000826Z",
     "start_time": "2019-10-24T13:55:51.994826Z"
    }
   },
   "outputs": [
    {
     "name": "stdout",
     "output_type": "stream",
     "text": [
      "before dropping (20631, 26)\n",
      "after dropping (20631, 19)\n"
     ]
    }
   ],
   "source": [
    "print(\"before dropping\",data.shape)\n",
    "data = data.drop(columns_to_drop, axis= 1)\n",
    "print(\"after dropping\",data.shape)"
   ]
  },
  {
   "cell_type": "code",
   "execution_count": 23,
   "metadata": {
    "ExecuteTime": {
     "end_time": "2019-10-24T13:55:52.013827Z",
     "start_time": "2019-10-24T13:55:52.001826Z"
    }
   },
   "outputs": [
    {
     "data": {
      "text/plain": [
       "['setting3',\n",
       " 'sensor1',\n",
       " 'sensor5',\n",
       " 'sensor10',\n",
       " 'sensor16',\n",
       " 'sensor18',\n",
       " 'sensor19']"
      ]
     },
     "execution_count": 23,
     "metadata": {},
     "output_type": "execute_result"
    }
   ],
   "source": [
    "columns_to_drop = []\n",
    "for i in data_test.columns:\n",
    "    if data_test[i].nunique()==1:\n",
    "        columns_to_drop.append(i)\n",
    "columns_to_drop"
   ]
  },
  {
   "cell_type": "code",
   "execution_count": 24,
   "metadata": {
    "ExecuteTime": {
     "end_time": "2019-10-24T13:55:52.019829Z",
     "start_time": "2019-10-24T13:55:52.014828Z"
    }
   },
   "outputs": [
    {
     "name": "stdout",
     "output_type": "stream",
     "text": [
      "before dropping (13096, 26)\n",
      "after dropping (13096, 19)\n"
     ]
    }
   ],
   "source": [
    "print(\"before dropping\",data_test.shape)\n",
    "data_test = data_test.drop(columns_to_drop, axis= 1)\n",
    "print(\"after dropping\",data_test.shape)"
   ]
  },
  {
   "cell_type": "markdown",
   "metadata": {},
   "source": [
    "## Just some fiddling with graphs"
   ]
  },
  {
   "cell_type": "code",
   "execution_count": 25,
   "metadata": {
    "ExecuteTime": {
     "end_time": "2019-10-24T13:55:52.183830Z",
     "start_time": "2019-10-24T13:55:52.020829Z"
    }
   },
   "outputs": [
    {
     "data": {
      "image/png": "[encoded data removed]",
      "text/plain": [
       "<Figure size 1080x360 with 2 Axes>"
      ]
     },
     "metadata": {
      "needs_background": "light"
     },
     "output_type": "display_data"
    }
   ],
   "source": [
    "bins = [0.03,0.3,2,100] # your bins\n",
    "data_f = [0.04,0.07,0.1,0.2,0.2,0.8,1,1.5,4,5,7,8,43,45,54,56,99] # random data\n",
    "\n",
    "hist, bin_edges = np.histogram(data_f,bins) # make the histogram\n",
    "\n",
    "fig, ax = plt.subplots(1,2,figsize=(15,5))\n",
    "\n",
    "# Plot the histogram heights against integers on the x axis\n",
    "ax[0].bar(range(len(hist)),hist,width=1) \n",
    "\n",
    "# Set the ticks to the middle of the bars\n",
    "ax[0].set_xticks([0.5+i for i,j in enumerate(hist)])\n",
    "\n",
    "# Set the xticklabels to a string that tells us what the bin edges were\n",
    "ax[0].set_xticklabels(['{} - {}'.format(bins[i],bins[i+1]) for i,j in enumerate(hist)])\n",
    "\n",
    "# Plot the histogram heights against integers on the x axis\n",
    "ax[1].hist(data_f,bins=[0,5,60,100]) \n",
    "\n",
    "# Set the ticks to the middle of the bars\n",
    "ax[1].set_xticks([0,5,60,100])\n",
    "\n",
    "# Set the xticklabels to a string that tells us what the bin edges were\n",
    "#ax[1].set_xticklabels(['{} - {}'.format(bins[i],bins[i+1]) for i,j in enumerate(hist)])\n",
    "\n",
    "plt.show()"
   ]
  },
  {
   "cell_type": "code",
   "execution_count": 26,
   "metadata": {
    "ExecuteTime": {
     "end_time": "2019-10-24T13:55:52.374828Z",
     "start_time": "2019-10-24T13:55:52.184830Z"
    }
   },
   "outputs": [
    {
     "data": {
      "text/plain": [
       "<matplotlib.legend.Legend at 0x255f81b9e48>"
      ]
     },
     "execution_count": 26,
     "metadata": {},
     "output_type": "execute_result"
    },
    {
     "data": {
      "image/png": "[encoded data removed]",
      "text/plain": [
       "<Figure size 1080x216 with 1 Axes>"
      ]
     },
     "metadata": {
      "needs_background": "light"
     },
     "output_type": "display_data"
    }
   ],
   "source": [
    "plt.figure(figsize=(15,3))\n",
    "plt.axis([1400, 1430, 0, 2600])  \n",
    "\n",
    "# From your example I am assuming that the maximum value is 6000\n",
    "binBoundaries = np.linspace(1400,1430,10)\n",
    "\n",
    "data_test[data_test.sensor4 < 1410]['sensor4'].hist(bins=binBoundaries, label='A') \n",
    "data_test[data_test.sensor4 >= 1410]['sensor4'].hist(bins=binBoundaries, label='B')\n",
    "\n",
    "plt.title('A Histogram')  \n",
    "plt.xlabel('x-axis')  \n",
    "plt.ylabel('y-axis')  \n",
    "plt.legend()"
   ]
  },
  {
   "cell_type": "code",
   "execution_count": 27,
   "metadata": {
    "ExecuteTime": {
     "end_time": "2019-10-24T13:55:52.625831Z",
     "start_time": "2019-10-24T13:55:52.375828Z"
    }
   },
   "outputs": [
    {
     "name": "stderr",
     "output_type": "stream",
     "text": [
      "No handles with labels found to put in legend.\n"
     ]
    },
    {
     "data": {
      "text/plain": [
       "<matplotlib.legend.Legend at 0x255fa7cf2b0>"
      ]
     },
     "execution_count": 27,
     "metadata": {},
     "output_type": "execute_result"
    },
    {
     "data": {
      "image/png": "[encoded data removed]",
      "text/plain": [
       "<Figure size 1080x360 with 2 Axes>"
      ]
     },
     "metadata": {
      "needs_background": "light"
     },
     "output_type": "display_data"
    }
   ],
   "source": [
    "plt.figure(figsize=(15,5))\n",
    "plt.subplot(1,2,1)\n",
    "plt.axis([1400, 1430, 0, 5400])  \n",
    "\n",
    "# From your example I am assuming that the maximum value is 6000\n",
    "binBoundaries = np.linspace(1400,1430,10)\n",
    "\n",
    "#data_test['sensor4'].hist(bins=binBoundaries, label='A') \n",
    "data_test['sensor4'].hist(bins=[1400,1405,1415,1430], label='A') \n",
    "\n",
    "plt.title('A Histogram')  \n",
    "plt.xlabel('x-axis')  \n",
    "plt.ylabel('y-axis')  \n",
    "plt.legend()\n",
    "\n",
    "plt.subplot(1,2,2)\n",
    "#plt.axis([1400, 1430, 0, 5400])  \n",
    "bins = [1400,1405,1415,1430]\n",
    "hist, bin_edges = np.histogram(data_test['sensor4'],bins) # make the histogram\n",
    "plt.bar(range(len(hist)),hist) \n",
    "plt.title('A Barplot')\n",
    "plt.xticks(range(len(hist)), [\"1400-1405\",\"1405-1415\",\"1415-1430\"], rotation=20)\n",
    "plt.xlabel('x-axis')  \n",
    "plt.ylabel('y-axis')  \n",
    "plt.legend()"
   ]
  },
  {
   "cell_type": "code",
   "execution_count": 28,
   "metadata": {
    "ExecuteTime": {
     "end_time": "2019-10-24T13:55:52.632832Z",
     "start_time": "2019-10-24T13:55:52.627831Z"
    }
   },
   "outputs": [
    {
     "data": {
      "text/plain": [
       "(array([3677, 5223,  888], dtype=int64), array([1400, 1405, 1415, 1430]))"
      ]
     },
     "execution_count": 28,
     "metadata": {},
     "output_type": "execute_result"
    }
   ],
   "source": [
    "bins = [1400,1405,1415,1430]\n",
    "hist, bin_edges = np.histogram(data_test['sensor4'],bins) # make the histogram\n",
    "hist, bin_edges"
   ]
  },
  {
   "cell_type": "code",
   "execution_count": 29,
   "metadata": {
    "ExecuteTime": {
     "end_time": "2019-10-24T13:55:52.638832Z",
     "start_time": "2019-10-24T13:55:52.633846Z"
    }
   },
   "outputs": [
    {
     "data": {
      "text/plain": [
       "range(0, 888)"
      ]
     },
     "execution_count": 29,
     "metadata": {},
     "output_type": "execute_result"
    }
   ],
   "source": [
    "range(hist.min())"
   ]
  },
  {
   "cell_type": "code",
   "execution_count": 30,
   "metadata": {
    "ExecuteTime": {
     "end_time": "2019-10-24T13:55:52.762836Z",
     "start_time": "2019-10-24T13:55:52.639831Z"
    }
   },
   "outputs": [
    {
     "data": {
      "text/plain": [
       "<BarContainer object of 3 artists>"
      ]
     },
     "execution_count": 30,
     "metadata": {},
     "output_type": "execute_result"
    },
    {
     "data": {
      "image/png": "[encoded data removed]",
      "text/plain": [
       "<Figure size 432x288 with 1 Axes>"
      ]
     },
     "metadata": {
      "needs_background": "light"
     },
     "output_type": "display_data"
    }
   ],
   "source": [
    "plt.title('A Barplot')  \n",
    "bins = [1400,1405,1415,1430]\n",
    "hist, bin_edges = np.histogram(data_test['sensor4'],bins) # make the histogram\n",
    "plt.bar(range(len(hist)),hist) \n"
   ]
  },
  {
   "cell_type": "markdown",
   "metadata": {},
   "source": [
    "# Making the target"
   ]
  },
  {
   "cell_type": "code",
   "execution_count": 31,
   "metadata": {
    "ExecuteTime": {
     "end_time": "2019-10-24T13:55:52.770836Z",
     "start_time": "2019-10-24T13:55:52.763835Z"
    }
   },
   "outputs": [],
   "source": [
    "data['TTF'] = data.groupby(['asset'])['cycle'].transform(max)\n",
    "data['TTF'] = data['TTF']-data['cycle']"
   ]
  },
  {
   "cell_type": "code",
   "execution_count": 32,
   "metadata": {
    "ExecuteTime": {
     "end_time": "2019-10-24T13:55:52.811831Z",
     "start_time": "2019-10-24T13:55:52.771835Z"
    }
   },
   "outputs": [
    {
     "data": {
      "text/html": [
       "<div>\n",
       "<style scoped>\n",
       "    .dataframe tbody tr th:only-of-type {\n",
       "        vertical-align: middle;\n",
       "    }\n",
       "\n",
       "    .dataframe tbody tr th {\n",
       "        vertical-align: top;\n",
       "    }\n",
       "\n",
       "    .dataframe thead th {\n",
       "        text-align: right;\n",
       "    }\n",
       "</style>\n",
       "<table border=\"1\" class=\"dataframe\">\n",
       "  <thead>\n",
       "    <tr style=\"text-align: right;\">\n",
       "      <th></th>\n",
       "      <th>asset</th>\n",
       "      <th>cycle</th>\n",
       "      <th>setting1</th>\n",
       "      <th>setting2</th>\n",
       "      <th>sensor2</th>\n",
       "      <th>sensor3</th>\n",
       "      <th>sensor4</th>\n",
       "      <th>sensor6</th>\n",
       "      <th>sensor7</th>\n",
       "      <th>sensor8</th>\n",
       "      <th>sensor9</th>\n",
       "      <th>sensor11</th>\n",
       "      <th>sensor12</th>\n",
       "      <th>sensor13</th>\n",
       "      <th>sensor14</th>\n",
       "      <th>sensor15</th>\n",
       "      <th>sensor17</th>\n",
       "      <th>sensor20</th>\n",
       "      <th>sensor21</th>\n",
       "      <th>TTF</th>\n",
       "    </tr>\n",
       "  </thead>\n",
       "  <tbody>\n",
       "    <tr>\n",
       "      <th>190</th>\n",
       "      <td>1</td>\n",
       "      <td>191</td>\n",
       "      <td>-0.0000</td>\n",
       "      <td>-0.0004</td>\n",
       "      <td>643.34</td>\n",
       "      <td>1602.36</td>\n",
       "      <td>1425.77</td>\n",
       "      <td>21.61</td>\n",
       "      <td>550.92</td>\n",
       "      <td>2388.28</td>\n",
       "      <td>9042.76</td>\n",
       "      <td>48.15</td>\n",
       "      <td>519.57</td>\n",
       "      <td>2388.30</td>\n",
       "      <td>8114.61</td>\n",
       "      <td>8.5174</td>\n",
       "      <td>394</td>\n",
       "      <td>38.45</td>\n",
       "      <td>23.1295</td>\n",
       "      <td>1</td>\n",
       "    </tr>\n",
       "    <tr>\n",
       "      <th>191</th>\n",
       "      <td>1</td>\n",
       "      <td>192</td>\n",
       "      <td>0.0009</td>\n",
       "      <td>-0.0000</td>\n",
       "      <td>643.54</td>\n",
       "      <td>1601.41</td>\n",
       "      <td>1427.20</td>\n",
       "      <td>21.61</td>\n",
       "      <td>551.25</td>\n",
       "      <td>2388.32</td>\n",
       "      <td>9033.22</td>\n",
       "      <td>48.25</td>\n",
       "      <td>520.08</td>\n",
       "      <td>2388.32</td>\n",
       "      <td>8110.93</td>\n",
       "      <td>8.5113</td>\n",
       "      <td>396</td>\n",
       "      <td>38.48</td>\n",
       "      <td>22.9649</td>\n",
       "      <td>0</td>\n",
       "    </tr>\n",
       "    <tr>\n",
       "      <th>192</th>\n",
       "      <td>2</td>\n",
       "      <td>1</td>\n",
       "      <td>-0.0018</td>\n",
       "      <td>0.0006</td>\n",
       "      <td>641.89</td>\n",
       "      <td>1583.84</td>\n",
       "      <td>1391.28</td>\n",
       "      <td>21.60</td>\n",
       "      <td>554.53</td>\n",
       "      <td>2388.01</td>\n",
       "      <td>9054.72</td>\n",
       "      <td>46.93</td>\n",
       "      <td>522.33</td>\n",
       "      <td>2388.06</td>\n",
       "      <td>8137.72</td>\n",
       "      <td>8.3905</td>\n",
       "      <td>391</td>\n",
       "      <td>38.94</td>\n",
       "      <td>23.4585</td>\n",
       "      <td>286</td>\n",
       "    </tr>\n",
       "    <tr>\n",
       "      <th>193</th>\n",
       "      <td>2</td>\n",
       "      <td>2</td>\n",
       "      <td>0.0043</td>\n",
       "      <td>-0.0003</td>\n",
       "      <td>641.82</td>\n",
       "      <td>1587.05</td>\n",
       "      <td>1393.13</td>\n",
       "      <td>21.61</td>\n",
       "      <td>554.77</td>\n",
       "      <td>2387.98</td>\n",
       "      <td>9051.31</td>\n",
       "      <td>47.24</td>\n",
       "      <td>522.70</td>\n",
       "      <td>2387.98</td>\n",
       "      <td>8131.09</td>\n",
       "      <td>8.4167</td>\n",
       "      <td>392</td>\n",
       "      <td>39.06</td>\n",
       "      <td>23.4085</td>\n",
       "      <td>285</td>\n",
       "    </tr>\n",
       "  </tbody>\n",
       "</table>\n",
       "</div>"
      ],
      "text/plain": [
       "     asset  cycle  setting1  setting2  sensor2  sensor3  sensor4  sensor6  \\\n",
       "190      1    191   -0.0000   -0.0004   643.34  1602.36  1425.77    21.61   \n",
       "191      1    192    0.0009   -0.0000   643.54  1601.41  1427.20    21.61   \n",
       "192      2      1   -0.0018    0.0006   641.89  1583.84  1391.28    21.60   \n",
       "193      2      2    0.0043   -0.0003   641.82  1587.05  1393.13    21.61   \n",
       "\n",
       "     sensor7  sensor8  sensor9  sensor11  sensor12  sensor13  sensor14  \\\n",
       "190   550.92  2388.28  9042.76     48.15    519.57   2388.30   8114.61   \n",
       "191   551.25  2388.32  9033.22     48.25    520.08   2388.32   8110.93   \n",
       "192   554.53  2388.01  9054.72     46.93    522.33   2388.06   8137.72   \n",
       "193   554.77  2387.98  9051.31     47.24    522.70   2387.98   8131.09   \n",
       "\n",
       "     sensor15  sensor17  sensor20  sensor21  TTF  \n",
       "190    8.5174       394     38.45   23.1295    1  \n",
       "191    8.5113       396     38.48   22.9649    0  \n",
       "192    8.3905       391     38.94   23.4585  286  \n",
       "193    8.4167       392     39.06   23.4085  285  "
      ]
     },
     "execution_count": 32,
     "metadata": {},
     "output_type": "execute_result"
    }
   ],
   "source": [
    "data.iloc[190:194,:].head()"
   ]
  },
  {
   "cell_type": "code",
   "execution_count": 33,
   "metadata": {
    "ExecuteTime": {
     "end_time": "2019-10-24T13:55:52.820831Z",
     "start_time": "2019-10-24T13:55:52.812832Z"
    }
   },
   "outputs": [],
   "source": [
    "y = pd.DataFrame(data['TTF'],columns=['TTF'])\n",
    "data = data.drop(['TTF'], axis= 1)"
   ]
  },
  {
   "cell_type": "code",
   "execution_count": 34,
   "metadata": {
    "ExecuteTime": {
     "end_time": "2019-10-24T13:55:52.837831Z",
     "start_time": "2019-10-24T13:55:52.821831Z"
    }
   },
   "outputs": [
    {
     "data": {
      "text/html": [
       "<div>\n",
       "<style scoped>\n",
       "    .dataframe tbody tr th:only-of-type {\n",
       "        vertical-align: middle;\n",
       "    }\n",
       "\n",
       "    .dataframe tbody tr th {\n",
       "        vertical-align: top;\n",
       "    }\n",
       "\n",
       "    .dataframe thead th {\n",
       "        text-align: right;\n",
       "    }\n",
       "</style>\n",
       "<table border=\"1\" class=\"dataframe\">\n",
       "  <thead>\n",
       "    <tr style=\"text-align: right;\">\n",
       "      <th></th>\n",
       "      <th>asset</th>\n",
       "      <th>cycle</th>\n",
       "      <th>setting1</th>\n",
       "      <th>setting2</th>\n",
       "      <th>sensor2</th>\n",
       "      <th>sensor3</th>\n",
       "      <th>sensor4</th>\n",
       "      <th>sensor6</th>\n",
       "      <th>sensor7</th>\n",
       "      <th>sensor8</th>\n",
       "      <th>sensor9</th>\n",
       "      <th>sensor11</th>\n",
       "      <th>sensor12</th>\n",
       "      <th>sensor13</th>\n",
       "      <th>sensor14</th>\n",
       "      <th>sensor15</th>\n",
       "      <th>sensor17</th>\n",
       "      <th>sensor20</th>\n",
       "      <th>sensor21</th>\n",
       "    </tr>\n",
       "  </thead>\n",
       "  <tbody>\n",
       "    <tr>\n",
       "      <th>0</th>\n",
       "      <td>1</td>\n",
       "      <td>1</td>\n",
       "      <td>-0.0007</td>\n",
       "      <td>-0.0004</td>\n",
       "      <td>641.82</td>\n",
       "      <td>1589.70</td>\n",
       "      <td>1400.60</td>\n",
       "      <td>21.61</td>\n",
       "      <td>554.36</td>\n",
       "      <td>2388.06</td>\n",
       "      <td>9046.19</td>\n",
       "      <td>47.47</td>\n",
       "      <td>521.66</td>\n",
       "      <td>2388.02</td>\n",
       "      <td>8138.62</td>\n",
       "      <td>8.4195</td>\n",
       "      <td>392</td>\n",
       "      <td>39.06</td>\n",
       "      <td>23.4190</td>\n",
       "    </tr>\n",
       "    <tr>\n",
       "      <th>1</th>\n",
       "      <td>1</td>\n",
       "      <td>2</td>\n",
       "      <td>0.0019</td>\n",
       "      <td>-0.0003</td>\n",
       "      <td>642.15</td>\n",
       "      <td>1591.82</td>\n",
       "      <td>1403.14</td>\n",
       "      <td>21.61</td>\n",
       "      <td>553.75</td>\n",
       "      <td>2388.04</td>\n",
       "      <td>9044.07</td>\n",
       "      <td>47.49</td>\n",
       "      <td>522.28</td>\n",
       "      <td>2388.07</td>\n",
       "      <td>8131.49</td>\n",
       "      <td>8.4318</td>\n",
       "      <td>392</td>\n",
       "      <td>39.00</td>\n",
       "      <td>23.4236</td>\n",
       "    </tr>\n",
       "    <tr>\n",
       "      <th>2</th>\n",
       "      <td>1</td>\n",
       "      <td>3</td>\n",
       "      <td>-0.0043</td>\n",
       "      <td>0.0003</td>\n",
       "      <td>642.35</td>\n",
       "      <td>1587.99</td>\n",
       "      <td>1404.20</td>\n",
       "      <td>21.61</td>\n",
       "      <td>554.26</td>\n",
       "      <td>2388.08</td>\n",
       "      <td>9052.94</td>\n",
       "      <td>47.27</td>\n",
       "      <td>522.42</td>\n",
       "      <td>2388.03</td>\n",
       "      <td>8133.23</td>\n",
       "      <td>8.4178</td>\n",
       "      <td>390</td>\n",
       "      <td>38.95</td>\n",
       "      <td>23.3442</td>\n",
       "    </tr>\n",
       "    <tr>\n",
       "      <th>3</th>\n",
       "      <td>1</td>\n",
       "      <td>4</td>\n",
       "      <td>0.0007</td>\n",
       "      <td>0.0000</td>\n",
       "      <td>642.35</td>\n",
       "      <td>1582.79</td>\n",
       "      <td>1401.87</td>\n",
       "      <td>21.61</td>\n",
       "      <td>554.45</td>\n",
       "      <td>2388.11</td>\n",
       "      <td>9049.48</td>\n",
       "      <td>47.13</td>\n",
       "      <td>522.86</td>\n",
       "      <td>2388.08</td>\n",
       "      <td>8133.83</td>\n",
       "      <td>8.3682</td>\n",
       "      <td>392</td>\n",
       "      <td>38.88</td>\n",
       "      <td>23.3739</td>\n",
       "    </tr>\n",
       "    <tr>\n",
       "      <th>4</th>\n",
       "      <td>1</td>\n",
       "      <td>5</td>\n",
       "      <td>-0.0019</td>\n",
       "      <td>-0.0002</td>\n",
       "      <td>642.37</td>\n",
       "      <td>1582.85</td>\n",
       "      <td>1406.22</td>\n",
       "      <td>21.61</td>\n",
       "      <td>554.00</td>\n",
       "      <td>2388.06</td>\n",
       "      <td>9055.15</td>\n",
       "      <td>47.28</td>\n",
       "      <td>522.19</td>\n",
       "      <td>2388.04</td>\n",
       "      <td>8133.80</td>\n",
       "      <td>8.4294</td>\n",
       "      <td>393</td>\n",
       "      <td>38.90</td>\n",
       "      <td>23.4044</td>\n",
       "    </tr>\n",
       "  </tbody>\n",
       "</table>\n",
       "</div>"
      ],
      "text/plain": [
       "   asset  cycle  setting1  setting2  sensor2  sensor3  sensor4  sensor6  \\\n",
       "0      1      1   -0.0007   -0.0004   641.82  1589.70  1400.60    21.61   \n",
       "1      1      2    0.0019   -0.0003   642.15  1591.82  1403.14    21.61   \n",
       "2      1      3   -0.0043    0.0003   642.35  1587.99  1404.20    21.61   \n",
       "3      1      4    0.0007    0.0000   642.35  1582.79  1401.87    21.61   \n",
       "4      1      5   -0.0019   -0.0002   642.37  1582.85  1406.22    21.61   \n",
       "\n",
       "   sensor7  sensor8  sensor9  sensor11  sensor12  sensor13  sensor14  \\\n",
       "0   554.36  2388.06  9046.19     47.47    521.66   2388.02   8138.62   \n",
       "1   553.75  2388.04  9044.07     47.49    522.28   2388.07   8131.49   \n",
       "2   554.26  2388.08  9052.94     47.27    522.42   2388.03   8133.23   \n",
       "3   554.45  2388.11  9049.48     47.13    522.86   2388.08   8133.83   \n",
       "4   554.00  2388.06  9055.15     47.28    522.19   2388.04   8133.80   \n",
       "\n",
       "   sensor15  sensor17  sensor20  sensor21  \n",
       "0    8.4195       392     39.06   23.4190  \n",
       "1    8.4318       392     39.00   23.4236  \n",
       "2    8.4178       390     38.95   23.3442  \n",
       "3    8.3682       392     38.88   23.3739  \n",
       "4    8.4294       393     38.90   23.4044  "
      ]
     },
     "execution_count": 34,
     "metadata": {},
     "output_type": "execute_result"
    }
   ],
   "source": [
    "data.head()"
   ]
  },
  {
   "cell_type": "code",
   "execution_count": 35,
   "metadata": {
    "ExecuteTime": {
     "end_time": "2019-10-24T13:55:52.855863Z",
     "start_time": "2019-10-24T13:55:52.838831Z"
    }
   },
   "outputs": [
    {
     "data": {
      "text/html": [
       "<div>\n",
       "<style scoped>\n",
       "    .dataframe tbody tr th:only-of-type {\n",
       "        vertical-align: middle;\n",
       "    }\n",
       "\n",
       "    .dataframe tbody tr th {\n",
       "        vertical-align: top;\n",
       "    }\n",
       "\n",
       "    .dataframe thead th {\n",
       "        text-align: right;\n",
       "    }\n",
       "</style>\n",
       "<table border=\"1\" class=\"dataframe\">\n",
       "  <thead>\n",
       "    <tr style=\"text-align: right;\">\n",
       "      <th></th>\n",
       "      <th>asset</th>\n",
       "      <th>cycle</th>\n",
       "      <th>setting1</th>\n",
       "      <th>setting2</th>\n",
       "      <th>sensor2</th>\n",
       "      <th>sensor3</th>\n",
       "      <th>sensor4</th>\n",
       "      <th>sensor6</th>\n",
       "      <th>sensor7</th>\n",
       "      <th>sensor8</th>\n",
       "      <th>sensor9</th>\n",
       "      <th>sensor11</th>\n",
       "      <th>sensor12</th>\n",
       "      <th>sensor13</th>\n",
       "      <th>sensor14</th>\n",
       "      <th>sensor15</th>\n",
       "      <th>sensor17</th>\n",
       "      <th>sensor20</th>\n",
       "      <th>sensor21</th>\n",
       "    </tr>\n",
       "  </thead>\n",
       "  <tbody>\n",
       "    <tr>\n",
       "      <th>0</th>\n",
       "      <td>1</td>\n",
       "      <td>1</td>\n",
       "      <td>0.0023</td>\n",
       "      <td>0.0003</td>\n",
       "      <td>643.02</td>\n",
       "      <td>1585.29</td>\n",
       "      <td>1398.21</td>\n",
       "      <td>21.61</td>\n",
       "      <td>553.90</td>\n",
       "      <td>2388.04</td>\n",
       "      <td>9050.17</td>\n",
       "      <td>47.20</td>\n",
       "      <td>521.72</td>\n",
       "      <td>2388.03</td>\n",
       "      <td>8125.55</td>\n",
       "      <td>8.4052</td>\n",
       "      <td>392</td>\n",
       "      <td>38.86</td>\n",
       "      <td>23.3735</td>\n",
       "    </tr>\n",
       "    <tr>\n",
       "      <th>1</th>\n",
       "      <td>1</td>\n",
       "      <td>2</td>\n",
       "      <td>-0.0027</td>\n",
       "      <td>-0.0003</td>\n",
       "      <td>641.71</td>\n",
       "      <td>1588.45</td>\n",
       "      <td>1395.42</td>\n",
       "      <td>21.61</td>\n",
       "      <td>554.85</td>\n",
       "      <td>2388.01</td>\n",
       "      <td>9054.42</td>\n",
       "      <td>47.50</td>\n",
       "      <td>522.16</td>\n",
       "      <td>2388.06</td>\n",
       "      <td>8139.62</td>\n",
       "      <td>8.3803</td>\n",
       "      <td>393</td>\n",
       "      <td>39.02</td>\n",
       "      <td>23.3916</td>\n",
       "    </tr>\n",
       "    <tr>\n",
       "      <th>2</th>\n",
       "      <td>1</td>\n",
       "      <td>3</td>\n",
       "      <td>0.0003</td>\n",
       "      <td>0.0001</td>\n",
       "      <td>642.46</td>\n",
       "      <td>1586.94</td>\n",
       "      <td>1401.34</td>\n",
       "      <td>21.61</td>\n",
       "      <td>554.11</td>\n",
       "      <td>2388.05</td>\n",
       "      <td>9056.96</td>\n",
       "      <td>47.50</td>\n",
       "      <td>521.97</td>\n",
       "      <td>2388.03</td>\n",
       "      <td>8130.10</td>\n",
       "      <td>8.4441</td>\n",
       "      <td>393</td>\n",
       "      <td>39.08</td>\n",
       "      <td>23.4166</td>\n",
       "    </tr>\n",
       "    <tr>\n",
       "      <th>3</th>\n",
       "      <td>1</td>\n",
       "      <td>4</td>\n",
       "      <td>0.0042</td>\n",
       "      <td>0.0000</td>\n",
       "      <td>642.44</td>\n",
       "      <td>1584.12</td>\n",
       "      <td>1406.42</td>\n",
       "      <td>21.61</td>\n",
       "      <td>554.07</td>\n",
       "      <td>2388.03</td>\n",
       "      <td>9045.29</td>\n",
       "      <td>47.28</td>\n",
       "      <td>521.38</td>\n",
       "      <td>2388.05</td>\n",
       "      <td>8132.90</td>\n",
       "      <td>8.3917</td>\n",
       "      <td>391</td>\n",
       "      <td>39.00</td>\n",
       "      <td>23.3737</td>\n",
       "    </tr>\n",
       "    <tr>\n",
       "      <th>4</th>\n",
       "      <td>1</td>\n",
       "      <td>5</td>\n",
       "      <td>0.0014</td>\n",
       "      <td>0.0000</td>\n",
       "      <td>642.51</td>\n",
       "      <td>1587.19</td>\n",
       "      <td>1401.92</td>\n",
       "      <td>21.61</td>\n",
       "      <td>554.16</td>\n",
       "      <td>2388.01</td>\n",
       "      <td>9044.55</td>\n",
       "      <td>47.31</td>\n",
       "      <td>522.15</td>\n",
       "      <td>2388.03</td>\n",
       "      <td>8129.54</td>\n",
       "      <td>8.4031</td>\n",
       "      <td>390</td>\n",
       "      <td>38.99</td>\n",
       "      <td>23.4130</td>\n",
       "    </tr>\n",
       "  </tbody>\n",
       "</table>\n",
       "</div>"
      ],
      "text/plain": [
       "   asset  cycle  setting1  setting2  sensor2  sensor3  sensor4  sensor6  \\\n",
       "0      1      1    0.0023    0.0003   643.02  1585.29  1398.21    21.61   \n",
       "1      1      2   -0.0027   -0.0003   641.71  1588.45  1395.42    21.61   \n",
       "2      1      3    0.0003    0.0001   642.46  1586.94  1401.34    21.61   \n",
       "3      1      4    0.0042    0.0000   642.44  1584.12  1406.42    21.61   \n",
       "4      1      5    0.0014    0.0000   642.51  1587.19  1401.92    21.61   \n",
       "\n",
       "   sensor7  sensor8  sensor9  sensor11  sensor12  sensor13  sensor14  \\\n",
       "0   553.90  2388.04  9050.17     47.20    521.72   2388.03   8125.55   \n",
       "1   554.85  2388.01  9054.42     47.50    522.16   2388.06   8139.62   \n",
       "2   554.11  2388.05  9056.96     47.50    521.97   2388.03   8130.10   \n",
       "3   554.07  2388.03  9045.29     47.28    521.38   2388.05   8132.90   \n",
       "4   554.16  2388.01  9044.55     47.31    522.15   2388.03   8129.54   \n",
       "\n",
       "   sensor15  sensor17  sensor20  sensor21  \n",
       "0    8.4052       392     38.86   23.3735  \n",
       "1    8.3803       393     39.02   23.3916  \n",
       "2    8.4441       393     39.08   23.4166  \n",
       "3    8.3917       391     39.00   23.3737  \n",
       "4    8.4031       390     38.99   23.4130  "
      ]
     },
     "execution_count": 35,
     "metadata": {},
     "output_type": "execute_result"
    }
   ],
   "source": [
    "data_test.head()"
   ]
  },
  {
   "cell_type": "markdown",
   "metadata": {},
   "source": [
    "## Converting regression to classification"
   ]
  },
  {
   "cell_type": "code",
   "execution_count": 36,
   "metadata": {
    "ExecuteTime": {
     "end_time": "2019-10-24T13:55:52.859870Z",
     "start_time": "2019-10-24T13:55:52.856834Z"
    }
   },
   "outputs": [],
   "source": [
    "def label_TTF(row):\n",
    "    r = 'more100'\n",
    "    if row<=10: r = 'less10'\n",
    "    if ((row>10)and(row<=50)): r = '10to50'\n",
    "    if ((row>50)and(row<=100)): r = '50to100'\n",
    "    return r"
   ]
  },
  {
   "cell_type": "code",
   "execution_count": 37,
   "metadata": {
    "ExecuteTime": {
     "end_time": "2019-10-24T13:55:52.879872Z",
     "start_time": "2019-10-24T13:55:52.860835Z"
    }
   },
   "outputs": [
    {
     "data": {
      "text/html": [
       "<div>\n",
       "<style scoped>\n",
       "    .dataframe tbody tr th:only-of-type {\n",
       "        vertical-align: middle;\n",
       "    }\n",
       "\n",
       "    .dataframe tbody tr th {\n",
       "        vertical-align: top;\n",
       "    }\n",
       "\n",
       "    .dataframe thead th {\n",
       "        text-align: right;\n",
       "    }\n",
       "</style>\n",
       "<table border=\"1\" class=\"dataframe\">\n",
       "  <thead>\n",
       "    <tr style=\"text-align: right;\">\n",
       "      <th></th>\n",
       "      <th>asset</th>\n",
       "      <th>cycle</th>\n",
       "      <th>setting1</th>\n",
       "      <th>setting2</th>\n",
       "      <th>sensor2</th>\n",
       "      <th>sensor3</th>\n",
       "      <th>sensor4</th>\n",
       "      <th>sensor6</th>\n",
       "      <th>sensor7</th>\n",
       "      <th>sensor8</th>\n",
       "      <th>sensor9</th>\n",
       "      <th>sensor11</th>\n",
       "      <th>sensor12</th>\n",
       "      <th>sensor13</th>\n",
       "      <th>sensor14</th>\n",
       "      <th>sensor15</th>\n",
       "      <th>sensor17</th>\n",
       "      <th>sensor20</th>\n",
       "      <th>sensor21</th>\n",
       "    </tr>\n",
       "  </thead>\n",
       "  <tbody>\n",
       "    <tr>\n",
       "      <th>0</th>\n",
       "      <td>1</td>\n",
       "      <td>1</td>\n",
       "      <td>0.0023</td>\n",
       "      <td>0.0003</td>\n",
       "      <td>643.02</td>\n",
       "      <td>1585.29</td>\n",
       "      <td>1398.21</td>\n",
       "      <td>21.61</td>\n",
       "      <td>553.90</td>\n",
       "      <td>2388.04</td>\n",
       "      <td>9050.17</td>\n",
       "      <td>47.20</td>\n",
       "      <td>521.72</td>\n",
       "      <td>2388.03</td>\n",
       "      <td>8125.55</td>\n",
       "      <td>8.4052</td>\n",
       "      <td>392</td>\n",
       "      <td>38.86</td>\n",
       "      <td>23.3735</td>\n",
       "    </tr>\n",
       "    <tr>\n",
       "      <th>1</th>\n",
       "      <td>1</td>\n",
       "      <td>2</td>\n",
       "      <td>-0.0027</td>\n",
       "      <td>-0.0003</td>\n",
       "      <td>641.71</td>\n",
       "      <td>1588.45</td>\n",
       "      <td>1395.42</td>\n",
       "      <td>21.61</td>\n",
       "      <td>554.85</td>\n",
       "      <td>2388.01</td>\n",
       "      <td>9054.42</td>\n",
       "      <td>47.50</td>\n",
       "      <td>522.16</td>\n",
       "      <td>2388.06</td>\n",
       "      <td>8139.62</td>\n",
       "      <td>8.3803</td>\n",
       "      <td>393</td>\n",
       "      <td>39.02</td>\n",
       "      <td>23.3916</td>\n",
       "    </tr>\n",
       "    <tr>\n",
       "      <th>2</th>\n",
       "      <td>1</td>\n",
       "      <td>3</td>\n",
       "      <td>0.0003</td>\n",
       "      <td>0.0001</td>\n",
       "      <td>642.46</td>\n",
       "      <td>1586.94</td>\n",
       "      <td>1401.34</td>\n",
       "      <td>21.61</td>\n",
       "      <td>554.11</td>\n",
       "      <td>2388.05</td>\n",
       "      <td>9056.96</td>\n",
       "      <td>47.50</td>\n",
       "      <td>521.97</td>\n",
       "      <td>2388.03</td>\n",
       "      <td>8130.10</td>\n",
       "      <td>8.4441</td>\n",
       "      <td>393</td>\n",
       "      <td>39.08</td>\n",
       "      <td>23.4166</td>\n",
       "    </tr>\n",
       "    <tr>\n",
       "      <th>3</th>\n",
       "      <td>1</td>\n",
       "      <td>4</td>\n",
       "      <td>0.0042</td>\n",
       "      <td>0.0000</td>\n",
       "      <td>642.44</td>\n",
       "      <td>1584.12</td>\n",
       "      <td>1406.42</td>\n",
       "      <td>21.61</td>\n",
       "      <td>554.07</td>\n",
       "      <td>2388.03</td>\n",
       "      <td>9045.29</td>\n",
       "      <td>47.28</td>\n",
       "      <td>521.38</td>\n",
       "      <td>2388.05</td>\n",
       "      <td>8132.90</td>\n",
       "      <td>8.3917</td>\n",
       "      <td>391</td>\n",
       "      <td>39.00</td>\n",
       "      <td>23.3737</td>\n",
       "    </tr>\n",
       "    <tr>\n",
       "      <th>4</th>\n",
       "      <td>1</td>\n",
       "      <td>5</td>\n",
       "      <td>0.0014</td>\n",
       "      <td>0.0000</td>\n",
       "      <td>642.51</td>\n",
       "      <td>1587.19</td>\n",
       "      <td>1401.92</td>\n",
       "      <td>21.61</td>\n",
       "      <td>554.16</td>\n",
       "      <td>2388.01</td>\n",
       "      <td>9044.55</td>\n",
       "      <td>47.31</td>\n",
       "      <td>522.15</td>\n",
       "      <td>2388.03</td>\n",
       "      <td>8129.54</td>\n",
       "      <td>8.4031</td>\n",
       "      <td>390</td>\n",
       "      <td>38.99</td>\n",
       "      <td>23.4130</td>\n",
       "    </tr>\n",
       "  </tbody>\n",
       "</table>\n",
       "</div>"
      ],
      "text/plain": [
       "   asset  cycle  setting1  setting2  sensor2  sensor3  sensor4  sensor6  \\\n",
       "0      1      1    0.0023    0.0003   643.02  1585.29  1398.21    21.61   \n",
       "1      1      2   -0.0027   -0.0003   641.71  1588.45  1395.42    21.61   \n",
       "2      1      3    0.0003    0.0001   642.46  1586.94  1401.34    21.61   \n",
       "3      1      4    0.0042    0.0000   642.44  1584.12  1406.42    21.61   \n",
       "4      1      5    0.0014    0.0000   642.51  1587.19  1401.92    21.61   \n",
       "\n",
       "   sensor7  sensor8  sensor9  sensor11  sensor12  sensor13  sensor14  \\\n",
       "0   553.90  2388.04  9050.17     47.20    521.72   2388.03   8125.55   \n",
       "1   554.85  2388.01  9054.42     47.50    522.16   2388.06   8139.62   \n",
       "2   554.11  2388.05  9056.96     47.50    521.97   2388.03   8130.10   \n",
       "3   554.07  2388.03  9045.29     47.28    521.38   2388.05   8132.90   \n",
       "4   554.16  2388.01  9044.55     47.31    522.15   2388.03   8129.54   \n",
       "\n",
       "   sensor15  sensor17  sensor20  sensor21  \n",
       "0    8.4052       392     38.86   23.3735  \n",
       "1    8.3803       393     39.02   23.3916  \n",
       "2    8.4441       393     39.08   23.4166  \n",
       "3    8.3917       391     39.00   23.3737  \n",
       "4    8.4031       390     38.99   23.4130  "
      ]
     },
     "execution_count": 37,
     "metadata": {},
     "output_type": "execute_result"
    }
   ],
   "source": [
    "data_test.head()"
   ]
  },
  {
   "cell_type": "code",
   "execution_count": 38,
   "metadata": {
    "ExecuteTime": {
     "end_time": "2019-10-24T13:55:52.885869Z",
     "start_time": "2019-10-24T13:55:52.880869Z"
    }
   },
   "outputs": [
    {
     "data": {
      "text/plain": [
       "0     112\n",
       "1      98\n",
       "2      69\n",
       "3      82\n",
       "4      91\n",
       "5      93\n",
       "6      91\n",
       "7      95\n",
       "8     111\n",
       "9      96\n",
       "10     97\n",
       "11    124\n",
       "12     95\n",
       "13    107\n",
       "14     83\n",
       "15     84\n",
       "16     50\n",
       "17     28\n",
       "18     87\n",
       "19     16\n",
       "20     57\n",
       "21    111\n",
       "22    113\n",
       "23     20\n",
       "24    145\n",
       "25    119\n",
       "26     66\n",
       "27     97\n",
       "28     90\n",
       "29    115\n",
       "     ... \n",
       "70    118\n",
       "71     50\n",
       "72    131\n",
       "73    126\n",
       "74    113\n",
       "75     10\n",
       "76     34\n",
       "77    107\n",
       "78     63\n",
       "79     90\n",
       "80      8\n",
       "81      9\n",
       "82    137\n",
       "83     58\n",
       "84    118\n",
       "85     89\n",
       "86    116\n",
       "87    115\n",
       "88    136\n",
       "89     28\n",
       "90     38\n",
       "91     20\n",
       "92     85\n",
       "93     55\n",
       "94    128\n",
       "95    137\n",
       "96     82\n",
       "97     59\n",
       "98    117\n",
       "99     20\n",
       "Name: 0, Length: 100, dtype: int64"
      ]
     },
     "execution_count": 38,
     "metadata": {},
     "output_type": "execute_result"
    }
   ],
   "source": [
    "y_test[0]"
   ]
  },
  {
   "cell_type": "code",
   "execution_count": 39,
   "metadata": {
    "ExecuteTime": {
     "end_time": "2019-10-24T13:55:54.906884Z",
     "start_time": "2019-10-24T13:55:52.886835Z"
    }
   },
   "outputs": [],
   "source": [
    "y['TTF_'] = y.TTF.apply(lambda x: label_TTF(x))\n",
    "# assigning real TTF for Y_test since we know the expected results\n",
    "data_test_maxcycle = data_test.groupby('asset')['cycle'].agg(['count','max'])['max']\n",
    "y_test_long = pd.DataFrame(data_test.apply(lambda x: data_test_maxcycle.iloc[x['asset'].astype(np.int64)-1]+\\\n",
    "                y_test.iloc[x['asset'].astype(np.int64)-1,:].values[0]-x['cycle'], axis=1),columns=['TTF'])\n",
    "#pd.DataFrame(data_test.apply(lambda x: y_test.iloc[x['asset'].astype(np.int64)-1,:].values[0]-x['cycle'], axis=1),columns=['TTF'])\n",
    "y_test[0] = y_test[0].apply(lambda x: label_TTF(x))\n",
    "y_test_long['TTF_'] = y_test_long['TTF'].apply(lambda x: label_TTF(x))"
   ]
  },
  {
   "cell_type": "code",
   "execution_count": 40,
   "metadata": {
    "ExecuteTime": {
     "end_time": "2019-10-24T13:55:54.915842Z",
     "start_time": "2019-10-24T13:55:54.907876Z"
    }
   },
   "outputs": [
    {
     "data": {
      "text/html": [
       "<div>\n",
       "<style scoped>\n",
       "    .dataframe tbody tr th:only-of-type {\n",
       "        vertical-align: middle;\n",
       "    }\n",
       "\n",
       "    .dataframe tbody tr th {\n",
       "        vertical-align: top;\n",
       "    }\n",
       "\n",
       "    .dataframe thead th {\n",
       "        text-align: right;\n",
       "    }\n",
       "</style>\n",
       "<table border=\"1\" class=\"dataframe\">\n",
       "  <thead>\n",
       "    <tr style=\"text-align: right;\">\n",
       "      <th></th>\n",
       "      <th>TTF</th>\n",
       "      <th>TTF_</th>\n",
       "    </tr>\n",
       "  </thead>\n",
       "  <tbody>\n",
       "    <tr>\n",
       "      <th>0</th>\n",
       "      <td>142.0</td>\n",
       "      <td>more100</td>\n",
       "    </tr>\n",
       "    <tr>\n",
       "      <th>1</th>\n",
       "      <td>141.0</td>\n",
       "      <td>more100</td>\n",
       "    </tr>\n",
       "    <tr>\n",
       "      <th>2</th>\n",
       "      <td>140.0</td>\n",
       "      <td>more100</td>\n",
       "    </tr>\n",
       "    <tr>\n",
       "      <th>3</th>\n",
       "      <td>139.0</td>\n",
       "      <td>more100</td>\n",
       "    </tr>\n",
       "    <tr>\n",
       "      <th>4</th>\n",
       "      <td>138.0</td>\n",
       "      <td>more100</td>\n",
       "    </tr>\n",
       "  </tbody>\n",
       "</table>\n",
       "</div>"
      ],
      "text/plain": [
       "     TTF     TTF_\n",
       "0  142.0  more100\n",
       "1  141.0  more100\n",
       "2  140.0  more100\n",
       "3  139.0  more100\n",
       "4  138.0  more100"
      ]
     },
     "execution_count": 40,
     "metadata": {},
     "output_type": "execute_result"
    }
   ],
   "source": [
    "y_test_long.head()"
   ]
  },
  {
   "cell_type": "code",
   "execution_count": 41,
   "metadata": {
    "ExecuteTime": {
     "end_time": "2019-10-24T13:55:54.919856Z",
     "start_time": "2019-10-24T13:55:54.916843Z"
    }
   },
   "outputs": [],
   "source": [
    "#y_test[1] = data_test.groupby('asset')['cycle'].agg(['count','max'])['max']"
   ]
  },
  {
   "cell_type": "code",
   "execution_count": 42,
   "metadata": {
    "ExecuteTime": {
     "end_time": "2019-10-24T13:55:54.924846Z",
     "start_time": "2019-10-24T13:55:54.921843Z"
    }
   },
   "outputs": [],
   "source": [
    "#data_test.groupby('asset')['cycle'].agg(['count','max'])['max']"
   ]
  },
  {
   "cell_type": "code",
   "execution_count": 43,
   "metadata": {
    "ExecuteTime": {
     "end_time": "2019-10-24T13:55:54.944842Z",
     "start_time": "2019-10-24T13:55:54.925849Z"
    },
    "scrolled": false
   },
   "outputs": [
    {
     "data": {
      "text/html": [
       "<div>\n",
       "<style scoped>\n",
       "    .dataframe tbody tr th:only-of-type {\n",
       "        vertical-align: middle;\n",
       "    }\n",
       "\n",
       "    .dataframe tbody tr th {\n",
       "        vertical-align: top;\n",
       "    }\n",
       "\n",
       "    .dataframe thead th {\n",
       "        text-align: right;\n",
       "    }\n",
       "</style>\n",
       "<table border=\"1\" class=\"dataframe\">\n",
       "  <thead>\n",
       "    <tr style=\"text-align: right;\">\n",
       "      <th></th>\n",
       "      <th>asset</th>\n",
       "      <th>cycle</th>\n",
       "      <th>setting1</th>\n",
       "      <th>setting2</th>\n",
       "      <th>sensor2</th>\n",
       "      <th>sensor3</th>\n",
       "      <th>sensor4</th>\n",
       "      <th>sensor6</th>\n",
       "      <th>sensor7</th>\n",
       "      <th>sensor8</th>\n",
       "      <th>sensor9</th>\n",
       "      <th>sensor11</th>\n",
       "      <th>sensor12</th>\n",
       "      <th>sensor13</th>\n",
       "      <th>sensor14</th>\n",
       "      <th>sensor15</th>\n",
       "      <th>sensor17</th>\n",
       "      <th>sensor20</th>\n",
       "      <th>sensor21</th>\n",
       "    </tr>\n",
       "  </thead>\n",
       "  <tbody>\n",
       "    <tr>\n",
       "      <th>30</th>\n",
       "      <td>1</td>\n",
       "      <td>31</td>\n",
       "      <td>-0.0006</td>\n",
       "      <td>0.0004</td>\n",
       "      <td>642.58</td>\n",
       "      <td>1581.22</td>\n",
       "      <td>1398.91</td>\n",
       "      <td>21.61</td>\n",
       "      <td>554.42</td>\n",
       "      <td>2388.08</td>\n",
       "      <td>9056.40</td>\n",
       "      <td>47.23</td>\n",
       "      <td>521.79</td>\n",
       "      <td>2388.06</td>\n",
       "      <td>8130.11</td>\n",
       "      <td>8.4024</td>\n",
       "      <td>393</td>\n",
       "      <td>38.81</td>\n",
       "      <td>23.3552</td>\n",
       "    </tr>\n",
       "    <tr>\n",
       "      <th>31</th>\n",
       "      <td>2</td>\n",
       "      <td>1</td>\n",
       "      <td>-0.0009</td>\n",
       "      <td>0.0004</td>\n",
       "      <td>642.66</td>\n",
       "      <td>1589.30</td>\n",
       "      <td>1407.16</td>\n",
       "      <td>21.61</td>\n",
       "      <td>553.14</td>\n",
       "      <td>2388.10</td>\n",
       "      <td>9040.20</td>\n",
       "      <td>47.43</td>\n",
       "      <td>521.62</td>\n",
       "      <td>2388.14</td>\n",
       "      <td>8129.59</td>\n",
       "      <td>8.4283</td>\n",
       "      <td>392</td>\n",
       "      <td>39.00</td>\n",
       "      <td>23.3923</td>\n",
       "    </tr>\n",
       "    <tr>\n",
       "      <th>32</th>\n",
       "      <td>2</td>\n",
       "      <td>2</td>\n",
       "      <td>-0.0011</td>\n",
       "      <td>0.0002</td>\n",
       "      <td>642.51</td>\n",
       "      <td>1588.43</td>\n",
       "      <td>1405.47</td>\n",
       "      <td>21.61</td>\n",
       "      <td>553.53</td>\n",
       "      <td>2388.07</td>\n",
       "      <td>9053.77</td>\n",
       "      <td>47.45</td>\n",
       "      <td>522.02</td>\n",
       "      <td>2388.08</td>\n",
       "      <td>8120.05</td>\n",
       "      <td>8.4414</td>\n",
       "      <td>393</td>\n",
       "      <td>38.84</td>\n",
       "      <td>23.2902</td>\n",
       "    </tr>\n",
       "  </tbody>\n",
       "</table>\n",
       "</div>"
      ],
      "text/plain": [
       "    asset  cycle  setting1  setting2  sensor2  sensor3  sensor4  sensor6  \\\n",
       "30      1     31   -0.0006    0.0004   642.58  1581.22  1398.91    21.61   \n",
       "31      2      1   -0.0009    0.0004   642.66  1589.30  1407.16    21.61   \n",
       "32      2      2   -0.0011    0.0002   642.51  1588.43  1405.47    21.61   \n",
       "\n",
       "    sensor7  sensor8  sensor9  sensor11  sensor12  sensor13  sensor14  \\\n",
       "30   554.42  2388.08  9056.40     47.23    521.79   2388.06   8130.11   \n",
       "31   553.14  2388.10  9040.20     47.43    521.62   2388.14   8129.59   \n",
       "32   553.53  2388.07  9053.77     47.45    522.02   2388.08   8120.05   \n",
       "\n",
       "    sensor15  sensor17  sensor20  sensor21  \n",
       "30    8.4024       393     38.81   23.3552  \n",
       "31    8.4283       392     39.00   23.3923  \n",
       "32    8.4414       393     38.84   23.2902  "
      ]
     },
     "execution_count": 43,
     "metadata": {},
     "output_type": "execute_result"
    }
   ],
   "source": [
    "data_test.iloc[30:33,:]"
   ]
  },
  {
   "cell_type": "code",
   "execution_count": 44,
   "metadata": {
    "ExecuteTime": {
     "end_time": "2019-10-24T13:55:54.953851Z",
     "start_time": "2019-10-24T13:55:54.945842Z"
    }
   },
   "outputs": [
    {
     "data": {
      "text/html": [
       "<div>\n",
       "<style scoped>\n",
       "    .dataframe tbody tr th:only-of-type {\n",
       "        vertical-align: middle;\n",
       "    }\n",
       "\n",
       "    .dataframe tbody tr th {\n",
       "        vertical-align: top;\n",
       "    }\n",
       "\n",
       "    .dataframe thead th {\n",
       "        text-align: right;\n",
       "    }\n",
       "</style>\n",
       "<table border=\"1\" class=\"dataframe\">\n",
       "  <thead>\n",
       "    <tr style=\"text-align: right;\">\n",
       "      <th></th>\n",
       "      <th>TTF</th>\n",
       "      <th>TTF_</th>\n",
       "    </tr>\n",
       "  </thead>\n",
       "  <tbody>\n",
       "    <tr>\n",
       "      <th>30</th>\n",
       "      <td>112.0</td>\n",
       "      <td>more100</td>\n",
       "    </tr>\n",
       "    <tr>\n",
       "      <th>31</th>\n",
       "      <td>146.0</td>\n",
       "      <td>more100</td>\n",
       "    </tr>\n",
       "    <tr>\n",
       "      <th>32</th>\n",
       "      <td>145.0</td>\n",
       "      <td>more100</td>\n",
       "    </tr>\n",
       "  </tbody>\n",
       "</table>\n",
       "</div>"
      ],
      "text/plain": [
       "      TTF     TTF_\n",
       "30  112.0  more100\n",
       "31  146.0  more100\n",
       "32  145.0  more100"
      ]
     },
     "execution_count": 44,
     "metadata": {},
     "output_type": "execute_result"
    }
   ],
   "source": [
    "y_test_long[30:33]"
   ]
  },
  {
   "cell_type": "code",
   "execution_count": 45,
   "metadata": {
    "ExecuteTime": {
     "end_time": "2019-10-24T13:55:54.960845Z",
     "start_time": "2019-10-24T13:55:54.954844Z"
    }
   },
   "outputs": [
    {
     "data": {
      "text/plain": [
       "more100    10531\n",
       "50to100     5000\n",
       "10to50      4000\n",
       "less10      1100\n",
       "Name: TTF_, dtype: int64"
      ]
     },
     "execution_count": 45,
     "metadata": {},
     "output_type": "execute_result"
    }
   ],
   "source": [
    "y.TTF_.value_counts()"
   ]
  },
  {
   "cell_type": "code",
   "execution_count": 46,
   "metadata": {
    "ExecuteTime": {
     "end_time": "2019-10-24T13:55:55.058876Z",
     "start_time": "2019-10-24T13:55:54.961844Z"
    }
   },
   "outputs": [
    {
     "data": {
      "text/plain": [
       "<matplotlib.collections.PathCollection at 0x255faa1c128>"
      ]
     },
     "execution_count": 46,
     "metadata": {},
     "output_type": "execute_result"
    },
    {
     "data": {
      "image/png": "[encoded data removed]",
      "text/plain": [
       "<Figure size 432x288 with 1 Axes>"
      ]
     },
     "metadata": {
      "needs_background": "light"
     },
     "output_type": "display_data"
    }
   ],
   "source": [
    "plt.scatter(x=['1','2','3','4'],y=y_test_long.TTF_.value_counts())\n",
    "plt.scatter(x=['1','2','3','4'],y=y.TTF_.value_counts())"
   ]
  },
  {
   "cell_type": "markdown",
   "metadata": {},
   "source": [
    "# Preparing train and val data"
   ]
  },
  {
   "cell_type": "code",
   "execution_count": 47,
   "metadata": {
    "ExecuteTime": {
     "end_time": "2019-10-24T13:55:55.063881Z",
     "start_time": "2019-10-24T13:55:55.059845Z"
    }
   },
   "outputs": [
    {
     "data": {
      "text/plain": [
       "17618"
      ]
     },
     "execution_count": 47,
     "metadata": {},
     "output_type": "execute_result"
    }
   ],
   "source": [
    "# leaving last 3013 items (it's 14 assets) for validation\n",
    "idx = data.shape[0]-3013\n",
    "idx"
   ]
  },
  {
   "cell_type": "code",
   "execution_count": 48,
   "metadata": {
    "ExecuteTime": {
     "end_time": "2019-10-24T13:55:55.074883Z",
     "start_time": "2019-10-24T13:55:55.064886Z"
    }
   },
   "outputs": [
    {
     "data": {
      "text/plain": [
       "(       asset  cycle\n",
       " 17616     86    277\n",
       " 17617     86    278,        asset  cycle\n",
       " 17618     87      1\n",
       " 17619     87      2)"
      ]
     },
     "execution_count": 48,
     "metadata": {},
     "output_type": "execute_result"
    }
   ],
   "source": [
    "data.iloc[:idx,:][['asset','cycle']].tail(2),data.iloc[idx:,:][['asset','cycle']].head(2)"
   ]
  },
  {
   "cell_type": "code",
   "execution_count": 49,
   "metadata": {
    "ExecuteTime": {
     "end_time": "2019-10-24T13:55:55.079844Z",
     "start_time": "2019-10-24T13:55:55.075844Z"
    }
   },
   "outputs": [],
   "source": [
    "data_train = data.iloc[:idx,:]\n",
    "data_val = data.iloc[idx:,:]\n",
    "y_train = y[:idx]\n",
    "y_val = y[idx:]"
   ]
  },
  {
   "cell_type": "code",
   "execution_count": 50,
   "metadata": {
    "ExecuteTime": {
     "end_time": "2019-10-24T13:55:55.091845Z",
     "start_time": "2019-10-24T13:55:55.081842Z"
    }
   },
   "outputs": [
    {
     "data": {
      "text/html": [
       "<div>\n",
       "<style scoped>\n",
       "    .dataframe tbody tr th:only-of-type {\n",
       "        vertical-align: middle;\n",
       "    }\n",
       "\n",
       "    .dataframe tbody tr th {\n",
       "        vertical-align: top;\n",
       "    }\n",
       "\n",
       "    .dataframe thead th {\n",
       "        text-align: right;\n",
       "    }\n",
       "</style>\n",
       "<table border=\"1\" class=\"dataframe\">\n",
       "  <thead>\n",
       "    <tr style=\"text-align: right;\">\n",
       "      <th></th>\n",
       "      <th>TTF</th>\n",
       "      <th>TTF_</th>\n",
       "    </tr>\n",
       "  </thead>\n",
       "  <tbody>\n",
       "    <tr>\n",
       "      <th>0</th>\n",
       "      <td>142.0</td>\n",
       "      <td>more100</td>\n",
       "    </tr>\n",
       "    <tr>\n",
       "      <th>1</th>\n",
       "      <td>141.0</td>\n",
       "      <td>more100</td>\n",
       "    </tr>\n",
       "    <tr>\n",
       "      <th>2</th>\n",
       "      <td>140.0</td>\n",
       "      <td>more100</td>\n",
       "    </tr>\n",
       "    <tr>\n",
       "      <th>3</th>\n",
       "      <td>139.0</td>\n",
       "      <td>more100</td>\n",
       "    </tr>\n",
       "    <tr>\n",
       "      <th>4</th>\n",
       "      <td>138.0</td>\n",
       "      <td>more100</td>\n",
       "    </tr>\n",
       "  </tbody>\n",
       "</table>\n",
       "</div>"
      ],
      "text/plain": [
       "     TTF     TTF_\n",
       "0  142.0  more100\n",
       "1  141.0  more100\n",
       "2  140.0  more100\n",
       "3  139.0  more100\n",
       "4  138.0  more100"
      ]
     },
     "execution_count": 50,
     "metadata": {},
     "output_type": "execute_result"
    }
   ],
   "source": [
    "y_test_long.head()"
   ]
  },
  {
   "cell_type": "code",
   "execution_count": 51,
   "metadata": {
    "ExecuteTime": {
     "end_time": "2019-10-24T13:55:55.096879Z",
     "start_time": "2019-10-24T13:55:55.092845Z"
    }
   },
   "outputs": [
    {
     "data": {
      "text/plain": [
       "((17618, 19), (17618, 2), (3013, 19), (3013, 2))"
      ]
     },
     "execution_count": 51,
     "metadata": {},
     "output_type": "execute_result"
    }
   ],
   "source": [
    "data_train.shape,y_train.shape,data_val.shape,y_val.shape"
   ]
  },
  {
   "cell_type": "code",
   "execution_count": 52,
   "metadata": {
    "ExecuteTime": {
     "end_time": "2019-10-24T13:55:55.104845Z",
     "start_time": "2019-10-24T13:55:55.097844Z"
    }
   },
   "outputs": [
    {
     "data": {
      "text/plain": [
       "((17618, 19), (13096, 19))"
      ]
     },
     "execution_count": 52,
     "metadata": {},
     "output_type": "execute_result"
    }
   ],
   "source": [
    "data_train.shape,data_test.shape"
   ]
  },
  {
   "cell_type": "code",
   "execution_count": 53,
   "metadata": {
    "ExecuteTime": {
     "end_time": "2019-10-24T13:55:55.108847Z",
     "start_time": "2019-10-24T13:55:55.105847Z"
    }
   },
   "outputs": [
    {
     "name": "stdout",
     "output_type": "stream",
     "text": [
      "17618 100 3013\n",
      "(17618, 19) (13096, 19) (3013, 19)\n"
     ]
    }
   ],
   "source": [
    "print(len(y_train),len(y_test),len(y_val))\n",
    "print(data_train.shape,data_test.shape,data_val.shape)"
   ]
  },
  {
   "cell_type": "code",
   "execution_count": 54,
   "metadata": {
    "ExecuteTime": {
     "end_time": "2019-10-24T13:55:55.126843Z",
     "start_time": "2019-10-24T13:55:55.110846Z"
    }
   },
   "outputs": [
    {
     "data": {
      "text/html": [
       "<div>\n",
       "<style scoped>\n",
       "    .dataframe tbody tr th:only-of-type {\n",
       "        vertical-align: middle;\n",
       "    }\n",
       "\n",
       "    .dataframe tbody tr th {\n",
       "        vertical-align: top;\n",
       "    }\n",
       "\n",
       "    .dataframe thead th {\n",
       "        text-align: right;\n",
       "    }\n",
       "</style>\n",
       "<table border=\"1\" class=\"dataframe\">\n",
       "  <thead>\n",
       "    <tr style=\"text-align: right;\">\n",
       "      <th></th>\n",
       "      <th>asset</th>\n",
       "      <th>cycle</th>\n",
       "      <th>setting1</th>\n",
       "      <th>setting2</th>\n",
       "      <th>sensor2</th>\n",
       "      <th>sensor3</th>\n",
       "      <th>sensor4</th>\n",
       "      <th>sensor6</th>\n",
       "      <th>sensor7</th>\n",
       "      <th>sensor8</th>\n",
       "      <th>sensor9</th>\n",
       "      <th>sensor11</th>\n",
       "      <th>sensor12</th>\n",
       "      <th>sensor13</th>\n",
       "      <th>sensor14</th>\n",
       "      <th>sensor15</th>\n",
       "      <th>sensor17</th>\n",
       "      <th>sensor20</th>\n",
       "      <th>sensor21</th>\n",
       "    </tr>\n",
       "  </thead>\n",
       "  <tbody>\n",
       "    <tr>\n",
       "      <th>0</th>\n",
       "      <td>1</td>\n",
       "      <td>1</td>\n",
       "      <td>-0.0007</td>\n",
       "      <td>-0.0004</td>\n",
       "      <td>641.82</td>\n",
       "      <td>1589.70</td>\n",
       "      <td>1400.60</td>\n",
       "      <td>21.61</td>\n",
       "      <td>554.36</td>\n",
       "      <td>2388.06</td>\n",
       "      <td>9046.19</td>\n",
       "      <td>47.47</td>\n",
       "      <td>521.66</td>\n",
       "      <td>2388.02</td>\n",
       "      <td>8138.62</td>\n",
       "      <td>8.4195</td>\n",
       "      <td>392</td>\n",
       "      <td>39.06</td>\n",
       "      <td>23.4190</td>\n",
       "    </tr>\n",
       "    <tr>\n",
       "      <th>1</th>\n",
       "      <td>1</td>\n",
       "      <td>2</td>\n",
       "      <td>0.0019</td>\n",
       "      <td>-0.0003</td>\n",
       "      <td>642.15</td>\n",
       "      <td>1591.82</td>\n",
       "      <td>1403.14</td>\n",
       "      <td>21.61</td>\n",
       "      <td>553.75</td>\n",
       "      <td>2388.04</td>\n",
       "      <td>9044.07</td>\n",
       "      <td>47.49</td>\n",
       "      <td>522.28</td>\n",
       "      <td>2388.07</td>\n",
       "      <td>8131.49</td>\n",
       "      <td>8.4318</td>\n",
       "      <td>392</td>\n",
       "      <td>39.00</td>\n",
       "      <td>23.4236</td>\n",
       "    </tr>\n",
       "    <tr>\n",
       "      <th>2</th>\n",
       "      <td>1</td>\n",
       "      <td>3</td>\n",
       "      <td>-0.0043</td>\n",
       "      <td>0.0003</td>\n",
       "      <td>642.35</td>\n",
       "      <td>1587.99</td>\n",
       "      <td>1404.20</td>\n",
       "      <td>21.61</td>\n",
       "      <td>554.26</td>\n",
       "      <td>2388.08</td>\n",
       "      <td>9052.94</td>\n",
       "      <td>47.27</td>\n",
       "      <td>522.42</td>\n",
       "      <td>2388.03</td>\n",
       "      <td>8133.23</td>\n",
       "      <td>8.4178</td>\n",
       "      <td>390</td>\n",
       "      <td>38.95</td>\n",
       "      <td>23.3442</td>\n",
       "    </tr>\n",
       "    <tr>\n",
       "      <th>3</th>\n",
       "      <td>1</td>\n",
       "      <td>4</td>\n",
       "      <td>0.0007</td>\n",
       "      <td>0.0000</td>\n",
       "      <td>642.35</td>\n",
       "      <td>1582.79</td>\n",
       "      <td>1401.87</td>\n",
       "      <td>21.61</td>\n",
       "      <td>554.45</td>\n",
       "      <td>2388.11</td>\n",
       "      <td>9049.48</td>\n",
       "      <td>47.13</td>\n",
       "      <td>522.86</td>\n",
       "      <td>2388.08</td>\n",
       "      <td>8133.83</td>\n",
       "      <td>8.3682</td>\n",
       "      <td>392</td>\n",
       "      <td>38.88</td>\n",
       "      <td>23.3739</td>\n",
       "    </tr>\n",
       "    <tr>\n",
       "      <th>4</th>\n",
       "      <td>1</td>\n",
       "      <td>5</td>\n",
       "      <td>-0.0019</td>\n",
       "      <td>-0.0002</td>\n",
       "      <td>642.37</td>\n",
       "      <td>1582.85</td>\n",
       "      <td>1406.22</td>\n",
       "      <td>21.61</td>\n",
       "      <td>554.00</td>\n",
       "      <td>2388.06</td>\n",
       "      <td>9055.15</td>\n",
       "      <td>47.28</td>\n",
       "      <td>522.19</td>\n",
       "      <td>2388.04</td>\n",
       "      <td>8133.80</td>\n",
       "      <td>8.4294</td>\n",
       "      <td>393</td>\n",
       "      <td>38.90</td>\n",
       "      <td>23.4044</td>\n",
       "    </tr>\n",
       "  </tbody>\n",
       "</table>\n",
       "</div>"
      ],
      "text/plain": [
       "   asset  cycle  setting1  setting2  sensor2  sensor3  sensor4  sensor6  \\\n",
       "0      1      1   -0.0007   -0.0004   641.82  1589.70  1400.60    21.61   \n",
       "1      1      2    0.0019   -0.0003   642.15  1591.82  1403.14    21.61   \n",
       "2      1      3   -0.0043    0.0003   642.35  1587.99  1404.20    21.61   \n",
       "3      1      4    0.0007    0.0000   642.35  1582.79  1401.87    21.61   \n",
       "4      1      5   -0.0019   -0.0002   642.37  1582.85  1406.22    21.61   \n",
       "\n",
       "   sensor7  sensor8  sensor9  sensor11  sensor12  sensor13  sensor14  \\\n",
       "0   554.36  2388.06  9046.19     47.47    521.66   2388.02   8138.62   \n",
       "1   553.75  2388.04  9044.07     47.49    522.28   2388.07   8131.49   \n",
       "2   554.26  2388.08  9052.94     47.27    522.42   2388.03   8133.23   \n",
       "3   554.45  2388.11  9049.48     47.13    522.86   2388.08   8133.83   \n",
       "4   554.00  2388.06  9055.15     47.28    522.19   2388.04   8133.80   \n",
       "\n",
       "   sensor15  sensor17  sensor20  sensor21  \n",
       "0    8.4195       392     39.06   23.4190  \n",
       "1    8.4318       392     39.00   23.4236  \n",
       "2    8.4178       390     38.95   23.3442  \n",
       "3    8.3682       392     38.88   23.3739  \n",
       "4    8.4294       393     38.90   23.4044  "
      ]
     },
     "execution_count": 54,
     "metadata": {},
     "output_type": "execute_result"
    }
   ],
   "source": [
    "data_train.head()"
   ]
  },
  {
   "cell_type": "code",
   "execution_count": 55,
   "metadata": {
    "ExecuteTime": {
     "end_time": "2019-10-24T13:55:55.133844Z",
     "start_time": "2019-10-24T13:55:55.127841Z"
    }
   },
   "outputs": [],
   "source": [
    "def plot_param(param):\n",
    "    plt.figure(figsize=(15,5))\n",
    "    plt.subplot(1,2,1)\n",
    "    plt.hist(data_train[param],label='train',normed=True);\n",
    "    plt.hist(data_val[param],label='val',normed=True,alpha = 0.5);\n",
    "    plt.legend()\n",
    "    plt.subplot(1,2,2)\n",
    "    plt.hist(data_train[param],label='train',normed=True);\n",
    "    plt.hist(data_test[param],label='test',normed=True,alpha = 0.5);\n",
    "    plt.legend()"
   ]
  },
  {
   "cell_type": "code",
   "execution_count": 56,
   "metadata": {
    "ExecuteTime": {
     "end_time": "2019-10-24T13:55:55.509893Z",
     "start_time": "2019-10-24T13:55:55.134876Z"
    }
   },
   "outputs": [
    {
     "name": "stderr",
     "output_type": "stream",
     "text": [
      "C:\\Users\\tsar\\AppData\\Local\\conda\\conda\\envs\\py36\\lib\\site-packages\\matplotlib\\axes\\_axes.py:6521: MatplotlibDeprecationWarning: \n",
      "The 'normed' kwarg was deprecated in Matplotlib 2.1 and will be removed in 3.1. Use 'density' instead.\n",
      "  alternative=\"'density'\", removal=\"3.1\")\n"
     ]
    },
    {
     "data": {
      "image/png": "[encoded data removed]",
      "text/plain": [
       "<Figure size 1080x360 with 2 Axes>"
      ]
     },
     "metadata": {
      "needs_background": "light"
     },
     "output_type": "display_data"
    }
   ],
   "source": [
    "plot_param('setting1')"
   ]
  },
  {
   "cell_type": "code",
   "execution_count": 57,
   "metadata": {
    "ExecuteTime": {
     "end_time": "2019-10-24T13:55:55.517846Z",
     "start_time": "2019-10-24T13:55:55.510883Z"
    }
   },
   "outputs": [],
   "source": [
    "rng1=None\n",
    "rng2=slice(2, None)\n",
    "data_train=data_train.iloc[:rng1,rng2]\n",
    "data_val=data_val.iloc[:rng1,rng2]\n",
    "data_test=data_test.iloc[:rng1,rng2]\n",
    "y_train=y_train[:rng1]\n",
    "y_val=y_val[:rng1]\n",
    "y_test_long=y_test_long[:rng1]"
   ]
  },
  {
   "cell_type": "code",
   "execution_count": 58,
   "metadata": {
    "ExecuteTime": {
     "end_time": "2019-10-24T13:55:55.522870Z",
     "start_time": "2019-10-24T13:55:55.518846Z"
    }
   },
   "outputs": [],
   "source": [
    "#data_train.head(),data_val.head(),data_test.head()"
   ]
  },
  {
   "cell_type": "code",
   "execution_count": 59,
   "metadata": {
    "ExecuteTime": {
     "end_time": "2019-10-24T13:55:55.529846Z",
     "start_time": "2019-10-24T13:55:55.523845Z"
    }
   },
   "outputs": [
    {
     "data": {
      "text/plain": [
       "(17618, 17)"
      ]
     },
     "execution_count": 59,
     "metadata": {},
     "output_type": "execute_result"
    }
   ],
   "source": [
    "data_train.shape"
   ]
  },
  {
   "cell_type": "code",
   "execution_count": 60,
   "metadata": {
    "ExecuteTime": {
     "end_time": "2019-10-24T13:55:55.546879Z",
     "start_time": "2019-10-24T13:55:55.530874Z"
    }
   },
   "outputs": [
    {
     "data": {
      "text/html": [
       "<div>\n",
       "<style scoped>\n",
       "    .dataframe tbody tr th:only-of-type {\n",
       "        vertical-align: middle;\n",
       "    }\n",
       "\n",
       "    .dataframe tbody tr th {\n",
       "        vertical-align: top;\n",
       "    }\n",
       "\n",
       "    .dataframe thead th {\n",
       "        text-align: right;\n",
       "    }\n",
       "</style>\n",
       "<table border=\"1\" class=\"dataframe\">\n",
       "  <thead>\n",
       "    <tr style=\"text-align: right;\">\n",
       "      <th></th>\n",
       "      <th>setting1</th>\n",
       "      <th>setting2</th>\n",
       "      <th>sensor2</th>\n",
       "      <th>sensor3</th>\n",
       "      <th>sensor4</th>\n",
       "      <th>sensor6</th>\n",
       "      <th>sensor7</th>\n",
       "      <th>sensor8</th>\n",
       "      <th>sensor9</th>\n",
       "      <th>sensor11</th>\n",
       "      <th>sensor12</th>\n",
       "      <th>sensor13</th>\n",
       "      <th>sensor14</th>\n",
       "      <th>sensor15</th>\n",
       "      <th>sensor17</th>\n",
       "      <th>sensor20</th>\n",
       "      <th>sensor21</th>\n",
       "    </tr>\n",
       "  </thead>\n",
       "  <tbody>\n",
       "    <tr>\n",
       "      <th>0</th>\n",
       "      <td>-0.0007</td>\n",
       "      <td>-0.0004</td>\n",
       "      <td>641.82</td>\n",
       "      <td>1589.70</td>\n",
       "      <td>1400.60</td>\n",
       "      <td>21.61</td>\n",
       "      <td>554.36</td>\n",
       "      <td>2388.06</td>\n",
       "      <td>9046.19</td>\n",
       "      <td>47.47</td>\n",
       "      <td>521.66</td>\n",
       "      <td>2388.02</td>\n",
       "      <td>8138.62</td>\n",
       "      <td>8.4195</td>\n",
       "      <td>392</td>\n",
       "      <td>39.06</td>\n",
       "      <td>23.4190</td>\n",
       "    </tr>\n",
       "    <tr>\n",
       "      <th>1</th>\n",
       "      <td>0.0019</td>\n",
       "      <td>-0.0003</td>\n",
       "      <td>642.15</td>\n",
       "      <td>1591.82</td>\n",
       "      <td>1403.14</td>\n",
       "      <td>21.61</td>\n",
       "      <td>553.75</td>\n",
       "      <td>2388.04</td>\n",
       "      <td>9044.07</td>\n",
       "      <td>47.49</td>\n",
       "      <td>522.28</td>\n",
       "      <td>2388.07</td>\n",
       "      <td>8131.49</td>\n",
       "      <td>8.4318</td>\n",
       "      <td>392</td>\n",
       "      <td>39.00</td>\n",
       "      <td>23.4236</td>\n",
       "    </tr>\n",
       "    <tr>\n",
       "      <th>2</th>\n",
       "      <td>-0.0043</td>\n",
       "      <td>0.0003</td>\n",
       "      <td>642.35</td>\n",
       "      <td>1587.99</td>\n",
       "      <td>1404.20</td>\n",
       "      <td>21.61</td>\n",
       "      <td>554.26</td>\n",
       "      <td>2388.08</td>\n",
       "      <td>9052.94</td>\n",
       "      <td>47.27</td>\n",
       "      <td>522.42</td>\n",
       "      <td>2388.03</td>\n",
       "      <td>8133.23</td>\n",
       "      <td>8.4178</td>\n",
       "      <td>390</td>\n",
       "      <td>38.95</td>\n",
       "      <td>23.3442</td>\n",
       "    </tr>\n",
       "    <tr>\n",
       "      <th>3</th>\n",
       "      <td>0.0007</td>\n",
       "      <td>0.0000</td>\n",
       "      <td>642.35</td>\n",
       "      <td>1582.79</td>\n",
       "      <td>1401.87</td>\n",
       "      <td>21.61</td>\n",
       "      <td>554.45</td>\n",
       "      <td>2388.11</td>\n",
       "      <td>9049.48</td>\n",
       "      <td>47.13</td>\n",
       "      <td>522.86</td>\n",
       "      <td>2388.08</td>\n",
       "      <td>8133.83</td>\n",
       "      <td>8.3682</td>\n",
       "      <td>392</td>\n",
       "      <td>38.88</td>\n",
       "      <td>23.3739</td>\n",
       "    </tr>\n",
       "    <tr>\n",
       "      <th>4</th>\n",
       "      <td>-0.0019</td>\n",
       "      <td>-0.0002</td>\n",
       "      <td>642.37</td>\n",
       "      <td>1582.85</td>\n",
       "      <td>1406.22</td>\n",
       "      <td>21.61</td>\n",
       "      <td>554.00</td>\n",
       "      <td>2388.06</td>\n",
       "      <td>9055.15</td>\n",
       "      <td>47.28</td>\n",
       "      <td>522.19</td>\n",
       "      <td>2388.04</td>\n",
       "      <td>8133.80</td>\n",
       "      <td>8.4294</td>\n",
       "      <td>393</td>\n",
       "      <td>38.90</td>\n",
       "      <td>23.4044</td>\n",
       "    </tr>\n",
       "  </tbody>\n",
       "</table>\n",
       "</div>"
      ],
      "text/plain": [
       "   setting1  setting2  sensor2  sensor3  sensor4  sensor6  sensor7  sensor8  \\\n",
       "0   -0.0007   -0.0004   641.82  1589.70  1400.60    21.61   554.36  2388.06   \n",
       "1    0.0019   -0.0003   642.15  1591.82  1403.14    21.61   553.75  2388.04   \n",
       "2   -0.0043    0.0003   642.35  1587.99  1404.20    21.61   554.26  2388.08   \n",
       "3    0.0007    0.0000   642.35  1582.79  1401.87    21.61   554.45  2388.11   \n",
       "4   -0.0019   -0.0002   642.37  1582.85  1406.22    21.61   554.00  2388.06   \n",
       "\n",
       "   sensor9  sensor11  sensor12  sensor13  sensor14  sensor15  sensor17  \\\n",
       "0  9046.19     47.47    521.66   2388.02   8138.62    8.4195       392   \n",
       "1  9044.07     47.49    522.28   2388.07   8131.49    8.4318       392   \n",
       "2  9052.94     47.27    522.42   2388.03   8133.23    8.4178       390   \n",
       "3  9049.48     47.13    522.86   2388.08   8133.83    8.3682       392   \n",
       "4  9055.15     47.28    522.19   2388.04   8133.80    8.4294       393   \n",
       "\n",
       "   sensor20  sensor21  \n",
       "0     39.06   23.4190  \n",
       "1     39.00   23.4236  \n",
       "2     38.95   23.3442  \n",
       "3     38.88   23.3739  \n",
       "4     38.90   23.4044  "
      ]
     },
     "execution_count": 60,
     "metadata": {},
     "output_type": "execute_result"
    }
   ],
   "source": [
    "data_train.head()"
   ]
  },
  {
   "cell_type": "markdown",
   "metadata": {},
   "source": [
    "# Checking if the test data comes from the same distribution"
   ]
  },
  {
   "cell_type": "markdown",
   "metadata": {},
   "source": [
    "Trying to predict test data to find out if it's from a different distribution"
   ]
  },
  {
   "cell_type": "code",
   "execution_count": 61,
   "metadata": {
    "ExecuteTime": {
     "end_time": "2019-10-24T13:55:55.553844Z",
     "start_time": "2019-10-24T13:55:55.547879Z"
    }
   },
   "outputs": [
    {
     "data": {
      "text/plain": [
       "((20631, 19), (13096, 17))"
      ]
     },
     "execution_count": 61,
     "metadata": {},
     "output_type": "execute_result"
    }
   ],
   "source": [
    "data.shape, data_test.shape"
   ]
  },
  {
   "cell_type": "code",
   "execution_count": 62,
   "metadata": {
    "ExecuteTime": {
     "end_time": "2019-10-24T13:55:55.570846Z",
     "start_time": "2019-10-24T13:55:55.554844Z"
    }
   },
   "outputs": [
    {
     "data": {
      "text/html": [
       "<div>\n",
       "<style scoped>\n",
       "    .dataframe tbody tr th:only-of-type {\n",
       "        vertical-align: middle;\n",
       "    }\n",
       "\n",
       "    .dataframe tbody tr th {\n",
       "        vertical-align: top;\n",
       "    }\n",
       "\n",
       "    .dataframe thead th {\n",
       "        text-align: right;\n",
       "    }\n",
       "</style>\n",
       "<table border=\"1\" class=\"dataframe\">\n",
       "  <thead>\n",
       "    <tr style=\"text-align: right;\">\n",
       "      <th></th>\n",
       "      <th>asset</th>\n",
       "      <th>cycle</th>\n",
       "      <th>setting1</th>\n",
       "      <th>setting2</th>\n",
       "      <th>sensor2</th>\n",
       "      <th>sensor3</th>\n",
       "      <th>sensor4</th>\n",
       "      <th>sensor6</th>\n",
       "      <th>sensor7</th>\n",
       "      <th>sensor8</th>\n",
       "      <th>sensor9</th>\n",
       "      <th>sensor11</th>\n",
       "      <th>sensor12</th>\n",
       "      <th>sensor13</th>\n",
       "      <th>sensor14</th>\n",
       "      <th>sensor15</th>\n",
       "      <th>sensor17</th>\n",
       "      <th>sensor20</th>\n",
       "      <th>sensor21</th>\n",
       "    </tr>\n",
       "  </thead>\n",
       "  <tbody>\n",
       "    <tr>\n",
       "      <th>13091</th>\n",
       "      <td>66</td>\n",
       "      <td>175</td>\n",
       "      <td>-0.0020</td>\n",
       "      <td>-0.0002</td>\n",
       "      <td>643.30</td>\n",
       "      <td>1600.35</td>\n",
       "      <td>1423.58</td>\n",
       "      <td>21.61</td>\n",
       "      <td>552.57</td>\n",
       "      <td>2388.19</td>\n",
       "      <td>9066.12</td>\n",
       "      <td>48.04</td>\n",
       "      <td>519.96</td>\n",
       "      <td>2388.19</td>\n",
       "      <td>8142.13</td>\n",
       "      <td>8.5161</td>\n",
       "      <td>393</td>\n",
       "      <td>38.53</td>\n",
       "      <td>23.1516</td>\n",
       "    </tr>\n",
       "    <tr>\n",
       "      <th>13092</th>\n",
       "      <td>66</td>\n",
       "      <td>176</td>\n",
       "      <td>0.0027</td>\n",
       "      <td>-0.0004</td>\n",
       "      <td>643.46</td>\n",
       "      <td>1597.68</td>\n",
       "      <td>1420.84</td>\n",
       "      <td>21.61</td>\n",
       "      <td>552.13</td>\n",
       "      <td>2388.23</td>\n",
       "      <td>9069.49</td>\n",
       "      <td>48.02</td>\n",
       "      <td>520.85</td>\n",
       "      <td>2388.20</td>\n",
       "      <td>8144.80</td>\n",
       "      <td>8.4722</td>\n",
       "      <td>394</td>\n",
       "      <td>38.58</td>\n",
       "      <td>23.1050</td>\n",
       "    </tr>\n",
       "    <tr>\n",
       "      <th>13093</th>\n",
       "      <td>66</td>\n",
       "      <td>177</td>\n",
       "      <td>0.0011</td>\n",
       "      <td>0.0002</td>\n",
       "      <td>643.42</td>\n",
       "      <td>1604.56</td>\n",
       "      <td>1419.93</td>\n",
       "      <td>21.61</td>\n",
       "      <td>551.87</td>\n",
       "      <td>2388.21</td>\n",
       "      <td>9072.37</td>\n",
       "      <td>47.93</td>\n",
       "      <td>519.71</td>\n",
       "      <td>2388.20</td>\n",
       "      <td>8143.68</td>\n",
       "      <td>8.5005</td>\n",
       "      <td>395</td>\n",
       "      <td>38.53</td>\n",
       "      <td>23.0751</td>\n",
       "    </tr>\n",
       "    <tr>\n",
       "      <th>13094</th>\n",
       "      <td>66</td>\n",
       "      <td>178</td>\n",
       "      <td>0.0023</td>\n",
       "      <td>0.0004</td>\n",
       "      <td>643.72</td>\n",
       "      <td>1595.63</td>\n",
       "      <td>1421.71</td>\n",
       "      <td>21.61</td>\n",
       "      <td>551.96</td>\n",
       "      <td>2388.21</td>\n",
       "      <td>9066.94</td>\n",
       "      <td>48.08</td>\n",
       "      <td>520.44</td>\n",
       "      <td>2388.20</td>\n",
       "      <td>8149.60</td>\n",
       "      <td>8.4975</td>\n",
       "      <td>395</td>\n",
       "      <td>38.61</td>\n",
       "      <td>23.2215</td>\n",
       "    </tr>\n",
       "  </tbody>\n",
       "</table>\n",
       "</div>"
      ],
      "text/plain": [
       "       asset  cycle  setting1  setting2  sensor2  sensor3  sensor4  sensor6  \\\n",
       "13091     66    175   -0.0020   -0.0002   643.30  1600.35  1423.58    21.61   \n",
       "13092     66    176    0.0027   -0.0004   643.46  1597.68  1420.84    21.61   \n",
       "13093     66    177    0.0011    0.0002   643.42  1604.56  1419.93    21.61   \n",
       "13094     66    178    0.0023    0.0004   643.72  1595.63  1421.71    21.61   \n",
       "\n",
       "       sensor7  sensor8  sensor9  sensor11  sensor12  sensor13  sensor14  \\\n",
       "13091   552.57  2388.19  9066.12     48.04    519.96   2388.19   8142.13   \n",
       "13092   552.13  2388.23  9069.49     48.02    520.85   2388.20   8144.80   \n",
       "13093   551.87  2388.21  9072.37     47.93    519.71   2388.20   8143.68   \n",
       "13094   551.96  2388.21  9066.94     48.08    520.44   2388.20   8149.60   \n",
       "\n",
       "       sensor15  sensor17  sensor20  sensor21  \n",
       "13091    8.5161       393     38.53   23.1516  \n",
       "13092    8.4722       394     38.58   23.1050  \n",
       "13093    8.5005       395     38.53   23.0751  \n",
       "13094    8.4975       395     38.61   23.2215  "
      ]
     },
     "execution_count": 62,
     "metadata": {},
     "output_type": "execute_result"
    }
   ],
   "source": [
    "data.iloc[13091:13095,:]"
   ]
  },
  {
   "cell_type": "code",
   "execution_count": 63,
   "metadata": {
    "ExecuteTime": {
     "end_time": "2019-10-24T13:55:55.586879Z",
     "start_time": "2019-10-24T13:55:55.571882Z"
    }
   },
   "outputs": [
    {
     "data": {
      "text/html": [
       "<div>\n",
       "<style scoped>\n",
       "    .dataframe tbody tr th:only-of-type {\n",
       "        vertical-align: middle;\n",
       "    }\n",
       "\n",
       "    .dataframe tbody tr th {\n",
       "        vertical-align: top;\n",
       "    }\n",
       "\n",
       "    .dataframe thead th {\n",
       "        text-align: right;\n",
       "    }\n",
       "</style>\n",
       "<table border=\"1\" class=\"dataframe\">\n",
       "  <thead>\n",
       "    <tr style=\"text-align: right;\">\n",
       "      <th></th>\n",
       "      <th>setting1</th>\n",
       "      <th>setting2</th>\n",
       "      <th>sensor2</th>\n",
       "      <th>sensor3</th>\n",
       "      <th>sensor4</th>\n",
       "      <th>sensor6</th>\n",
       "      <th>sensor7</th>\n",
       "      <th>sensor8</th>\n",
       "      <th>sensor9</th>\n",
       "      <th>sensor11</th>\n",
       "      <th>sensor12</th>\n",
       "      <th>sensor13</th>\n",
       "      <th>sensor14</th>\n",
       "      <th>sensor15</th>\n",
       "      <th>sensor17</th>\n",
       "      <th>sensor20</th>\n",
       "      <th>sensor21</th>\n",
       "    </tr>\n",
       "  </thead>\n",
       "  <tbody>\n",
       "    <tr>\n",
       "      <th>13091</th>\n",
       "      <td>0.0049</td>\n",
       "      <td>0.0000</td>\n",
       "      <td>643.24</td>\n",
       "      <td>1599.45</td>\n",
       "      <td>1415.79</td>\n",
       "      <td>21.61</td>\n",
       "      <td>553.41</td>\n",
       "      <td>2388.02</td>\n",
       "      <td>9142.37</td>\n",
       "      <td>47.69</td>\n",
       "      <td>520.69</td>\n",
       "      <td>2388.00</td>\n",
       "      <td>8213.28</td>\n",
       "      <td>8.4715</td>\n",
       "      <td>394</td>\n",
       "      <td>38.65</td>\n",
       "      <td>23.1974</td>\n",
       "    </tr>\n",
       "    <tr>\n",
       "      <th>13092</th>\n",
       "      <td>-0.0011</td>\n",
       "      <td>-0.0001</td>\n",
       "      <td>643.22</td>\n",
       "      <td>1595.69</td>\n",
       "      <td>1422.05</td>\n",
       "      <td>21.61</td>\n",
       "      <td>553.22</td>\n",
       "      <td>2388.05</td>\n",
       "      <td>9140.68</td>\n",
       "      <td>47.60</td>\n",
       "      <td>521.05</td>\n",
       "      <td>2388.09</td>\n",
       "      <td>8210.85</td>\n",
       "      <td>8.4512</td>\n",
       "      <td>395</td>\n",
       "      <td>38.57</td>\n",
       "      <td>23.2771</td>\n",
       "    </tr>\n",
       "    <tr>\n",
       "      <th>13093</th>\n",
       "      <td>-0.0006</td>\n",
       "      <td>-0.0003</td>\n",
       "      <td>643.44</td>\n",
       "      <td>1593.15</td>\n",
       "      <td>1406.82</td>\n",
       "      <td>21.61</td>\n",
       "      <td>553.04</td>\n",
       "      <td>2388.11</td>\n",
       "      <td>9146.81</td>\n",
       "      <td>47.57</td>\n",
       "      <td>521.18</td>\n",
       "      <td>2388.04</td>\n",
       "      <td>8217.24</td>\n",
       "      <td>8.4569</td>\n",
       "      <td>395</td>\n",
       "      <td>38.62</td>\n",
       "      <td>23.2051</td>\n",
       "    </tr>\n",
       "    <tr>\n",
       "      <th>13094</th>\n",
       "      <td>-0.0038</td>\n",
       "      <td>0.0001</td>\n",
       "      <td>643.26</td>\n",
       "      <td>1594.99</td>\n",
       "      <td>1419.36</td>\n",
       "      <td>21.61</td>\n",
       "      <td>553.37</td>\n",
       "      <td>2388.07</td>\n",
       "      <td>9148.85</td>\n",
       "      <td>47.61</td>\n",
       "      <td>521.33</td>\n",
       "      <td>2388.08</td>\n",
       "      <td>8220.48</td>\n",
       "      <td>8.4711</td>\n",
       "      <td>395</td>\n",
       "      <td>38.66</td>\n",
       "      <td>23.2699</td>\n",
       "    </tr>\n",
       "    <tr>\n",
       "      <th>13095</th>\n",
       "      <td>0.0013</td>\n",
       "      <td>0.0003</td>\n",
       "      <td>642.95</td>\n",
       "      <td>1601.62</td>\n",
       "      <td>1424.99</td>\n",
       "      <td>21.61</td>\n",
       "      <td>552.48</td>\n",
       "      <td>2388.06</td>\n",
       "      <td>9155.03</td>\n",
       "      <td>47.80</td>\n",
       "      <td>521.07</td>\n",
       "      <td>2388.05</td>\n",
       "      <td>8214.64</td>\n",
       "      <td>8.4903</td>\n",
       "      <td>396</td>\n",
       "      <td>38.70</td>\n",
       "      <td>23.1855</td>\n",
       "    </tr>\n",
       "  </tbody>\n",
       "</table>\n",
       "</div>"
      ],
      "text/plain": [
       "       setting1  setting2  sensor2  sensor3  sensor4  sensor6  sensor7  \\\n",
       "13091    0.0049    0.0000   643.24  1599.45  1415.79    21.61   553.41   \n",
       "13092   -0.0011   -0.0001   643.22  1595.69  1422.05    21.61   553.22   \n",
       "13093   -0.0006   -0.0003   643.44  1593.15  1406.82    21.61   553.04   \n",
       "13094   -0.0038    0.0001   643.26  1594.99  1419.36    21.61   553.37   \n",
       "13095    0.0013    0.0003   642.95  1601.62  1424.99    21.61   552.48   \n",
       "\n",
       "       sensor8  sensor9  sensor11  sensor12  sensor13  sensor14  sensor15  \\\n",
       "13091  2388.02  9142.37     47.69    520.69   2388.00   8213.28    8.4715   \n",
       "13092  2388.05  9140.68     47.60    521.05   2388.09   8210.85    8.4512   \n",
       "13093  2388.11  9146.81     47.57    521.18   2388.04   8217.24    8.4569   \n",
       "13094  2388.07  9148.85     47.61    521.33   2388.08   8220.48    8.4711   \n",
       "13095  2388.06  9155.03     47.80    521.07   2388.05   8214.64    8.4903   \n",
       "\n",
       "       sensor17  sensor20  sensor21  \n",
       "13091       394     38.65   23.1974  \n",
       "13092       395     38.57   23.2771  \n",
       "13093       395     38.62   23.2051  \n",
       "13094       395     38.66   23.2699  \n",
       "13095       396     38.70   23.1855  "
      ]
     },
     "execution_count": 63,
     "metadata": {},
     "output_type": "execute_result"
    }
   ],
   "source": [
    "data_test.tail()"
   ]
  },
  {
   "cell_type": "code",
   "execution_count": 64,
   "metadata": {
    "ExecuteTime": {
     "end_time": "2019-10-24T13:55:55.606844Z",
     "start_time": "2019-10-24T13:55:55.587844Z"
    }
   },
   "outputs": [],
   "source": [
    "data_full = pd.concat([data_train,data_val,data_test]).reset_index(drop=True)"
   ]
  },
  {
   "cell_type": "code",
   "execution_count": 65,
   "metadata": {
    "ExecuteTime": {
     "end_time": "2019-10-24T13:55:55.623843Z",
     "start_time": "2019-10-24T13:55:55.607845Z"
    }
   },
   "outputs": [
    {
     "data": {
      "text/html": [
       "<div>\n",
       "<style scoped>\n",
       "    .dataframe tbody tr th:only-of-type {\n",
       "        vertical-align: middle;\n",
       "    }\n",
       "\n",
       "    .dataframe tbody tr th {\n",
       "        vertical-align: top;\n",
       "    }\n",
       "\n",
       "    .dataframe thead th {\n",
       "        text-align: right;\n",
       "    }\n",
       "</style>\n",
       "<table border=\"1\" class=\"dataframe\">\n",
       "  <thead>\n",
       "    <tr style=\"text-align: right;\">\n",
       "      <th></th>\n",
       "      <th>setting1</th>\n",
       "      <th>setting2</th>\n",
       "      <th>sensor2</th>\n",
       "      <th>sensor3</th>\n",
       "      <th>sensor4</th>\n",
       "      <th>sensor6</th>\n",
       "      <th>sensor7</th>\n",
       "      <th>sensor8</th>\n",
       "      <th>sensor9</th>\n",
       "      <th>sensor11</th>\n",
       "      <th>sensor12</th>\n",
       "      <th>sensor13</th>\n",
       "      <th>sensor14</th>\n",
       "      <th>sensor15</th>\n",
       "      <th>sensor17</th>\n",
       "      <th>sensor20</th>\n",
       "      <th>sensor21</th>\n",
       "    </tr>\n",
       "  </thead>\n",
       "  <tbody>\n",
       "    <tr>\n",
       "      <th>0</th>\n",
       "      <td>-0.0007</td>\n",
       "      <td>-0.0004</td>\n",
       "      <td>641.82</td>\n",
       "      <td>1589.70</td>\n",
       "      <td>1400.60</td>\n",
       "      <td>21.61</td>\n",
       "      <td>554.36</td>\n",
       "      <td>2388.06</td>\n",
       "      <td>9046.19</td>\n",
       "      <td>47.47</td>\n",
       "      <td>521.66</td>\n",
       "      <td>2388.02</td>\n",
       "      <td>8138.62</td>\n",
       "      <td>8.4195</td>\n",
       "      <td>392</td>\n",
       "      <td>39.06</td>\n",
       "      <td>23.4190</td>\n",
       "    </tr>\n",
       "    <tr>\n",
       "      <th>1</th>\n",
       "      <td>0.0019</td>\n",
       "      <td>-0.0003</td>\n",
       "      <td>642.15</td>\n",
       "      <td>1591.82</td>\n",
       "      <td>1403.14</td>\n",
       "      <td>21.61</td>\n",
       "      <td>553.75</td>\n",
       "      <td>2388.04</td>\n",
       "      <td>9044.07</td>\n",
       "      <td>47.49</td>\n",
       "      <td>522.28</td>\n",
       "      <td>2388.07</td>\n",
       "      <td>8131.49</td>\n",
       "      <td>8.4318</td>\n",
       "      <td>392</td>\n",
       "      <td>39.00</td>\n",
       "      <td>23.4236</td>\n",
       "    </tr>\n",
       "    <tr>\n",
       "      <th>2</th>\n",
       "      <td>-0.0043</td>\n",
       "      <td>0.0003</td>\n",
       "      <td>642.35</td>\n",
       "      <td>1587.99</td>\n",
       "      <td>1404.20</td>\n",
       "      <td>21.61</td>\n",
       "      <td>554.26</td>\n",
       "      <td>2388.08</td>\n",
       "      <td>9052.94</td>\n",
       "      <td>47.27</td>\n",
       "      <td>522.42</td>\n",
       "      <td>2388.03</td>\n",
       "      <td>8133.23</td>\n",
       "      <td>8.4178</td>\n",
       "      <td>390</td>\n",
       "      <td>38.95</td>\n",
       "      <td>23.3442</td>\n",
       "    </tr>\n",
       "    <tr>\n",
       "      <th>3</th>\n",
       "      <td>0.0007</td>\n",
       "      <td>0.0000</td>\n",
       "      <td>642.35</td>\n",
       "      <td>1582.79</td>\n",
       "      <td>1401.87</td>\n",
       "      <td>21.61</td>\n",
       "      <td>554.45</td>\n",
       "      <td>2388.11</td>\n",
       "      <td>9049.48</td>\n",
       "      <td>47.13</td>\n",
       "      <td>522.86</td>\n",
       "      <td>2388.08</td>\n",
       "      <td>8133.83</td>\n",
       "      <td>8.3682</td>\n",
       "      <td>392</td>\n",
       "      <td>38.88</td>\n",
       "      <td>23.3739</td>\n",
       "    </tr>\n",
       "    <tr>\n",
       "      <th>4</th>\n",
       "      <td>-0.0019</td>\n",
       "      <td>-0.0002</td>\n",
       "      <td>642.37</td>\n",
       "      <td>1582.85</td>\n",
       "      <td>1406.22</td>\n",
       "      <td>21.61</td>\n",
       "      <td>554.00</td>\n",
       "      <td>2388.06</td>\n",
       "      <td>9055.15</td>\n",
       "      <td>47.28</td>\n",
       "      <td>522.19</td>\n",
       "      <td>2388.04</td>\n",
       "      <td>8133.80</td>\n",
       "      <td>8.4294</td>\n",
       "      <td>393</td>\n",
       "      <td>38.90</td>\n",
       "      <td>23.4044</td>\n",
       "    </tr>\n",
       "  </tbody>\n",
       "</table>\n",
       "</div>"
      ],
      "text/plain": [
       "   setting1  setting2  sensor2  sensor3  sensor4  sensor6  sensor7  sensor8  \\\n",
       "0   -0.0007   -0.0004   641.82  1589.70  1400.60    21.61   554.36  2388.06   \n",
       "1    0.0019   -0.0003   642.15  1591.82  1403.14    21.61   553.75  2388.04   \n",
       "2   -0.0043    0.0003   642.35  1587.99  1404.20    21.61   554.26  2388.08   \n",
       "3    0.0007    0.0000   642.35  1582.79  1401.87    21.61   554.45  2388.11   \n",
       "4   -0.0019   -0.0002   642.37  1582.85  1406.22    21.61   554.00  2388.06   \n",
       "\n",
       "   sensor9  sensor11  sensor12  sensor13  sensor14  sensor15  sensor17  \\\n",
       "0  9046.19     47.47    521.66   2388.02   8138.62    8.4195       392   \n",
       "1  9044.07     47.49    522.28   2388.07   8131.49    8.4318       392   \n",
       "2  9052.94     47.27    522.42   2388.03   8133.23    8.4178       390   \n",
       "3  9049.48     47.13    522.86   2388.08   8133.83    8.3682       392   \n",
       "4  9055.15     47.28    522.19   2388.04   8133.80    8.4294       393   \n",
       "\n",
       "   sensor20  sensor21  \n",
       "0     39.06   23.4190  \n",
       "1     39.00   23.4236  \n",
       "2     38.95   23.3442  \n",
       "3     38.88   23.3739  \n",
       "4     38.90   23.4044  "
      ]
     },
     "execution_count": 65,
     "metadata": {},
     "output_type": "execute_result"
    }
   ],
   "source": [
    "data_full.head()"
   ]
  },
  {
   "cell_type": "code",
   "execution_count": 66,
   "metadata": {
    "ExecuteTime": {
     "end_time": "2019-10-24T13:55:55.629847Z",
     "start_time": "2019-10-24T13:55:55.624845Z"
    }
   },
   "outputs": [
    {
     "data": {
      "text/plain": [
       "(33727, 17)"
      ]
     },
     "execution_count": 66,
     "metadata": {},
     "output_type": "execute_result"
    }
   ],
   "source": [
    "data_full.shape"
   ]
  },
  {
   "cell_type": "code",
   "execution_count": 67,
   "metadata": {
    "ExecuteTime": {
     "end_time": "2019-10-24T13:55:55.633873Z",
     "start_time": "2019-10-24T13:55:55.630862Z"
    }
   },
   "outputs": [],
   "source": [
    "y_full = np.zeros(data_full.shape[0])"
   ]
  },
  {
   "cell_type": "code",
   "execution_count": 68,
   "metadata": {
    "ExecuteTime": {
     "end_time": "2019-10-24T13:55:55.641844Z",
     "start_time": "2019-10-24T13:55:55.634845Z"
    }
   },
   "outputs": [],
   "source": [
    "train_limit = 5000\n",
    "data_full_train = pd.concat([data_full[:train_limit],data_full[-train_limit:]])\n",
    "data_full_test = data_full[train_limit:-train_limit]"
   ]
  },
  {
   "cell_type": "code",
   "execution_count": 69,
   "metadata": {
    "ExecuteTime": {
     "end_time": "2019-10-24T13:55:55.646846Z",
     "start_time": "2019-10-24T13:55:55.642847Z"
    }
   },
   "outputs": [
    {
     "data": {
      "text/plain": [
       "numpy.ndarray"
      ]
     },
     "execution_count": 69,
     "metadata": {},
     "output_type": "execute_result"
    }
   ],
   "source": [
    "type(y_full)"
   ]
  },
  {
   "cell_type": "code",
   "execution_count": 70,
   "metadata": {
    "ExecuteTime": {
     "end_time": "2019-10-24T13:55:55.651846Z",
     "start_time": "2019-10-24T13:55:55.647846Z"
    }
   },
   "outputs": [],
   "source": [
    "y_full[:data.shape[0]]=0\n",
    "y_full[data.shape[0]:]=1\n",
    "y_full_train = np.concatenate([y_full[:train_limit],y_full[-train_limit:]])\n",
    "y_full_test = y_full[train_limit:-train_limit]"
   ]
  },
  {
   "cell_type": "code",
   "execution_count": 71,
   "metadata": {
    "ExecuteTime": {
     "end_time": "2019-10-24T13:55:55.657847Z",
     "start_time": "2019-10-24T13:55:55.652845Z"
    }
   },
   "outputs": [
    {
     "data": {
      "text/plain": [
       "((33727, 17), (10000, 17), (23727, 17), (10000,), (23727,))"
      ]
     },
     "execution_count": 71,
     "metadata": {},
     "output_type": "execute_result"
    }
   ],
   "source": [
    "data_full.shape, data_full_train.shape,data_full_test.shape, y_full_train.shape, y_full_test.shape"
   ]
  },
  {
   "cell_type": "code",
   "execution_count": 72,
   "metadata": {
    "ExecuteTime": {
     "end_time": "2019-10-24T13:55:55.663847Z",
     "start_time": "2019-10-24T13:55:55.658847Z"
    }
   },
   "outputs": [
    {
     "data": {
      "text/plain": [
       "(13096.0, 5000.0, 8096.0)"
      ]
     },
     "execution_count": 72,
     "metadata": {},
     "output_type": "execute_result"
    }
   ],
   "source": [
    "np.sum(y_full),np.sum(y_full_train),np.sum(y_full_test)"
   ]
  },
  {
   "cell_type": "code",
   "execution_count": 73,
   "metadata": {
    "ExecuteTime": {
     "end_time": "2019-10-24T13:55:55.917847Z",
     "start_time": "2019-10-24T13:55:55.664846Z"
    }
   },
   "outputs": [
    {
     "data": {
      "text/plain": [
       "LogisticRegression(C=1.0, class_weight=None, dual=False, fit_intercept=True,\n",
       "                   intercept_scaling=1, l1_ratio=None, max_iter=100,\n",
       "                   multi_class='multinomial', n_jobs=None, penalty='l2',\n",
       "                   random_state=0, solver='lbfgs', tol=0.0001, verbose=0,\n",
       "                   warm_start=False)"
      ]
     },
     "execution_count": 73,
     "metadata": {},
     "output_type": "execute_result"
    }
   ],
   "source": [
    "from sklearn.linear_model import LogisticRegression\n",
    "lr_findtest = LogisticRegression(random_state=0, solver='lbfgs', multi_class='multinomial', max_iter=100)\n",
    "lr_findtest.fit(data_full_train,y_full_train)"
   ]
  },
  {
   "cell_type": "code",
   "execution_count": 74,
   "metadata": {
    "ExecuteTime": {
     "end_time": "2019-10-24T13:55:55.929881Z",
     "start_time": "2019-10-24T13:55:55.918846Z"
    }
   },
   "outputs": [
    {
     "data": {
      "text/plain": [
       "(0.5811, 0.593416782568382)"
      ]
     },
     "execution_count": 74,
     "metadata": {},
     "output_type": "execute_result"
    }
   ],
   "source": [
    "lr_findtest.score(data_full_train,y_full_train),lr_findtest.score(data_full_test,y_full_test)"
   ]
  },
  {
   "cell_type": "code",
   "execution_count": 75,
   "metadata": {
    "ExecuteTime": {
     "end_time": "2019-10-24T13:55:56.228546Z",
     "start_time": "2019-10-24T13:55:55.930881Z"
    }
   },
   "outputs": [
    {
     "data": {
      "text/plain": [
       "DecisionTreeClassifier(class_weight=None, criterion='gini', max_depth=None,\n",
       "                       max_features=None, max_leaf_nodes=None,\n",
       "                       min_impurity_decrease=0.0, min_impurity_split=None,\n",
       "                       min_samples_leaf=1, min_samples_split=2,\n",
       "                       min_weight_fraction_leaf=0.0, presort=False,\n",
       "                       random_state=0, splitter='best')"
      ]
     },
     "execution_count": 75,
     "metadata": {},
     "output_type": "execute_result"
    }
   ],
   "source": [
    "from sklearn.model_selection import cross_val_score\n",
    "from sklearn.tree import DecisionTreeClassifier\n",
    "dt_findtest = DecisionTreeClassifier(random_state=0)\n",
    "dt_findtest.fit(data_full_train,y_full_train)"
   ]
  },
  {
   "cell_type": "code",
   "execution_count": 76,
   "metadata": {
    "ExecuteTime": {
     "end_time": "2019-10-24T13:55:56.246546Z",
     "start_time": "2019-10-24T13:55:56.229551Z"
    }
   },
   "outputs": [
    {
     "data": {
      "text/plain": [
       "(1.0, 0.5225270788553125)"
      ]
     },
     "execution_count": 76,
     "metadata": {},
     "output_type": "execute_result"
    }
   ],
   "source": [
    "dt_findtest.score(data_full_train,y_full_train),dt_findtest.score(data_full_test,y_full_test)"
   ]
  },
  {
   "cell_type": "code",
   "execution_count": 77,
   "metadata": {
    "ExecuteTime": {
     "end_time": "2019-10-24T13:55:56.501548Z",
     "start_time": "2019-10-24T13:55:56.247547Z"
    }
   },
   "outputs": [
    {
     "name": "stderr",
     "output_type": "stream",
     "text": [
      "C:\\Users\\tsar\\AppData\\Local\\conda\\conda\\envs\\py36\\lib\\site-packages\\sklearn\\ensemble\\forest.py:245: FutureWarning: The default value of n_estimators will change from 10 in version 0.20 to 100 in 0.22.\n",
      "  \"10 in version 0.20 to 100 in 0.22.\", FutureWarning)\n"
     ]
    },
    {
     "data": {
      "text/plain": [
       "RandomForestClassifier(bootstrap=True, class_weight=None, criterion='gini',\n",
       "                       max_depth=None, max_features='auto', max_leaf_nodes=None,\n",
       "                       min_impurity_decrease=0.0, min_impurity_split=None,\n",
       "                       min_samples_leaf=1, min_samples_split=2,\n",
       "                       min_weight_fraction_leaf=0.0, n_estimators=10,\n",
       "                       n_jobs=None, oob_score=False, random_state=0, verbose=0,\n",
       "                       warm_start=False)"
      ]
     },
     "execution_count": 77,
     "metadata": {},
     "output_type": "execute_result"
    }
   ],
   "source": [
    "from sklearn.ensemble import RandomForestClassifier\n",
    "rf_findtest = RandomForestClassifier(random_state=0)\n",
    "rf_findtest.fit(data_full_train,y_full_train)"
   ]
  },
  {
   "cell_type": "code",
   "execution_count": 78,
   "metadata": {
    "ExecuteTime": {
     "end_time": "2019-10-24T13:55:56.564514Z",
     "start_time": "2019-10-24T13:55:56.502553Z"
    }
   },
   "outputs": [
    {
     "data": {
      "text/plain": [
       "(0.9844, 0.5561596493446285)"
      ]
     },
     "execution_count": 78,
     "metadata": {},
     "output_type": "execute_result"
    }
   ],
   "source": [
    "rf_findtest.score(data_full_train,y_full_train),rf_findtest.score(data_full_test,y_full_test)"
   ]
  },
  {
   "cell_type": "code",
   "execution_count": 79,
   "metadata": {
    "ExecuteTime": {
     "end_time": "2019-10-24T13:55:56.605547Z",
     "start_time": "2019-10-24T13:55:56.565554Z"
    }
   },
   "outputs": [],
   "source": [
    "rf_findtest_predict = rf_findtest.predict(data_full_test)"
   ]
  },
  {
   "cell_type": "code",
   "execution_count": 80,
   "metadata": {
    "ExecuteTime": {
     "end_time": "2019-10-24T13:55:56.622520Z",
     "start_time": "2019-10-24T13:55:56.606553Z"
    }
   },
   "outputs": [
    {
     "data": {
      "text/html": [
       "<div>\n",
       "<style scoped>\n",
       "    .dataframe tbody tr th:only-of-type {\n",
       "        vertical-align: middle;\n",
       "    }\n",
       "\n",
       "    .dataframe tbody tr th {\n",
       "        vertical-align: top;\n",
       "    }\n",
       "\n",
       "    .dataframe thead th {\n",
       "        text-align: right;\n",
       "    }\n",
       "</style>\n",
       "<table border=\"1\" class=\"dataframe\">\n",
       "  <thead>\n",
       "    <tr style=\"text-align: right;\">\n",
       "      <th>col_0</th>\n",
       "      <th>0.0</th>\n",
       "      <th>1.0</th>\n",
       "    </tr>\n",
       "    <tr>\n",
       "      <th>row_0</th>\n",
       "      <th></th>\n",
       "      <th></th>\n",
       "    </tr>\n",
       "  </thead>\n",
       "  <tbody>\n",
       "    <tr>\n",
       "      <th>0.0</th>\n",
       "      <td>9338</td>\n",
       "      <td>6293</td>\n",
       "    </tr>\n",
       "    <tr>\n",
       "      <th>1.0</th>\n",
       "      <td>4238</td>\n",
       "      <td>3858</td>\n",
       "    </tr>\n",
       "  </tbody>\n",
       "</table>\n",
       "</div>"
      ],
      "text/plain": [
       "col_0   0.0   1.0\n",
       "row_0            \n",
       "0.0    9338  6293\n",
       "1.0    4238  3858"
      ]
     },
     "execution_count": 80,
     "metadata": {},
     "output_type": "execute_result"
    }
   ],
   "source": [
    "pd.crosstab(y_full_test, rf_findtest_predict)"
   ]
  },
  {
   "cell_type": "code",
   "execution_count": 81,
   "metadata": {
    "ExecuteTime": {
     "end_time": "2019-10-24T13:55:57.750519Z",
     "start_time": "2019-10-24T13:55:56.623518Z"
    }
   },
   "outputs": [
    {
     "data": {
      "text/plain": [
       "XGBClassifier(base_score=0.5, booster='gbtree', colsample_bylevel=1,\n",
       "              colsample_bynode=1, colsample_bytree=1, gamma=0,\n",
       "              learning_rate=0.1, max_delta_step=0, max_depth=3,\n",
       "              min_child_weight=1, missing=None, n_estimators=100, n_jobs=1,\n",
       "              nthread=None, objective='binary:logistic', random_state=13,\n",
       "              reg_alpha=0, reg_lambda=1, scale_pos_weight=1, seed=None,\n",
       "              silent=None, subsample=1, verbosity=1)"
      ]
     },
     "execution_count": 81,
     "metadata": {},
     "output_type": "execute_result"
    }
   ],
   "source": [
    "from xgboost import XGBClassifier\n",
    "xgb_findtest = XGBClassifier(random_state=13)\n",
    "#eval_set=[(data_train.iloc[:,2:], y_train.TTF_), (data_test.iloc[:,2:], y_test_long.TTF_)],\n",
    "#early_stopping_rounds=50,  verbose=False\n",
    "xgb_findtest.fit(data_full_train,y_full_train)"
   ]
  },
  {
   "cell_type": "code",
   "execution_count": 82,
   "metadata": {
    "ExecuteTime": {
     "end_time": "2019-10-24T13:55:57.835552Z",
     "start_time": "2019-10-24T13:55:57.751554Z"
    }
   },
   "outputs": [
    {
     "data": {
      "text/plain": [
       "(0.6754, 0.537151768027985)"
      ]
     },
     "execution_count": 82,
     "metadata": {},
     "output_type": "execute_result"
    }
   ],
   "source": [
    "xgb_findtest.score(data_full_train,y_full_train),xgb_findtest.score(data_full_test,y_full_test)"
   ]
  },
  {
   "cell_type": "code",
   "execution_count": 83,
   "metadata": {
    "ExecuteTime": {
     "end_time": "2019-10-24T13:55:57.892570Z",
     "start_time": "2019-10-24T13:55:57.836554Z"
    }
   },
   "outputs": [],
   "source": [
    "xgb_findtest_predict = xgb_findtest.predict(data_full_test)"
   ]
  },
  {
   "cell_type": "code",
   "execution_count": 84,
   "metadata": {
    "ExecuteTime": {
     "end_time": "2019-10-24T13:55:57.897529Z",
     "start_time": "2019-10-24T13:55:57.893555Z"
    }
   },
   "outputs": [
    {
     "data": {
      "text/plain": [
       "array([0., 0., 0., 0., 0., 0., 0., 0., 0., 0., 0., 0., 0., 0., 0.])"
      ]
     },
     "execution_count": 84,
     "metadata": {},
     "output_type": "execute_result"
    }
   ],
   "source": [
    "y_full_test[:15]"
   ]
  },
  {
   "cell_type": "code",
   "execution_count": 85,
   "metadata": {
    "ExecuteTime": {
     "end_time": "2019-10-24T13:55:57.916523Z",
     "start_time": "2019-10-24T13:55:57.898554Z"
    }
   },
   "outputs": [
    {
     "data": {
      "text/html": [
       "<div>\n",
       "<style scoped>\n",
       "    .dataframe tbody tr th:only-of-type {\n",
       "        vertical-align: middle;\n",
       "    }\n",
       "\n",
       "    .dataframe tbody tr th {\n",
       "        vertical-align: top;\n",
       "    }\n",
       "\n",
       "    .dataframe thead th {\n",
       "        text-align: right;\n",
       "    }\n",
       "</style>\n",
       "<table border=\"1\" class=\"dataframe\">\n",
       "  <thead>\n",
       "    <tr style=\"text-align: right;\">\n",
       "      <th>col_0</th>\n",
       "      <th>0.0</th>\n",
       "      <th>1.0</th>\n",
       "    </tr>\n",
       "    <tr>\n",
       "      <th>row_0</th>\n",
       "      <th></th>\n",
       "      <th></th>\n",
       "    </tr>\n",
       "  </thead>\n",
       "  <tbody>\n",
       "    <tr>\n",
       "      <th>0.0</th>\n",
       "      <td>7200</td>\n",
       "      <td>8431</td>\n",
       "    </tr>\n",
       "    <tr>\n",
       "      <th>1.0</th>\n",
       "      <td>2551</td>\n",
       "      <td>5545</td>\n",
       "    </tr>\n",
       "  </tbody>\n",
       "</table>\n",
       "</div>"
      ],
      "text/plain": [
       "col_0   0.0   1.0\n",
       "row_0            \n",
       "0.0    7200  8431\n",
       "1.0    2551  5545"
      ]
     },
     "execution_count": 85,
     "metadata": {},
     "output_type": "execute_result"
    }
   ],
   "source": [
    "pd.crosstab(y_full_test, xgb_findtest_predict)"
   ]
  },
  {
   "cell_type": "code",
   "execution_count": 86,
   "metadata": {
    "ExecuteTime": {
     "end_time": "2019-10-24T13:55:57.921523Z",
     "start_time": "2019-10-24T13:55:57.917520Z"
    }
   },
   "outputs": [
    {
     "data": {
      "text/plain": [
       "(array([191, 190, 189, ...,   2,   1,   0], dtype=int64),\n",
       " array([142., 141., 140., ...,  22.,  21.,  20.]))"
      ]
     },
     "execution_count": 86,
     "metadata": {},
     "output_type": "execute_result"
    }
   ],
   "source": [
    "y_train.TTF.values,y_test_long.TTF.values"
   ]
  },
  {
   "cell_type": "markdown",
   "metadata": {},
   "source": [
    "Apparently, test data comes from approx. the same distribustion as train / val (since we can't confidently predict if a sample comes from train or test)"
   ]
  },
  {
   "cell_type": "markdown",
   "metadata": {},
   "source": [
    "# Models"
   ]
  },
  {
   "cell_type": "code",
   "execution_count": 87,
   "metadata": {
    "ExecuteTime": {
     "end_time": "2019-10-24T13:55:57.926524Z",
     "start_time": "2019-10-24T13:55:57.922523Z"
    }
   },
   "outputs": [],
   "source": [
    "# list with the results of all models\n",
    "# values are: \n",
    "# results_list.append(['lr',[cv_score_train.mean().round(3),cv_score_val.mean().round(3),cv_score_test.mean().round(3)],\\\n",
    "#cv_score.round(3),[conf_train_pct,conf_val_pct,conf_test_pct],\\\n",
    "#                    [scores_train, scores_val,scores_test]])\n",
    "results_list = []"
   ]
  },
  {
   "cell_type": "code",
   "execution_count": 88,
   "metadata": {
    "ExecuteTime": {
     "end_time": "2019-10-24T13:55:57.940522Z",
     "start_time": "2019-10-24T13:55:57.937518Z"
    }
   },
   "outputs": [],
   "source": [
    "def get_predicts(clf,data):\n",
    "    return clf.predict(data)"
   ]
  },
  {
   "cell_type": "code",
   "execution_count": 89,
   "metadata": {
    "ExecuteTime": {
     "end_time": "2019-10-24T13:55:57.946519Z",
     "start_time": "2019-10-24T13:55:57.941523Z"
    }
   },
   "outputs": [],
   "source": [
    "from sklearn.metrics import f1_score,accuracy_score, roc_auc_score,confusion_matrix"
   ]
  },
  {
   "cell_type": "code",
   "execution_count": 90,
   "metadata": {
    "ExecuteTime": {
     "end_time": "2019-10-24T13:55:57.952525Z",
     "start_time": "2019-10-24T13:55:57.947524Z"
    }
   },
   "outputs": [],
   "source": [
    "def get_confmatrix(gt,pred):\n",
    "    conf_matrix = confusion_matrix(gt,pred)\n",
    "    print('Pct / Total / Diagonal: ', np.round(np.trace(conf_matrix)/np.sum(conf_matrix)*100,2),\\\n",
    "          np.sum(conf_matrix),np.trace(conf_matrix))\n",
    "    print(conf_matrix)\n",
    "    return conf_matrix"
   ]
  },
  {
   "cell_type": "code",
   "execution_count": 91,
   "metadata": {
    "ExecuteTime": {
     "end_time": "2019-10-24T13:55:57.959520Z",
     "start_time": "2019-10-24T13:55:57.953523Z"
    }
   },
   "outputs": [],
   "source": [
    "# returns [f1_score micro,f1_score macro,f1_score weighted,accuracy]\n",
    "def get_scores(gt,pred):\n",
    "    return [f1_score(gt,pred,average='micro').round(3),f1_score(gt,pred,average='macro').round(3),\\\n",
    "f1_score(gt,pred,average='weighted').round(3),accuracy_score(gt,pred).round(3)]"
   ]
  },
  {
   "cell_type": "markdown",
   "metadata": {},
   "source": [
    "## Logistic Regression"
   ]
  },
  {
   "cell_type": "markdown",
   "metadata": {},
   "source": [
    "Have to scale the data - shouldn't work like this"
   ]
  },
  {
   "cell_type": "code",
   "execution_count": 92,
   "metadata": {
    "ExecuteTime": {
     "end_time": "2019-10-24T13:55:58.536556Z",
     "start_time": "2019-10-24T13:55:57.960525Z"
    }
   },
   "outputs": [
    {
     "name": "stderr",
     "output_type": "stream",
     "text": [
      "C:\\Users\\tsar\\AppData\\Local\\conda\\conda\\envs\\py36\\lib\\site-packages\\sklearn\\linear_model\\logistic.py:947: ConvergenceWarning: lbfgs failed to converge. Increase the number of iterations.\n",
      "  \"of iterations.\", ConvergenceWarning)\n"
     ]
    },
    {
     "data": {
      "text/plain": [
       "LogisticRegression(C=1.0, class_weight=None, dual=False, fit_intercept=True,\n",
       "                   intercept_scaling=1, l1_ratio=None, max_iter=100,\n",
       "                   multi_class='multinomial', n_jobs=None, penalty='l2',\n",
       "                   random_state=0, solver='lbfgs', tol=0.0001, verbose=0,\n",
       "                   warm_start=False)"
      ]
     },
     "execution_count": 92,
     "metadata": {},
     "output_type": "execute_result"
    }
   ],
   "source": [
    "from sklearn.linear_model import LogisticRegression\n",
    "lr = LogisticRegression(random_state=0, solver='lbfgs', multi_class='multinomial', max_iter=100)\n",
    "lr.fit(data_train,y_train.TTF_)"
   ]
  },
  {
   "cell_type": "code",
   "execution_count": 93,
   "metadata": {
    "ExecuteTime": {
     "end_time": "2019-10-24T13:56:00.969572Z",
     "start_time": "2019-10-24T13:55:58.537565Z"
    }
   },
   "outputs": [
    {
     "name": "stderr",
     "output_type": "stream",
     "text": [
      "C:\\Users\\tsar\\AppData\\Local\\conda\\conda\\envs\\py36\\lib\\site-packages\\sklearn\\linear_model\\logistic.py:947: ConvergenceWarning: lbfgs failed to converge. Increase the number of iterations.\n",
      "  \"of iterations.\", ConvergenceWarning)\n",
      "C:\\Users\\tsar\\AppData\\Local\\conda\\conda\\envs\\py36\\lib\\site-packages\\sklearn\\linear_model\\logistic.py:947: ConvergenceWarning: lbfgs failed to converge. Increase the number of iterations.\n",
      "  \"of iterations.\", ConvergenceWarning)\n",
      "C:\\Users\\tsar\\AppData\\Local\\conda\\conda\\envs\\py36\\lib\\site-packages\\sklearn\\linear_model\\logistic.py:947: ConvergenceWarning: lbfgs failed to converge. Increase the number of iterations.\n",
      "  \"of iterations.\", ConvergenceWarning)\n",
      "C:\\Users\\tsar\\AppData\\Local\\conda\\conda\\envs\\py36\\lib\\site-packages\\sklearn\\linear_model\\logistic.py:947: ConvergenceWarning: lbfgs failed to converge. Increase the number of iterations.\n",
      "  \"of iterations.\", ConvergenceWarning)\n",
      "C:\\Users\\tsar\\AppData\\Local\\conda\\conda\\envs\\py36\\lib\\site-packages\\sklearn\\linear_model\\logistic.py:947: ConvergenceWarning: lbfgs failed to converge. Increase the number of iterations.\n",
      "  \"of iterations.\", ConvergenceWarning)\n"
     ]
    },
    {
     "data": {
      "text/plain": [
       "(0.701, array([0.732, 0.705, 0.737, 0.634, 0.699]))"
      ]
     },
     "execution_count": 93,
     "metadata": {},
     "output_type": "execute_result"
    }
   ],
   "source": [
    "cv_score_train = cross_val_score(lr,data_train,y_train.TTF_,cv=5)\n",
    "cv_score_train.mean().round(3),cv_score_train.round(3)"
   ]
  },
  {
   "cell_type": "code",
   "execution_count": 94,
   "metadata": {
    "ExecuteTime": {
     "end_time": "2019-10-24T13:56:01.417540Z",
     "start_time": "2019-10-24T13:56:00.970541Z"
    }
   },
   "outputs": [
    {
     "name": "stderr",
     "output_type": "stream",
     "text": [
      "C:\\Users\\tsar\\AppData\\Local\\conda\\conda\\envs\\py36\\lib\\site-packages\\sklearn\\linear_model\\logistic.py:947: ConvergenceWarning: lbfgs failed to converge. Increase the number of iterations.\n",
      "  \"of iterations.\", ConvergenceWarning)\n",
      "C:\\Users\\tsar\\AppData\\Local\\conda\\conda\\envs\\py36\\lib\\site-packages\\sklearn\\linear_model\\logistic.py:947: ConvergenceWarning: lbfgs failed to converge. Increase the number of iterations.\n",
      "  \"of iterations.\", ConvergenceWarning)\n",
      "C:\\Users\\tsar\\AppData\\Local\\conda\\conda\\envs\\py36\\lib\\site-packages\\sklearn\\linear_model\\logistic.py:947: ConvergenceWarning: lbfgs failed to converge. Increase the number of iterations.\n",
      "  \"of iterations.\", ConvergenceWarning)\n",
      "C:\\Users\\tsar\\AppData\\Local\\conda\\conda\\envs\\py36\\lib\\site-packages\\sklearn\\linear_model\\logistic.py:947: ConvergenceWarning: lbfgs failed to converge. Increase the number of iterations.\n",
      "  \"of iterations.\", ConvergenceWarning)\n",
      "C:\\Users\\tsar\\AppData\\Local\\conda\\conda\\envs\\py36\\lib\\site-packages\\sklearn\\linear_model\\logistic.py:947: ConvergenceWarning: lbfgs failed to converge. Increase the number of iterations.\n",
      "  \"of iterations.\", ConvergenceWarning)\n"
     ]
    },
    {
     "data": {
      "text/plain": [
       "(0.719, array([0.745, 0.658, 0.706, 0.768, 0.717]))"
      ]
     },
     "execution_count": 94,
     "metadata": {},
     "output_type": "execute_result"
    }
   ],
   "source": [
    "cv_score_val = cross_val_score(lr,data_val,y_val.TTF_,cv=5)\n",
    "cv_score_val.mean().round(3),cv_score_val.round(3)"
   ]
  },
  {
   "cell_type": "code",
   "execution_count": 95,
   "metadata": {
    "ExecuteTime": {
     "end_time": "2019-10-24T13:56:03.584464Z",
     "start_time": "2019-10-24T13:56:01.418573Z"
    }
   },
   "outputs": [
    {
     "name": "stderr",
     "output_type": "stream",
     "text": [
      "C:\\Users\\tsar\\AppData\\Local\\conda\\conda\\envs\\py36\\lib\\site-packages\\sklearn\\linear_model\\logistic.py:947: ConvergenceWarning: lbfgs failed to converge. Increase the number of iterations.\n",
      "  \"of iterations.\", ConvergenceWarning)\n",
      "C:\\Users\\tsar\\AppData\\Local\\conda\\conda\\envs\\py36\\lib\\site-packages\\sklearn\\linear_model\\logistic.py:947: ConvergenceWarning: lbfgs failed to converge. Increase the number of iterations.\n",
      "  \"of iterations.\", ConvergenceWarning)\n",
      "C:\\Users\\tsar\\AppData\\Local\\conda\\conda\\envs\\py36\\lib\\site-packages\\sklearn\\linear_model\\logistic.py:947: ConvergenceWarning: lbfgs failed to converge. Increase the number of iterations.\n",
      "  \"of iterations.\", ConvergenceWarning)\n",
      "C:\\Users\\tsar\\AppData\\Local\\conda\\conda\\envs\\py36\\lib\\site-packages\\sklearn\\linear_model\\logistic.py:947: ConvergenceWarning: lbfgs failed to converge. Increase the number of iterations.\n",
      "  \"of iterations.\", ConvergenceWarning)\n"
     ]
    },
    {
     "data": {
      "text/plain": [
       "(0.803, array([0.816, 0.81 , 0.792, 0.821, 0.778]))"
      ]
     },
     "execution_count": 95,
     "metadata": {},
     "output_type": "execute_result"
    }
   ],
   "source": [
    "cv_score_test = cross_val_score(lr,data_test,y_test_long.TTF_,cv=5)\n",
    "cv_score_test.mean().round(3),cv_score_test.round(3)"
   ]
  },
  {
   "cell_type": "code",
   "execution_count": 96,
   "metadata": {
    "ExecuteTime": {
     "end_time": "2019-10-24T13:56:03.595465Z",
     "start_time": "2019-10-24T13:56:03.585431Z"
    }
   },
   "outputs": [],
   "source": [
    "predict_lr_train = get_predicts(lr,data_train)\n",
    "predict_lr_val = get_predicts(lr,data_val)\n",
    "predict_lr_test = get_predicts(lr,data_test)"
   ]
  },
  {
   "cell_type": "code",
   "execution_count": 97,
   "metadata": {
    "ExecuteTime": {
     "end_time": "2019-10-24T13:56:03.673469Z",
     "start_time": "2019-10-24T13:56:03.596433Z"
    }
   },
   "outputs": [
    {
     "name": "stdout",
     "output_type": "stream",
     "text": [
      "Pct / Total / Diagonal:  70.8 17618 12474\n",
      "[[2428  521  160  331]\n",
      " [ 652 1556    0 2092]\n",
      " [ 418    1  525    2]\n",
      " [  99  868    0 7965]]\n",
      "Pct / Total / Diagonal:  71.46 3013 2153\n",
      "[[ 361  120   36   43]\n",
      " [ 122  264    0  314]\n",
      " [  58    0   95    1]\n",
      " [  15  151    0 1433]]\n",
      "Pct / Total / Diagonal:  80.23 13096 10507\n",
      "[[ 477  209   13  170]\n",
      " [ 197  757    0 1354]\n",
      " [  13    0    4    0]\n",
      " [  78  555    0 9269]]\n"
     ]
    }
   ],
   "source": [
    "conf_train = get_confmatrix(y_train['TTF_'],predict_lr_train)\n",
    "conf_val = get_confmatrix(y_val['TTF_'],predict_lr_val)\n",
    "conf_test = get_confmatrix(y_test_long['TTF_'],predict_lr_test)"
   ]
  },
  {
   "cell_type": "code",
   "execution_count": 100,
   "metadata": {
    "ExecuteTime": {
     "end_time": "2019-10-24T13:57:29.376274Z",
     "start_time": "2019-10-24T13:57:28.973280Z"
    }
   },
   "outputs": [
    {
     "name": "stdout",
     "output_type": "stream",
     "text": [
      "[0.708, 0.647, 0.692, 0.708]\n",
      "[0.715, 0.647, 0.702, 0.715]\n",
      "[0.802, 0.528, 0.786, 0.802]\n"
     ]
    }
   ],
   "source": [
    "scores_train = get_scores(y_train['TTF_'],predict_lr_train)\n",
    "scores_val = get_scores(y_val['TTF_'],predict_lr_val)\n",
    "scores_test = get_scores(y_test_long['TTF_'],predict_lr_test)\n",
    "print(scores_train)\n",
    "print(scores_val)\n",
    "print(scores_test)"
   ]
  },
  {
   "cell_type": "code",
   "execution_count": 101,
   "metadata": {
    "ExecuteTime": {
     "end_time": "2019-10-24T13:57:29.383244Z",
     "start_time": "2019-10-24T13:57:29.377245Z"
    }
   },
   "outputs": [],
   "source": [
    "conf_train_pct = np.round(np.trace(conf_train)/np.sum(conf_train)*100,2)\n",
    "conf_val_pct = np.round(np.trace(conf_val)/np.sum(conf_val)*100,2)\n",
    "conf_test_pct = np.round(np.trace(conf_test)/np.sum(conf_test)*100,2)\n",
    "results_list.append(['lr',[cv_score_train.mean().round(3),cv_score_val.mean().round(3),cv_score_test.mean().round(3)],\\\n",
    "                     cv_score_test.round(3),[conf_train_pct,conf_val_pct,conf_test_pct],\\\n",
    "                    [scores_train, scores_val,scores_test]])"
   ]
  },
  {
   "cell_type": "markdown",
   "metadata": {},
   "source": [
    "## DT"
   ]
  },
  {
   "cell_type": "code",
   "execution_count": 102,
   "metadata": {
    "ExecuteTime": {
     "end_time": "2019-10-24T13:57:29.405278Z",
     "start_time": "2019-10-24T13:57:29.384244Z"
    }
   },
   "outputs": [
    {
     "data": {
      "text/html": [
       "<div>\n",
       "<style scoped>\n",
       "    .dataframe tbody tr th:only-of-type {\n",
       "        vertical-align: middle;\n",
       "    }\n",
       "\n",
       "    .dataframe tbody tr th {\n",
       "        vertical-align: top;\n",
       "    }\n",
       "\n",
       "    .dataframe thead th {\n",
       "        text-align: right;\n",
       "    }\n",
       "</style>\n",
       "<table border=\"1\" class=\"dataframe\">\n",
       "  <thead>\n",
       "    <tr style=\"text-align: right;\">\n",
       "      <th></th>\n",
       "      <th>setting1</th>\n",
       "      <th>setting2</th>\n",
       "      <th>sensor2</th>\n",
       "      <th>sensor3</th>\n",
       "      <th>sensor4</th>\n",
       "      <th>sensor6</th>\n",
       "      <th>sensor7</th>\n",
       "      <th>sensor8</th>\n",
       "      <th>sensor9</th>\n",
       "      <th>sensor11</th>\n",
       "      <th>sensor12</th>\n",
       "      <th>sensor13</th>\n",
       "      <th>sensor14</th>\n",
       "      <th>sensor15</th>\n",
       "      <th>sensor17</th>\n",
       "      <th>sensor20</th>\n",
       "      <th>sensor21</th>\n",
       "    </tr>\n",
       "  </thead>\n",
       "  <tbody>\n",
       "    <tr>\n",
       "      <th>0</th>\n",
       "      <td>-0.0007</td>\n",
       "      <td>-0.0004</td>\n",
       "      <td>641.82</td>\n",
       "      <td>1589.70</td>\n",
       "      <td>1400.60</td>\n",
       "      <td>21.61</td>\n",
       "      <td>554.36</td>\n",
       "      <td>2388.06</td>\n",
       "      <td>9046.19</td>\n",
       "      <td>47.47</td>\n",
       "      <td>521.66</td>\n",
       "      <td>2388.02</td>\n",
       "      <td>8138.62</td>\n",
       "      <td>8.4195</td>\n",
       "      <td>392</td>\n",
       "      <td>39.06</td>\n",
       "      <td>23.4190</td>\n",
       "    </tr>\n",
       "    <tr>\n",
       "      <th>1</th>\n",
       "      <td>0.0019</td>\n",
       "      <td>-0.0003</td>\n",
       "      <td>642.15</td>\n",
       "      <td>1591.82</td>\n",
       "      <td>1403.14</td>\n",
       "      <td>21.61</td>\n",
       "      <td>553.75</td>\n",
       "      <td>2388.04</td>\n",
       "      <td>9044.07</td>\n",
       "      <td>47.49</td>\n",
       "      <td>522.28</td>\n",
       "      <td>2388.07</td>\n",
       "      <td>8131.49</td>\n",
       "      <td>8.4318</td>\n",
       "      <td>392</td>\n",
       "      <td>39.00</td>\n",
       "      <td>23.4236</td>\n",
       "    </tr>\n",
       "    <tr>\n",
       "      <th>2</th>\n",
       "      <td>-0.0043</td>\n",
       "      <td>0.0003</td>\n",
       "      <td>642.35</td>\n",
       "      <td>1587.99</td>\n",
       "      <td>1404.20</td>\n",
       "      <td>21.61</td>\n",
       "      <td>554.26</td>\n",
       "      <td>2388.08</td>\n",
       "      <td>9052.94</td>\n",
       "      <td>47.27</td>\n",
       "      <td>522.42</td>\n",
       "      <td>2388.03</td>\n",
       "      <td>8133.23</td>\n",
       "      <td>8.4178</td>\n",
       "      <td>390</td>\n",
       "      <td>38.95</td>\n",
       "      <td>23.3442</td>\n",
       "    </tr>\n",
       "    <tr>\n",
       "      <th>3</th>\n",
       "      <td>0.0007</td>\n",
       "      <td>0.0000</td>\n",
       "      <td>642.35</td>\n",
       "      <td>1582.79</td>\n",
       "      <td>1401.87</td>\n",
       "      <td>21.61</td>\n",
       "      <td>554.45</td>\n",
       "      <td>2388.11</td>\n",
       "      <td>9049.48</td>\n",
       "      <td>47.13</td>\n",
       "      <td>522.86</td>\n",
       "      <td>2388.08</td>\n",
       "      <td>8133.83</td>\n",
       "      <td>8.3682</td>\n",
       "      <td>392</td>\n",
       "      <td>38.88</td>\n",
       "      <td>23.3739</td>\n",
       "    </tr>\n",
       "    <tr>\n",
       "      <th>4</th>\n",
       "      <td>-0.0019</td>\n",
       "      <td>-0.0002</td>\n",
       "      <td>642.37</td>\n",
       "      <td>1582.85</td>\n",
       "      <td>1406.22</td>\n",
       "      <td>21.61</td>\n",
       "      <td>554.00</td>\n",
       "      <td>2388.06</td>\n",
       "      <td>9055.15</td>\n",
       "      <td>47.28</td>\n",
       "      <td>522.19</td>\n",
       "      <td>2388.04</td>\n",
       "      <td>8133.80</td>\n",
       "      <td>8.4294</td>\n",
       "      <td>393</td>\n",
       "      <td>38.90</td>\n",
       "      <td>23.4044</td>\n",
       "    </tr>\n",
       "  </tbody>\n",
       "</table>\n",
       "</div>"
      ],
      "text/plain": [
       "   setting1  setting2  sensor2  sensor3  sensor4  sensor6  sensor7  sensor8  \\\n",
       "0   -0.0007   -0.0004   641.82  1589.70  1400.60    21.61   554.36  2388.06   \n",
       "1    0.0019   -0.0003   642.15  1591.82  1403.14    21.61   553.75  2388.04   \n",
       "2   -0.0043    0.0003   642.35  1587.99  1404.20    21.61   554.26  2388.08   \n",
       "3    0.0007    0.0000   642.35  1582.79  1401.87    21.61   554.45  2388.11   \n",
       "4   -0.0019   -0.0002   642.37  1582.85  1406.22    21.61   554.00  2388.06   \n",
       "\n",
       "   sensor9  sensor11  sensor12  sensor13  sensor14  sensor15  sensor17  \\\n",
       "0  9046.19     47.47    521.66   2388.02   8138.62    8.4195       392   \n",
       "1  9044.07     47.49    522.28   2388.07   8131.49    8.4318       392   \n",
       "2  9052.94     47.27    522.42   2388.03   8133.23    8.4178       390   \n",
       "3  9049.48     47.13    522.86   2388.08   8133.83    8.3682       392   \n",
       "4  9055.15     47.28    522.19   2388.04   8133.80    8.4294       393   \n",
       "\n",
       "   sensor20  sensor21  \n",
       "0     39.06   23.4190  \n",
       "1     39.00   23.4236  \n",
       "2     38.95   23.3442  \n",
       "3     38.88   23.3739  \n",
       "4     38.90   23.4044  "
      ]
     },
     "execution_count": 102,
     "metadata": {},
     "output_type": "execute_result"
    }
   ],
   "source": [
    "data_train.head()"
   ]
  },
  {
   "cell_type": "code",
   "execution_count": 103,
   "metadata": {
    "ExecuteTime": {
     "end_time": "2019-10-24T13:57:29.424246Z",
     "start_time": "2019-10-24T13:57:29.407245Z"
    }
   },
   "outputs": [
    {
     "data": {
      "text/html": [
       "<div>\n",
       "<style scoped>\n",
       "    .dataframe tbody tr th:only-of-type {\n",
       "        vertical-align: middle;\n",
       "    }\n",
       "\n",
       "    .dataframe tbody tr th {\n",
       "        vertical-align: top;\n",
       "    }\n",
       "\n",
       "    .dataframe thead th {\n",
       "        text-align: right;\n",
       "    }\n",
       "</style>\n",
       "<table border=\"1\" class=\"dataframe\">\n",
       "  <thead>\n",
       "    <tr style=\"text-align: right;\">\n",
       "      <th></th>\n",
       "      <th>setting1</th>\n",
       "      <th>setting2</th>\n",
       "      <th>sensor2</th>\n",
       "      <th>sensor3</th>\n",
       "      <th>sensor4</th>\n",
       "      <th>sensor6</th>\n",
       "      <th>sensor7</th>\n",
       "      <th>sensor8</th>\n",
       "      <th>sensor9</th>\n",
       "      <th>sensor11</th>\n",
       "      <th>sensor12</th>\n",
       "      <th>sensor13</th>\n",
       "      <th>sensor14</th>\n",
       "      <th>sensor15</th>\n",
       "      <th>sensor17</th>\n",
       "      <th>sensor20</th>\n",
       "      <th>sensor21</th>\n",
       "    </tr>\n",
       "  </thead>\n",
       "  <tbody>\n",
       "    <tr>\n",
       "      <th>17618</th>\n",
       "      <td>-0.0007</td>\n",
       "      <td>-0.0004</td>\n",
       "      <td>642.67</td>\n",
       "      <td>1595.33</td>\n",
       "      <td>1404.23</td>\n",
       "      <td>21.61</td>\n",
       "      <td>554.29</td>\n",
       "      <td>2388.04</td>\n",
       "      <td>9060.45</td>\n",
       "      <td>47.36</td>\n",
       "      <td>522.07</td>\n",
       "      <td>2388.01</td>\n",
       "      <td>8143.60</td>\n",
       "      <td>8.4386</td>\n",
       "      <td>396</td>\n",
       "      <td>38.87</td>\n",
       "      <td>23.3231</td>\n",
       "    </tr>\n",
       "    <tr>\n",
       "      <th>17619</th>\n",
       "      <td>-0.0004</td>\n",
       "      <td>-0.0005</td>\n",
       "      <td>642.43</td>\n",
       "      <td>1587.74</td>\n",
       "      <td>1411.71</td>\n",
       "      <td>21.61</td>\n",
       "      <td>553.91</td>\n",
       "      <td>2388.03</td>\n",
       "      <td>9065.16</td>\n",
       "      <td>47.44</td>\n",
       "      <td>521.81</td>\n",
       "      <td>2388.03</td>\n",
       "      <td>8141.40</td>\n",
       "      <td>8.4433</td>\n",
       "      <td>393</td>\n",
       "      <td>38.94</td>\n",
       "      <td>23.3576</td>\n",
       "    </tr>\n",
       "    <tr>\n",
       "      <th>17620</th>\n",
       "      <td>0.0042</td>\n",
       "      <td>0.0005</td>\n",
       "      <td>642.88</td>\n",
       "      <td>1584.10</td>\n",
       "      <td>1399.03</td>\n",
       "      <td>21.61</td>\n",
       "      <td>554.26</td>\n",
       "      <td>2388.04</td>\n",
       "      <td>9064.45</td>\n",
       "      <td>47.35</td>\n",
       "      <td>522.07</td>\n",
       "      <td>2388.03</td>\n",
       "      <td>8142.93</td>\n",
       "      <td>8.4248</td>\n",
       "      <td>393</td>\n",
       "      <td>38.96</td>\n",
       "      <td>23.2546</td>\n",
       "    </tr>\n",
       "    <tr>\n",
       "      <th>17621</th>\n",
       "      <td>0.0020</td>\n",
       "      <td>0.0004</td>\n",
       "      <td>642.27</td>\n",
       "      <td>1587.90</td>\n",
       "      <td>1397.49</td>\n",
       "      <td>21.61</td>\n",
       "      <td>552.91</td>\n",
       "      <td>2388.03</td>\n",
       "      <td>9059.79</td>\n",
       "      <td>47.28</td>\n",
       "      <td>521.97</td>\n",
       "      <td>2388.05</td>\n",
       "      <td>8147.70</td>\n",
       "      <td>8.4458</td>\n",
       "      <td>392</td>\n",
       "      <td>38.88</td>\n",
       "      <td>23.3086</td>\n",
       "    </tr>\n",
       "    <tr>\n",
       "      <th>17622</th>\n",
       "      <td>0.0009</td>\n",
       "      <td>0.0005</td>\n",
       "      <td>642.45</td>\n",
       "      <td>1585.48</td>\n",
       "      <td>1405.60</td>\n",
       "      <td>21.61</td>\n",
       "      <td>553.25</td>\n",
       "      <td>2388.05</td>\n",
       "      <td>9060.30</td>\n",
       "      <td>47.35</td>\n",
       "      <td>522.13</td>\n",
       "      <td>2388.06</td>\n",
       "      <td>8143.75</td>\n",
       "      <td>8.4194</td>\n",
       "      <td>392</td>\n",
       "      <td>38.99</td>\n",
       "      <td>23.3682</td>\n",
       "    </tr>\n",
       "  </tbody>\n",
       "</table>\n",
       "</div>"
      ],
      "text/plain": [
       "       setting1  setting2  sensor2  sensor3  sensor4  sensor6  sensor7  \\\n",
       "17618   -0.0007   -0.0004   642.67  1595.33  1404.23    21.61   554.29   \n",
       "17619   -0.0004   -0.0005   642.43  1587.74  1411.71    21.61   553.91   \n",
       "17620    0.0042    0.0005   642.88  1584.10  1399.03    21.61   554.26   \n",
       "17621    0.0020    0.0004   642.27  1587.90  1397.49    21.61   552.91   \n",
       "17622    0.0009    0.0005   642.45  1585.48  1405.60    21.61   553.25   \n",
       "\n",
       "       sensor8  sensor9  sensor11  sensor12  sensor13  sensor14  sensor15  \\\n",
       "17618  2388.04  9060.45     47.36    522.07   2388.01   8143.60    8.4386   \n",
       "17619  2388.03  9065.16     47.44    521.81   2388.03   8141.40    8.4433   \n",
       "17620  2388.04  9064.45     47.35    522.07   2388.03   8142.93    8.4248   \n",
       "17621  2388.03  9059.79     47.28    521.97   2388.05   8147.70    8.4458   \n",
       "17622  2388.05  9060.30     47.35    522.13   2388.06   8143.75    8.4194   \n",
       "\n",
       "       sensor17  sensor20  sensor21  \n",
       "17618       396     38.87   23.3231  \n",
       "17619       393     38.94   23.3576  \n",
       "17620       393     38.96   23.2546  \n",
       "17621       392     38.88   23.3086  \n",
       "17622       392     38.99   23.3682  "
      ]
     },
     "execution_count": 103,
     "metadata": {},
     "output_type": "execute_result"
    }
   ],
   "source": [
    "data_val.head()"
   ]
  },
  {
   "cell_type": "code",
   "execution_count": 104,
   "metadata": {
    "ExecuteTime": {
     "end_time": "2019-10-24T13:57:29.441245Z",
     "start_time": "2019-10-24T13:57:29.427244Z"
    }
   },
   "outputs": [
    {
     "data": {
      "text/html": [
       "<div>\n",
       "<style scoped>\n",
       "    .dataframe tbody tr th:only-of-type {\n",
       "        vertical-align: middle;\n",
       "    }\n",
       "\n",
       "    .dataframe tbody tr th {\n",
       "        vertical-align: top;\n",
       "    }\n",
       "\n",
       "    .dataframe thead th {\n",
       "        text-align: right;\n",
       "    }\n",
       "</style>\n",
       "<table border=\"1\" class=\"dataframe\">\n",
       "  <thead>\n",
       "    <tr style=\"text-align: right;\">\n",
       "      <th></th>\n",
       "      <th>setting1</th>\n",
       "      <th>setting2</th>\n",
       "      <th>sensor2</th>\n",
       "      <th>sensor3</th>\n",
       "      <th>sensor4</th>\n",
       "      <th>sensor6</th>\n",
       "      <th>sensor7</th>\n",
       "      <th>sensor8</th>\n",
       "      <th>sensor9</th>\n",
       "      <th>sensor11</th>\n",
       "      <th>sensor12</th>\n",
       "      <th>sensor13</th>\n",
       "      <th>sensor14</th>\n",
       "      <th>sensor15</th>\n",
       "      <th>sensor17</th>\n",
       "      <th>sensor20</th>\n",
       "      <th>sensor21</th>\n",
       "    </tr>\n",
       "  </thead>\n",
       "  <tbody>\n",
       "    <tr>\n",
       "      <th>0</th>\n",
       "      <td>0.0023</td>\n",
       "      <td>0.0003</td>\n",
       "      <td>643.02</td>\n",
       "      <td>1585.29</td>\n",
       "      <td>1398.21</td>\n",
       "      <td>21.61</td>\n",
       "      <td>553.90</td>\n",
       "      <td>2388.04</td>\n",
       "      <td>9050.17</td>\n",
       "      <td>47.20</td>\n",
       "      <td>521.72</td>\n",
       "      <td>2388.03</td>\n",
       "      <td>8125.55</td>\n",
       "      <td>8.4052</td>\n",
       "      <td>392</td>\n",
       "      <td>38.86</td>\n",
       "      <td>23.3735</td>\n",
       "    </tr>\n",
       "    <tr>\n",
       "      <th>1</th>\n",
       "      <td>-0.0027</td>\n",
       "      <td>-0.0003</td>\n",
       "      <td>641.71</td>\n",
       "      <td>1588.45</td>\n",
       "      <td>1395.42</td>\n",
       "      <td>21.61</td>\n",
       "      <td>554.85</td>\n",
       "      <td>2388.01</td>\n",
       "      <td>9054.42</td>\n",
       "      <td>47.50</td>\n",
       "      <td>522.16</td>\n",
       "      <td>2388.06</td>\n",
       "      <td>8139.62</td>\n",
       "      <td>8.3803</td>\n",
       "      <td>393</td>\n",
       "      <td>39.02</td>\n",
       "      <td>23.3916</td>\n",
       "    </tr>\n",
       "    <tr>\n",
       "      <th>2</th>\n",
       "      <td>0.0003</td>\n",
       "      <td>0.0001</td>\n",
       "      <td>642.46</td>\n",
       "      <td>1586.94</td>\n",
       "      <td>1401.34</td>\n",
       "      <td>21.61</td>\n",
       "      <td>554.11</td>\n",
       "      <td>2388.05</td>\n",
       "      <td>9056.96</td>\n",
       "      <td>47.50</td>\n",
       "      <td>521.97</td>\n",
       "      <td>2388.03</td>\n",
       "      <td>8130.10</td>\n",
       "      <td>8.4441</td>\n",
       "      <td>393</td>\n",
       "      <td>39.08</td>\n",
       "      <td>23.4166</td>\n",
       "    </tr>\n",
       "    <tr>\n",
       "      <th>3</th>\n",
       "      <td>0.0042</td>\n",
       "      <td>0.0000</td>\n",
       "      <td>642.44</td>\n",
       "      <td>1584.12</td>\n",
       "      <td>1406.42</td>\n",
       "      <td>21.61</td>\n",
       "      <td>554.07</td>\n",
       "      <td>2388.03</td>\n",
       "      <td>9045.29</td>\n",
       "      <td>47.28</td>\n",
       "      <td>521.38</td>\n",
       "      <td>2388.05</td>\n",
       "      <td>8132.90</td>\n",
       "      <td>8.3917</td>\n",
       "      <td>391</td>\n",
       "      <td>39.00</td>\n",
       "      <td>23.3737</td>\n",
       "    </tr>\n",
       "    <tr>\n",
       "      <th>4</th>\n",
       "      <td>0.0014</td>\n",
       "      <td>0.0000</td>\n",
       "      <td>642.51</td>\n",
       "      <td>1587.19</td>\n",
       "      <td>1401.92</td>\n",
       "      <td>21.61</td>\n",
       "      <td>554.16</td>\n",
       "      <td>2388.01</td>\n",
       "      <td>9044.55</td>\n",
       "      <td>47.31</td>\n",
       "      <td>522.15</td>\n",
       "      <td>2388.03</td>\n",
       "      <td>8129.54</td>\n",
       "      <td>8.4031</td>\n",
       "      <td>390</td>\n",
       "      <td>38.99</td>\n",
       "      <td>23.4130</td>\n",
       "    </tr>\n",
       "  </tbody>\n",
       "</table>\n",
       "</div>"
      ],
      "text/plain": [
       "   setting1  setting2  sensor2  sensor3  sensor4  sensor6  sensor7  sensor8  \\\n",
       "0    0.0023    0.0003   643.02  1585.29  1398.21    21.61   553.90  2388.04   \n",
       "1   -0.0027   -0.0003   641.71  1588.45  1395.42    21.61   554.85  2388.01   \n",
       "2    0.0003    0.0001   642.46  1586.94  1401.34    21.61   554.11  2388.05   \n",
       "3    0.0042    0.0000   642.44  1584.12  1406.42    21.61   554.07  2388.03   \n",
       "4    0.0014    0.0000   642.51  1587.19  1401.92    21.61   554.16  2388.01   \n",
       "\n",
       "   sensor9  sensor11  sensor12  sensor13  sensor14  sensor15  sensor17  \\\n",
       "0  9050.17     47.20    521.72   2388.03   8125.55    8.4052       392   \n",
       "1  9054.42     47.50    522.16   2388.06   8139.62    8.3803       393   \n",
       "2  9056.96     47.50    521.97   2388.03   8130.10    8.4441       393   \n",
       "3  9045.29     47.28    521.38   2388.05   8132.90    8.3917       391   \n",
       "4  9044.55     47.31    522.15   2388.03   8129.54    8.4031       390   \n",
       "\n",
       "   sensor20  sensor21  \n",
       "0     38.86   23.3735  \n",
       "1     39.02   23.3916  \n",
       "2     39.08   23.4166  \n",
       "3     39.00   23.3737  \n",
       "4     38.99   23.4130  "
      ]
     },
     "execution_count": 104,
     "metadata": {},
     "output_type": "execute_result"
    }
   ],
   "source": [
    "data_test.head()"
   ]
  },
  {
   "cell_type": "code",
   "execution_count": 105,
   "metadata": {
    "ExecuteTime": {
     "end_time": "2019-10-24T13:57:29.451288Z",
     "start_time": "2019-10-24T13:57:29.442245Z"
    }
   },
   "outputs": [
    {
     "data": {
      "text/html": [
       "<div>\n",
       "<style scoped>\n",
       "    .dataframe tbody tr th:only-of-type {\n",
       "        vertical-align: middle;\n",
       "    }\n",
       "\n",
       "    .dataframe tbody tr th {\n",
       "        vertical-align: top;\n",
       "    }\n",
       "\n",
       "    .dataframe thead th {\n",
       "        text-align: right;\n",
       "    }\n",
       "</style>\n",
       "<table border=\"1\" class=\"dataframe\">\n",
       "  <thead>\n",
       "    <tr style=\"text-align: right;\">\n",
       "      <th></th>\n",
       "      <th>TTF</th>\n",
       "      <th>TTF_</th>\n",
       "    </tr>\n",
       "  </thead>\n",
       "  <tbody>\n",
       "    <tr>\n",
       "      <th>0</th>\n",
       "      <td>191</td>\n",
       "      <td>more100</td>\n",
       "    </tr>\n",
       "    <tr>\n",
       "      <th>1</th>\n",
       "      <td>190</td>\n",
       "      <td>more100</td>\n",
       "    </tr>\n",
       "    <tr>\n",
       "      <th>2</th>\n",
       "      <td>189</td>\n",
       "      <td>more100</td>\n",
       "    </tr>\n",
       "    <tr>\n",
       "      <th>3</th>\n",
       "      <td>188</td>\n",
       "      <td>more100</td>\n",
       "    </tr>\n",
       "    <tr>\n",
       "      <th>4</th>\n",
       "      <td>187</td>\n",
       "      <td>more100</td>\n",
       "    </tr>\n",
       "  </tbody>\n",
       "</table>\n",
       "</div>"
      ],
      "text/plain": [
       "   TTF     TTF_\n",
       "0  191  more100\n",
       "1  190  more100\n",
       "2  189  more100\n",
       "3  188  more100\n",
       "4  187  more100"
      ]
     },
     "execution_count": 105,
     "metadata": {},
     "output_type": "execute_result"
    }
   ],
   "source": [
    "y_train[:5]"
   ]
  },
  {
   "cell_type": "code",
   "execution_count": 106,
   "metadata": {
    "ExecuteTime": {
     "end_time": "2019-10-24T13:57:29.680247Z",
     "start_time": "2019-10-24T13:57:29.452245Z"
    }
   },
   "outputs": [
    {
     "data": {
      "text/plain": [
       "DecisionTreeClassifier(class_weight=None, criterion='gini', max_depth=None,\n",
       "                       max_features=None, max_leaf_nodes=None,\n",
       "                       min_impurity_decrease=0.0, min_impurity_split=None,\n",
       "                       min_samples_leaf=1, min_samples_split=2,\n",
       "                       min_weight_fraction_leaf=0.0, presort=False,\n",
       "                       random_state=0, splitter='best')"
      ]
     },
     "execution_count": 106,
     "metadata": {},
     "output_type": "execute_result"
    }
   ],
   "source": [
    "from sklearn.tree import DecisionTreeClassifier\n",
    "dt = DecisionTreeClassifier(random_state=0)\n",
    "dt.fit(data_train,y_train.TTF_)\n",
    "#cross_val_score(clf, iris.data, iris.target, cv=10)"
   ]
  },
  {
   "cell_type": "code",
   "execution_count": 107,
   "metadata": {
    "ExecuteTime": {
     "end_time": "2019-10-24T13:57:30.606284Z",
     "start_time": "2019-10-24T13:57:29.681281Z"
    }
   },
   "outputs": [
    {
     "data": {
      "text/plain": [
       "(0.66, array([0.706, 0.654, 0.683, 0.616, 0.642]))"
      ]
     },
     "execution_count": 107,
     "metadata": {},
     "output_type": "execute_result"
    }
   ],
   "source": [
    "cv_score_train = cross_val_score(dt,data_train,y_train.TTF_,cv=5)\n",
    "cv_score_train.mean().round(3),cv_score_train.round(3)"
   ]
  },
  {
   "cell_type": "code",
   "execution_count": 108,
   "metadata": {
    "ExecuteTime": {
     "end_time": "2019-10-24T13:57:30.746283Z",
     "start_time": "2019-10-24T13:57:30.607248Z"
    }
   },
   "outputs": [
    {
     "data": {
      "text/plain": [
       "(0.624, array([0.683, 0.6  , 0.556, 0.638, 0.641]))"
      ]
     },
     "execution_count": 108,
     "metadata": {},
     "output_type": "execute_result"
    }
   ],
   "source": [
    "cv_score_val = cross_val_score(dt,data_val,y_val.TTF_,cv=5)\n",
    "cv_score_val.mean().round(3),cv_score_val.round(3)"
   ]
  },
  {
   "cell_type": "code",
   "execution_count": 109,
   "metadata": {
    "ExecuteTime": {
     "end_time": "2019-10-24T13:57:31.468255Z",
     "start_time": "2019-10-24T13:57:30.747289Z"
    }
   },
   "outputs": [
    {
     "data": {
      "text/plain": [
       "(0.735, array([0.763, 0.733, 0.732, 0.75 , 0.7  ]))"
      ]
     },
     "execution_count": 109,
     "metadata": {},
     "output_type": "execute_result"
    }
   ],
   "source": [
    "cv_score_test = cross_val_score(dt,data_test,y_test_long.TTF_,cv=5)\n",
    "cv_score_test.mean().round(3),cv_score_test.round(3)"
   ]
  },
  {
   "cell_type": "code",
   "execution_count": 110,
   "metadata": {
    "ExecuteTime": {
     "end_time": "2019-10-24T13:57:31.483296Z",
     "start_time": "2019-10-24T13:57:31.469254Z"
    }
   },
   "outputs": [],
   "source": [
    "predict_dt_train = get_predicts(dt,data_train)\n",
    "predict_dt_val = get_predicts(dt,data_val)\n",
    "predict_dt_test = get_predicts(dt,data_test)"
   ]
  },
  {
   "cell_type": "code",
   "execution_count": 111,
   "metadata": {
    "ExecuteTime": {
     "end_time": "2019-10-24T13:57:31.563255Z",
     "start_time": "2019-10-24T13:57:31.484252Z"
    }
   },
   "outputs": [
    {
     "name": "stdout",
     "output_type": "stream",
     "text": [
      "Pct / Total / Diagonal:  100.0 17618 17618\n",
      "[[3440    0    0    0]\n",
      " [   0 4300    0    0]\n",
      " [   0    0  946    0]\n",
      " [   0    0    0 8932]]\n",
      "Pct / Total / Diagonal:  66.08 3013 1991\n",
      "[[ 345  134   34   47]\n",
      " [ 121  297    0  282]\n",
      " [  44    0  110    0]\n",
      " [  30  330    0 1239]]\n",
      "Pct / Total / Diagonal:  72.0 13096 9429\n",
      "[[ 476  273   20  100]\n",
      " [ 224  993    0 1091]\n",
      " [  10    0    7    0]\n",
      " [ 172 1777    0 7953]]\n"
     ]
    }
   ],
   "source": [
    "conf_train = get_confmatrix(y_train['TTF_'],predict_dt_train)\n",
    "conf_val = get_confmatrix(y_val['TTF_'],predict_dt_val)\n",
    "conf_test = get_confmatrix(y_test_long['TTF_'],predict_dt_test)"
   ]
  },
  {
   "cell_type": "code",
   "execution_count": 112,
   "metadata": {
    "ExecuteTime": {
     "end_time": "2019-10-24T13:57:31.966293Z",
     "start_time": "2019-10-24T13:57:31.564254Z"
    }
   },
   "outputs": [
    {
     "name": "stdout",
     "output_type": "stream",
     "text": [
      "[1.0, 1.0, 1.0, 1.0]\n",
      "[0.661, 0.639, 0.664, 0.661]\n",
      "[0.72, 0.517, 0.733, 0.72]\n"
     ]
    }
   ],
   "source": [
    "scores_train = get_scores(y_train['TTF_'],predict_dt_train)\n",
    "scores_val = get_scores(y_val['TTF_'],predict_dt_val)\n",
    "scores_test = get_scores(y_test_long['TTF_'],predict_dt_test)\n",
    "print(scores_train)\n",
    "print(scores_val)\n",
    "print(scores_test)"
   ]
  },
  {
   "cell_type": "code",
   "execution_count": 113,
   "metadata": {
    "ExecuteTime": {
     "end_time": "2019-10-24T13:57:31.973294Z",
     "start_time": "2019-10-24T13:57:31.967255Z"
    }
   },
   "outputs": [],
   "source": [
    "conf_train_pct = np.round(np.trace(conf_train)/np.sum(conf_train)*100,2)\n",
    "conf_val_pct = np.round(np.trace(conf_val)/np.sum(conf_val)*100,2)\n",
    "conf_test_pct = np.round(np.trace(conf_test)/np.sum(conf_test)*100,2)\n",
    "results_list.append(['dt',[cv_score_train.mean().round(3),cv_score_val.mean().round(3),cv_score_test.mean().round(3)],\\\n",
    "                     cv_score_test.round(3),[conf_train_pct,conf_val_pct,conf_test_pct],\\\n",
    "                    [scores_train, scores_val,scores_test]])"
   ]
  },
  {
   "cell_type": "markdown",
   "metadata": {},
   "source": [
    "## RandomForest"
   ]
  },
  {
   "cell_type": "code",
   "execution_count": 114,
   "metadata": {
    "ExecuteTime": {
     "end_time": "2019-10-24T13:57:32.340257Z",
     "start_time": "2019-10-24T13:57:31.975289Z"
    }
   },
   "outputs": [
    {
     "name": "stderr",
     "output_type": "stream",
     "text": [
      "C:\\Users\\tsar\\AppData\\Local\\conda\\conda\\envs\\py36\\lib\\site-packages\\sklearn\\ensemble\\forest.py:245: FutureWarning: The default value of n_estimators will change from 10 in version 0.20 to 100 in 0.22.\n",
      "  \"10 in version 0.20 to 100 in 0.22.\", FutureWarning)\n"
     ]
    },
    {
     "data": {
      "text/plain": [
       "RandomForestClassifier(bootstrap=True, class_weight=None, criterion='gini',\n",
       "                       max_depth=None, max_features='auto', max_leaf_nodes=None,\n",
       "                       min_impurity_decrease=0.0, min_impurity_split=None,\n",
       "                       min_samples_leaf=1, min_samples_split=2,\n",
       "                       min_weight_fraction_leaf=0.0, n_estimators=10,\n",
       "                       n_jobs=None, oob_score=False, random_state=0, verbose=0,\n",
       "                       warm_start=False)"
      ]
     },
     "execution_count": 114,
     "metadata": {},
     "output_type": "execute_result"
    }
   ],
   "source": [
    "from sklearn.ensemble import RandomForestClassifier\n",
    "rf = RandomForestClassifier(random_state=0) # , n_estimators=10, min_samples_leaf=5, max_depth=25\n",
    "rf.fit(data_train,y_train.TTF_)"
   ]
  },
  {
   "cell_type": "code",
   "execution_count": 115,
   "metadata": {
    "ExecuteTime": {
     "end_time": "2019-10-24T13:57:33.790266Z",
     "start_time": "2019-10-24T13:57:32.341257Z"
    }
   },
   "outputs": [
    {
     "data": {
      "text/plain": [
       "(0.728, array([0.771, 0.719, 0.764, 0.662, 0.725]))"
      ]
     },
     "execution_count": 115,
     "metadata": {},
     "output_type": "execute_result"
    }
   ],
   "source": [
    "cv_score_train = cross_val_score(rf,data_train,y_train.TTF_,cv=5)\n",
    "cv_score_train.mean().round(3),cv_score_train.round(3)"
   ]
  },
  {
   "cell_type": "code",
   "execution_count": 116,
   "metadata": {
    "ExecuteTime": {
     "end_time": "2019-10-24T13:57:34.045298Z",
     "start_time": "2019-10-24T13:57:33.791264Z"
    }
   },
   "outputs": [
    {
     "data": {
      "text/plain": [
       "(0.681, array([0.735, 0.632, 0.617, 0.697, 0.727]))"
      ]
     },
     "execution_count": 116,
     "metadata": {},
     "output_type": "execute_result"
    }
   ],
   "source": [
    "cv_score_val = cross_val_score(rf,data_val,y_val.TTF_,cv=5)\n",
    "cv_score_val.mean().round(3),cv_score_val.round(3)"
   ]
  },
  {
   "cell_type": "code",
   "execution_count": 117,
   "metadata": {
    "ExecuteTime": {
     "end_time": "2019-10-24T13:57:35.158271Z",
     "start_time": "2019-10-24T13:57:34.050263Z"
    }
   },
   "outputs": [
    {
     "data": {
      "text/plain": [
       "(0.809, array([0.83 , 0.788, 0.814, 0.83 , 0.784]))"
      ]
     },
     "execution_count": 117,
     "metadata": {},
     "output_type": "execute_result"
    }
   ],
   "source": [
    "cv_score_test = cross_val_score(rf,data_test,y_test_long.TTF_,cv=5)\n",
    "cv_score_test.mean().round(3),cv_score_test.round(3)"
   ]
  },
  {
   "cell_type": "code",
   "execution_count": 118,
   "metadata": {
    "ExecuteTime": {
     "end_time": "2019-10-24T13:57:35.226269Z",
     "start_time": "2019-10-24T13:57:35.161290Z"
    }
   },
   "outputs": [],
   "source": [
    "predict_rf_train = get_predicts(rf,data_train)\n",
    "predict_rf_val = get_predicts(rf,data_val)\n",
    "predict_rf_test = get_predicts(rf,data_test)"
   ]
  },
  {
   "cell_type": "code",
   "execution_count": 119,
   "metadata": {
    "ExecuteTime": {
     "end_time": "2019-10-24T13:57:35.305271Z",
     "start_time": "2019-10-24T13:57:35.227269Z"
    }
   },
   "outputs": [
    {
     "name": "stdout",
     "output_type": "stream",
     "text": [
      "Pct / Total / Diagonal:  99.06 17618 17453\n",
      "[[3422    7    3    8]\n",
      " [  37 4210    0   53]\n",
      " [  16    0  930    0]\n",
      " [   1   40    0 8891]]\n",
      "Pct / Total / Diagonal:  72.45 3013 2183\n",
      "[[ 414  100   13   33]\n",
      " [ 104  305    0  291]\n",
      " [  41    0  113    0]\n",
      " [   5  243    0 1351]]\n",
      "Pct / Total / Diagonal:  79.78 13096 10448\n",
      "[[ 550  215    5   99]\n",
      " [ 171  924    0 1213]\n",
      " [  11    0    6    0]\n",
      " [  39  895    0 8968]]\n"
     ]
    }
   ],
   "source": [
    "conf_train = get_confmatrix(y_train['TTF_'],predict_rf_train)\n",
    "conf_val = get_confmatrix(y_val['TTF_'],predict_rf_val)\n",
    "conf_test = get_confmatrix(y_test_long['TTF_'],predict_rf_test)"
   ]
  },
  {
   "cell_type": "code",
   "execution_count": 120,
   "metadata": {
    "ExecuteTime": {
     "end_time": "2019-10-24T13:57:35.692272Z",
     "start_time": "2019-10-24T13:57:35.306271Z"
    }
   },
   "outputs": [
    {
     "name": "stdout",
     "output_type": "stream",
     "text": [
      "[0.991, 0.989, 0.991, 0.991]\n",
      "[0.725, 0.705, 0.721, 0.725]\n",
      "[0.798, 0.603, 0.792, 0.798]\n"
     ]
    }
   ],
   "source": [
    "scores_train = get_scores(y_train['TTF_'],predict_rf_train)\n",
    "scores_val = get_scores(y_val['TTF_'],predict_rf_val)\n",
    "scores_test = get_scores(y_test_long['TTF_'],predict_rf_test)\n",
    "print(scores_train)\n",
    "print(scores_val)\n",
    "print(scores_test)"
   ]
  },
  {
   "cell_type": "code",
   "execution_count": 121,
   "metadata": {
    "ExecuteTime": {
     "end_time": "2019-10-24T13:57:35.697274Z",
     "start_time": "2019-10-24T13:57:35.693272Z"
    }
   },
   "outputs": [],
   "source": [
    "conf_train_pct = np.round(np.trace(conf_train)/np.sum(conf_train)*100,2)\n",
    "conf_val_pct = np.round(np.trace(conf_val)/np.sum(conf_val)*100,2)\n",
    "conf_test_pct = np.round(np.trace(conf_test)/np.sum(conf_test)*100,2)\n",
    "results_list.append(['rf',[cv_score_train.mean().round(3),cv_score_val.mean().round(3),cv_score_test.mean().round(3)],\\\n",
    "                     cv_score_test.round(3),[conf_train_pct,conf_val_pct,conf_test_pct],\\\n",
    "                    [scores_train, scores_val,scores_test]])"
   ]
  },
  {
   "cell_type": "code",
   "execution_count": 122,
   "metadata": {
    "ExecuteTime": {
     "end_time": "2019-10-24T13:57:35.708308Z",
     "start_time": "2019-10-24T13:57:35.698274Z"
    }
   },
   "outputs": [
    {
     "data": {
      "text/plain": [
       "array(['10to50', '50to100', 'less10', 'more100'], dtype=object)"
      ]
     },
     "execution_count": 122,
     "metadata": {},
     "output_type": "execute_result"
    }
   ],
   "source": [
    "rf.classes_"
   ]
  },
  {
   "cell_type": "markdown",
   "metadata": {},
   "source": [
    "## XGB"
   ]
  },
  {
   "cell_type": "code",
   "execution_count": 123,
   "metadata": {
    "ExecuteTime": {
     "end_time": "2019-10-24T13:57:35.713303Z",
     "start_time": "2019-10-24T13:57:35.709272Z"
    }
   },
   "outputs": [],
   "source": [
    "#np.unique(y.TTF_)"
   ]
  },
  {
   "cell_type": "code",
   "execution_count": 124,
   "metadata": {
    "ExecuteTime": {
     "end_time": "2019-10-24T13:57:35.720305Z",
     "start_time": "2019-10-24T13:57:35.714271Z"
    }
   },
   "outputs": [],
   "source": [
    "#from sklearn.utils import class_weight\n",
    "#class_weights = list(class_weight.compute_class_weight('balanced',\n",
    "#                                             np.unique(y.TTF_),\n",
    "#                                             y.TTF_))\n",
    "\n",
    "#w_array = np.ones(y.TTF_.shape[0], dtype = 'float')\n",
    "#for i, val in enumerate(y.TTF_):\n",
    "#    w_array[i] = class_weights[val-1]"
   ]
  },
  {
   "cell_type": "code",
   "execution_count": 125,
   "metadata": {
    "ExecuteTime": {
     "end_time": "2019-10-24T13:57:40.542393Z",
     "start_time": "2019-10-24T13:57:35.721279Z"
    }
   },
   "outputs": [
    {
     "data": {
      "text/plain": [
       "XGBClassifier(base_score=0.5, booster='gbtree', colsample_bylevel=1,\n",
       "              colsample_bynode=1, colsample_bytree=1, gamma=0,\n",
       "              learning_rate=0.1, max_delta_step=0, max_depth=3,\n",
       "              min_child_weight=1, missing=None, n_estimators=100, n_jobs=1,\n",
       "              nthread=None, objective='multi:softprob', random_state=0,\n",
       "              reg_alpha=0, reg_lambda=1, scale_pos_weight=1, seed=None,\n",
       "              silent=None, subsample=1, verbosity=1)"
      ]
     },
     "execution_count": 125,
     "metadata": {},
     "output_type": "execute_result"
    }
   ],
   "source": [
    "from xgboost import XGBClassifier\n",
    "xgb = XGBClassifier()\n",
    "#eval_set=[(data_train.iloc[:,2:], y_train.TTF_), (data_test.iloc[:,2:], y_test_long.TTF_)],\n",
    "#early_stopping_rounds=50,  verbose=False\n",
    "xgb.fit(data_train, y_train.TTF_) # , sample_weight=w_array"
   ]
  },
  {
   "cell_type": "code",
   "execution_count": 126,
   "metadata": {
    "ExecuteTime": {
     "end_time": "2019-10-24T13:58:00.163413Z",
     "start_time": "2019-10-24T13:57:40.543362Z"
    }
   },
   "outputs": [
    {
     "data": {
      "text/plain": [
       "(0.758, array([0.788, 0.745, 0.795, 0.708, 0.752]))"
      ]
     },
     "execution_count": 126,
     "metadata": {},
     "output_type": "execute_result"
    }
   ],
   "source": [
    "cv_score_train = cross_val_score(xgb,data_train,y_train.TTF_,cv=5)\n",
    "cv_score_train.mean().round(3),cv_score_train.round(3)"
   ]
  },
  {
   "cell_type": "code",
   "execution_count": 127,
   "metadata": {
    "ExecuteTime": {
     "end_time": "2019-10-24T13:58:04.524431Z",
     "start_time": "2019-10-24T13:58:00.164381Z"
    }
   },
   "outputs": [
    {
     "data": {
      "text/plain": [
       "(0.715, array([0.778, 0.663, 0.652, 0.75 , 0.734]))"
      ]
     },
     "execution_count": 127,
     "metadata": {},
     "output_type": "execute_result"
    }
   ],
   "source": [
    "cv_score_val = cross_val_score(xgb,data_val,y_val.TTF_,cv=5)\n",
    "cv_score_val.mean().round(3),cv_score_val.round(3)"
   ]
  },
  {
   "cell_type": "code",
   "execution_count": 128,
   "metadata": {
    "ExecuteTime": {
     "end_time": "2019-10-24T13:58:18.861496Z",
     "start_time": "2019-10-24T13:58:04.525399Z"
    }
   },
   "outputs": [
    {
     "data": {
      "text/plain": [
       "(0.826, array([0.839, 0.823, 0.822, 0.838, 0.809]))"
      ]
     },
     "execution_count": 128,
     "metadata": {},
     "output_type": "execute_result"
    }
   ],
   "source": [
    "cv_score_test = cross_val_score(xgb,data_test,y_test_long.TTF_,cv=5)\n",
    "cv_score_test.mean().round(3),cv_score_test.round(3)"
   ]
  },
  {
   "cell_type": "code",
   "execution_count": 129,
   "metadata": {
    "ExecuteTime": {
     "end_time": "2019-10-24T13:58:19.187533Z",
     "start_time": "2019-10-24T13:58:18.862464Z"
    }
   },
   "outputs": [],
   "source": [
    "predict_xgb_train = get_predicts(xgb,data_train)\n",
    "predict_xgb_val = get_predicts(xgb,data_val)\n",
    "predict_xgb_test = get_predicts(xgb,data_test)"
   ]
  },
  {
   "cell_type": "code",
   "execution_count": 130,
   "metadata": {
    "ExecuteTime": {
     "end_time": "2019-10-24T13:58:19.263468Z",
     "start_time": "2019-10-24T13:58:19.188502Z"
    }
   },
   "outputs": [
    {
     "name": "stdout",
     "output_type": "stream",
     "text": [
      "Pct / Total / Diagonal:  79.33 17618 13976\n",
      "[[2757  399  108  176]\n",
      " [ 409 1962    0 1929]\n",
      " [ 129    0  817    0]\n",
      " [   6  486    0 8440]]\n",
      "Pct / Total / Diagonal:  75.64 3013 2279\n",
      "[[ 407   99   13   41]\n",
      " [  85  273    0  342]\n",
      " [  35    0  119    0]\n",
      " [   1  118    0 1480]]\n",
      "Pct / Total / Diagonal:  83.32 13096 10911\n",
      "[[ 549  197    9  114]\n",
      " [ 141  794    0 1373]\n",
      " [   9    0    8    0]\n",
      " [  21  321    0 9560]]\n"
     ]
    }
   ],
   "source": [
    "conf_train = get_confmatrix(y_train['TTF_'],predict_xgb_train)\n",
    "conf_val = get_confmatrix(y_val['TTF_'],predict_xgb_val)\n",
    "conf_test = get_confmatrix(y_test_long['TTF_'],predict_xgb_test)"
   ]
  },
  {
   "cell_type": "code",
   "execution_count": 131,
   "metadata": {
    "ExecuteTime": {
     "end_time": "2019-10-24T13:58:19.656467Z",
     "start_time": "2019-10-24T13:58:19.264465Z"
    }
   },
   "outputs": [
    {
     "name": "stdout",
     "output_type": "stream",
     "text": [
      "[0.793, 0.777, 0.78, 0.793]\n",
      "[0.756, 0.724, 0.742, 0.756]\n",
      "[0.833, 0.628, 0.814, 0.833]\n"
     ]
    }
   ],
   "source": [
    "scores_train = get_scores(y_train['TTF_'],predict_xgb_train)\n",
    "scores_val = get_scores(y_val['TTF_'],predict_xgb_val)\n",
    "scores_test = get_scores(y_test_long['TTF_'],predict_xgb_test)\n",
    "print(scores_train)\n",
    "print(scores_val)\n",
    "print(scores_test)"
   ]
  },
  {
   "cell_type": "code",
   "execution_count": 132,
   "metadata": {
    "ExecuteTime": {
     "end_time": "2019-10-24T13:58:19.663467Z",
     "start_time": "2019-10-24T13:58:19.657498Z"
    }
   },
   "outputs": [],
   "source": [
    "conf_train_pct = np.round(np.trace(conf_train)/np.sum(conf_train)*100,2)\n",
    "conf_val_pct = np.round(np.trace(conf_val)/np.sum(conf_val)*100,2)\n",
    "conf_test_pct = np.round(np.trace(conf_test)/np.sum(conf_test)*100,2)\n",
    "results_list.append(['xgb',[cv_score_train.mean().round(3),cv_score_val.mean().round(3),cv_score_test.mean().round(3)],\\\n",
    "                     cv_score_test.round(3),[conf_train_pct,conf_val_pct,conf_test_pct],\\\n",
    "                    [scores_train, scores_val,scores_test]])"
   ]
  },
  {
   "cell_type": "code",
   "execution_count": 133,
   "metadata": {
    "ExecuteTime": {
     "end_time": "2019-10-24T13:58:19.669511Z",
     "start_time": "2019-10-24T13:58:19.664516Z"
    }
   },
   "outputs": [],
   "source": [
    "#[0.793, 0.777, 0.78, 0.793]\n",
    "#[0.756, 0.724, 0.742, 0.756]\n",
    "#[0.833, 0.628, 0.814, 0.833]"
   ]
  },
  {
   "cell_type": "code",
   "execution_count": 134,
   "metadata": {
    "ExecuteTime": {
     "end_time": "2019-10-24T13:58:19.689481Z",
     "start_time": "2019-10-24T13:58:19.670500Z"
    }
   },
   "outputs": [
    {
     "data": {
      "text/html": [
       "<div>\n",
       "<style scoped>\n",
       "    .dataframe tbody tr th:only-of-type {\n",
       "        vertical-align: middle;\n",
       "    }\n",
       "\n",
       "    .dataframe tbody tr th {\n",
       "        vertical-align: top;\n",
       "    }\n",
       "\n",
       "    .dataframe thead th {\n",
       "        text-align: right;\n",
       "    }\n",
       "</style>\n",
       "<table border=\"1\" class=\"dataframe\">\n",
       "  <thead>\n",
       "    <tr style=\"text-align: right;\">\n",
       "      <th></th>\n",
       "      <th>setting1</th>\n",
       "      <th>setting2</th>\n",
       "      <th>sensor2</th>\n",
       "      <th>sensor3</th>\n",
       "      <th>sensor4</th>\n",
       "      <th>sensor6</th>\n",
       "      <th>sensor7</th>\n",
       "      <th>sensor8</th>\n",
       "      <th>sensor9</th>\n",
       "      <th>sensor11</th>\n",
       "      <th>sensor12</th>\n",
       "      <th>sensor13</th>\n",
       "      <th>sensor14</th>\n",
       "      <th>sensor15</th>\n",
       "      <th>sensor17</th>\n",
       "      <th>sensor20</th>\n",
       "      <th>sensor21</th>\n",
       "    </tr>\n",
       "  </thead>\n",
       "  <tbody>\n",
       "    <tr>\n",
       "      <th>0</th>\n",
       "      <td>0.0023</td>\n",
       "      <td>0.0003</td>\n",
       "      <td>643.02</td>\n",
       "      <td>1585.29</td>\n",
       "      <td>1398.21</td>\n",
       "      <td>21.61</td>\n",
       "      <td>553.90</td>\n",
       "      <td>2388.04</td>\n",
       "      <td>9050.17</td>\n",
       "      <td>47.20</td>\n",
       "      <td>521.72</td>\n",
       "      <td>2388.03</td>\n",
       "      <td>8125.55</td>\n",
       "      <td>8.4052</td>\n",
       "      <td>392</td>\n",
       "      <td>38.86</td>\n",
       "      <td>23.3735</td>\n",
       "    </tr>\n",
       "    <tr>\n",
       "      <th>1</th>\n",
       "      <td>-0.0027</td>\n",
       "      <td>-0.0003</td>\n",
       "      <td>641.71</td>\n",
       "      <td>1588.45</td>\n",
       "      <td>1395.42</td>\n",
       "      <td>21.61</td>\n",
       "      <td>554.85</td>\n",
       "      <td>2388.01</td>\n",
       "      <td>9054.42</td>\n",
       "      <td>47.50</td>\n",
       "      <td>522.16</td>\n",
       "      <td>2388.06</td>\n",
       "      <td>8139.62</td>\n",
       "      <td>8.3803</td>\n",
       "      <td>393</td>\n",
       "      <td>39.02</td>\n",
       "      <td>23.3916</td>\n",
       "    </tr>\n",
       "    <tr>\n",
       "      <th>2</th>\n",
       "      <td>0.0003</td>\n",
       "      <td>0.0001</td>\n",
       "      <td>642.46</td>\n",
       "      <td>1586.94</td>\n",
       "      <td>1401.34</td>\n",
       "      <td>21.61</td>\n",
       "      <td>554.11</td>\n",
       "      <td>2388.05</td>\n",
       "      <td>9056.96</td>\n",
       "      <td>47.50</td>\n",
       "      <td>521.97</td>\n",
       "      <td>2388.03</td>\n",
       "      <td>8130.10</td>\n",
       "      <td>8.4441</td>\n",
       "      <td>393</td>\n",
       "      <td>39.08</td>\n",
       "      <td>23.4166</td>\n",
       "    </tr>\n",
       "    <tr>\n",
       "      <th>3</th>\n",
       "      <td>0.0042</td>\n",
       "      <td>0.0000</td>\n",
       "      <td>642.44</td>\n",
       "      <td>1584.12</td>\n",
       "      <td>1406.42</td>\n",
       "      <td>21.61</td>\n",
       "      <td>554.07</td>\n",
       "      <td>2388.03</td>\n",
       "      <td>9045.29</td>\n",
       "      <td>47.28</td>\n",
       "      <td>521.38</td>\n",
       "      <td>2388.05</td>\n",
       "      <td>8132.90</td>\n",
       "      <td>8.3917</td>\n",
       "      <td>391</td>\n",
       "      <td>39.00</td>\n",
       "      <td>23.3737</td>\n",
       "    </tr>\n",
       "    <tr>\n",
       "      <th>4</th>\n",
       "      <td>0.0014</td>\n",
       "      <td>0.0000</td>\n",
       "      <td>642.51</td>\n",
       "      <td>1587.19</td>\n",
       "      <td>1401.92</td>\n",
       "      <td>21.61</td>\n",
       "      <td>554.16</td>\n",
       "      <td>2388.01</td>\n",
       "      <td>9044.55</td>\n",
       "      <td>47.31</td>\n",
       "      <td>522.15</td>\n",
       "      <td>2388.03</td>\n",
       "      <td>8129.54</td>\n",
       "      <td>8.4031</td>\n",
       "      <td>390</td>\n",
       "      <td>38.99</td>\n",
       "      <td>23.4130</td>\n",
       "    </tr>\n",
       "    <tr>\n",
       "      <th>5</th>\n",
       "      <td>0.0012</td>\n",
       "      <td>0.0003</td>\n",
       "      <td>642.11</td>\n",
       "      <td>1579.12</td>\n",
       "      <td>1395.13</td>\n",
       "      <td>21.61</td>\n",
       "      <td>554.22</td>\n",
       "      <td>2388.00</td>\n",
       "      <td>9050.96</td>\n",
       "      <td>47.26</td>\n",
       "      <td>521.92</td>\n",
       "      <td>2388.08</td>\n",
       "      <td>8127.46</td>\n",
       "      <td>8.4238</td>\n",
       "      <td>392</td>\n",
       "      <td>38.91</td>\n",
       "      <td>23.3467</td>\n",
       "    </tr>\n",
       "    <tr>\n",
       "      <th>6</th>\n",
       "      <td>-0.0000</td>\n",
       "      <td>0.0002</td>\n",
       "      <td>642.11</td>\n",
       "      <td>1583.34</td>\n",
       "      <td>1404.84</td>\n",
       "      <td>21.61</td>\n",
       "      <td>553.89</td>\n",
       "      <td>2388.05</td>\n",
       "      <td>9051.39</td>\n",
       "      <td>47.31</td>\n",
       "      <td>522.01</td>\n",
       "      <td>2388.06</td>\n",
       "      <td>8134.97</td>\n",
       "      <td>8.3914</td>\n",
       "      <td>391</td>\n",
       "      <td>38.85</td>\n",
       "      <td>23.3952</td>\n",
       "    </tr>\n",
       "    <tr>\n",
       "      <th>7</th>\n",
       "      <td>0.0006</td>\n",
       "      <td>-0.0000</td>\n",
       "      <td>642.54</td>\n",
       "      <td>1580.89</td>\n",
       "      <td>1400.89</td>\n",
       "      <td>21.61</td>\n",
       "      <td>553.59</td>\n",
       "      <td>2388.05</td>\n",
       "      <td>9052.86</td>\n",
       "      <td>47.21</td>\n",
       "      <td>522.09</td>\n",
       "      <td>2388.06</td>\n",
       "      <td>8125.93</td>\n",
       "      <td>8.4213</td>\n",
       "      <td>393</td>\n",
       "      <td>39.05</td>\n",
       "      <td>23.3224</td>\n",
       "    </tr>\n",
       "    <tr>\n",
       "      <th>8</th>\n",
       "      <td>-0.0036</td>\n",
       "      <td>0.0000</td>\n",
       "      <td>641.88</td>\n",
       "      <td>1593.29</td>\n",
       "      <td>1412.28</td>\n",
       "      <td>21.61</td>\n",
       "      <td>554.49</td>\n",
       "      <td>2388.06</td>\n",
       "      <td>9048.55</td>\n",
       "      <td>47.37</td>\n",
       "      <td>522.03</td>\n",
       "      <td>2388.05</td>\n",
       "      <td>8134.15</td>\n",
       "      <td>8.4353</td>\n",
       "      <td>391</td>\n",
       "      <td>39.10</td>\n",
       "      <td>23.4521</td>\n",
       "    </tr>\n",
       "    <tr>\n",
       "      <th>9</th>\n",
       "      <td>-0.0025</td>\n",
       "      <td>-0.0001</td>\n",
       "      <td>642.07</td>\n",
       "      <td>1585.25</td>\n",
       "      <td>1398.64</td>\n",
       "      <td>21.61</td>\n",
       "      <td>554.28</td>\n",
       "      <td>2388.04</td>\n",
       "      <td>9051.95</td>\n",
       "      <td>47.14</td>\n",
       "      <td>522.00</td>\n",
       "      <td>2388.06</td>\n",
       "      <td>8134.08</td>\n",
       "      <td>8.4093</td>\n",
       "      <td>391</td>\n",
       "      <td>38.87</td>\n",
       "      <td>23.3820</td>\n",
       "    </tr>\n",
       "  </tbody>\n",
       "</table>\n",
       "</div>"
      ],
      "text/plain": [
       "   setting1  setting2  sensor2  sensor3  sensor4  sensor6  sensor7  sensor8  \\\n",
       "0    0.0023    0.0003   643.02  1585.29  1398.21    21.61   553.90  2388.04   \n",
       "1   -0.0027   -0.0003   641.71  1588.45  1395.42    21.61   554.85  2388.01   \n",
       "2    0.0003    0.0001   642.46  1586.94  1401.34    21.61   554.11  2388.05   \n",
       "3    0.0042    0.0000   642.44  1584.12  1406.42    21.61   554.07  2388.03   \n",
       "4    0.0014    0.0000   642.51  1587.19  1401.92    21.61   554.16  2388.01   \n",
       "5    0.0012    0.0003   642.11  1579.12  1395.13    21.61   554.22  2388.00   \n",
       "6   -0.0000    0.0002   642.11  1583.34  1404.84    21.61   553.89  2388.05   \n",
       "7    0.0006   -0.0000   642.54  1580.89  1400.89    21.61   553.59  2388.05   \n",
       "8   -0.0036    0.0000   641.88  1593.29  1412.28    21.61   554.49  2388.06   \n",
       "9   -0.0025   -0.0001   642.07  1585.25  1398.64    21.61   554.28  2388.04   \n",
       "\n",
       "   sensor9  sensor11  sensor12  sensor13  sensor14  sensor15  sensor17  \\\n",
       "0  9050.17     47.20    521.72   2388.03   8125.55    8.4052       392   \n",
       "1  9054.42     47.50    522.16   2388.06   8139.62    8.3803       393   \n",
       "2  9056.96     47.50    521.97   2388.03   8130.10    8.4441       393   \n",
       "3  9045.29     47.28    521.38   2388.05   8132.90    8.3917       391   \n",
       "4  9044.55     47.31    522.15   2388.03   8129.54    8.4031       390   \n",
       "5  9050.96     47.26    521.92   2388.08   8127.46    8.4238       392   \n",
       "6  9051.39     47.31    522.01   2388.06   8134.97    8.3914       391   \n",
       "7  9052.86     47.21    522.09   2388.06   8125.93    8.4213       393   \n",
       "8  9048.55     47.37    522.03   2388.05   8134.15    8.4353       391   \n",
       "9  9051.95     47.14    522.00   2388.06   8134.08    8.4093       391   \n",
       "\n",
       "   sensor20  sensor21  \n",
       "0     38.86   23.3735  \n",
       "1     39.02   23.3916  \n",
       "2     39.08   23.4166  \n",
       "3     39.00   23.3737  \n",
       "4     38.99   23.4130  \n",
       "5     38.91   23.3467  \n",
       "6     38.85   23.3952  \n",
       "7     39.05   23.3224  \n",
       "8     39.10   23.4521  \n",
       "9     38.87   23.3820  "
      ]
     },
     "execution_count": 134,
     "metadata": {},
     "output_type": "execute_result"
    }
   ],
   "source": [
    "data_test[:10]"
   ]
  },
  {
   "cell_type": "code",
   "execution_count": 135,
   "metadata": {
    "ExecuteTime": {
     "end_time": "2019-10-24T13:58:19.695468Z",
     "start_time": "2019-10-24T13:58:19.690469Z"
    }
   },
   "outputs": [
    {
     "data": {
      "text/plain": [
       "array(['10to50', '50to100', 'less10', 'more100'], dtype=object)"
      ]
     },
     "execution_count": 135,
     "metadata": {},
     "output_type": "execute_result"
    }
   ],
   "source": [
    "xgb.classes_"
   ]
  },
  {
   "cell_type": "code",
   "execution_count": 136,
   "metadata": {
    "ExecuteTime": {
     "end_time": "2019-10-24T13:58:19.730469Z",
     "start_time": "2019-10-24T13:58:19.696467Z"
    }
   },
   "outputs": [
    {
     "name": "stdout",
     "output_type": "stream",
     "text": [
      "Pct / Total / Diagonal:  83.32 13096 10911\n",
      "[[ 549  197    9  114]\n",
      " [ 141  794    0 1373]\n",
      " [   9    0    8    0]\n",
      " [  21  321    0 9560]]\n"
     ]
    },
    {
     "data": {
      "text/plain": [
       "array([[ 549,  197,    9,  114],\n",
       "       [ 141,  794,    0, 1373],\n",
       "       [   9,    0,    8,    0],\n",
       "       [  21,  321,    0, 9560]], dtype=int64)"
      ]
     },
     "execution_count": 136,
     "metadata": {},
     "output_type": "execute_result"
    }
   ],
   "source": [
    "# use y_test_long['TTF_'][2400:2450],predict_xgb_test[2400:2450] to get a small but representative example\n",
    "get_confmatrix(y_test_long['TTF_'],predict_xgb_test)"
   ]
  },
  {
   "cell_type": "code",
   "execution_count": 137,
   "metadata": {
    "ExecuteTime": {
     "end_time": "2019-10-24T13:58:19.773500Z",
     "start_time": "2019-10-24T13:58:19.732508Z"
    }
   },
   "outputs": [
    {
     "data": {
      "text/html": [
       "<div>\n",
       "<style scoped>\n",
       "    .dataframe tbody tr th:only-of-type {\n",
       "        vertical-align: middle;\n",
       "    }\n",
       "\n",
       "    .dataframe tbody tr th {\n",
       "        vertical-align: top;\n",
       "    }\n",
       "\n",
       "    .dataframe thead th {\n",
       "        text-align: right;\n",
       "    }\n",
       "</style>\n",
       "<table border=\"1\" class=\"dataframe\">\n",
       "  <thead>\n",
       "    <tr style=\"text-align: right;\">\n",
       "      <th>Predicted</th>\n",
       "      <th>10to50</th>\n",
       "      <th>50to100</th>\n",
       "      <th>less10</th>\n",
       "      <th>more100</th>\n",
       "      <th>All</th>\n",
       "    </tr>\n",
       "    <tr>\n",
       "      <th>Actual</th>\n",
       "      <th></th>\n",
       "      <th></th>\n",
       "      <th></th>\n",
       "      <th></th>\n",
       "      <th></th>\n",
       "    </tr>\n",
       "  </thead>\n",
       "  <tbody>\n",
       "    <tr>\n",
       "      <th>10to50</th>\n",
       "      <td>18</td>\n",
       "      <td>16</td>\n",
       "      <td>1</td>\n",
       "      <td>0</td>\n",
       "      <td>35</td>\n",
       "    </tr>\n",
       "    <tr>\n",
       "      <th>more100</th>\n",
       "      <td>0</td>\n",
       "      <td>0</td>\n",
       "      <td>0</td>\n",
       "      <td>15</td>\n",
       "      <td>15</td>\n",
       "    </tr>\n",
       "    <tr>\n",
       "      <th>All</th>\n",
       "      <td>18</td>\n",
       "      <td>16</td>\n",
       "      <td>1</td>\n",
       "      <td>15</td>\n",
       "      <td>50</td>\n",
       "    </tr>\n",
       "  </tbody>\n",
       "</table>\n",
       "</div>"
      ],
      "text/plain": [
       "Predicted  10to50  50to100  less10  more100  All\n",
       "Actual                                          \n",
       "10to50         18       16       1        0   35\n",
       "more100         0        0       0       15   15\n",
       "All            18       16       1       15   50"
      ]
     },
     "execution_count": 137,
     "metadata": {},
     "output_type": "execute_result"
    }
   ],
   "source": [
    "pd.crosstab(y_test_long['TTF_'][2400:2450].values, predict_xgb_test[2400:2450], rownames=['Actual'], colnames=['Predicted'], margins=True)"
   ]
  },
  {
   "cell_type": "markdown",
   "metadata": {},
   "source": [
    "Some notes regarding the confusion matrix...<br/>We have 197 50to100 and 114 more100 when actual RUL is 10 to 50, which means that we are too positive regarding the RUL which may lead to failure earlier than predicted."
   ]
  },
  {
   "cell_type": "code",
   "execution_count": 138,
   "metadata": {
    "ExecuteTime": {
     "end_time": "2019-10-24T13:58:19.779500Z",
     "start_time": "2019-10-24T13:58:19.774499Z"
    }
   },
   "outputs": [
    {
     "data": {
      "text/plain": [
       "array(['10to50', '10to50', '10to50', '10to50', '10to50', '10to50',\n",
       "       '10to50', '10to50', '10to50', '10to50', '10to50', '10to50',\n",
       "       '10to50', '10to50', '10to50', '10to50', '10to50', '10to50',\n",
       "       '10to50', '10to50', '10to50', '10to50', '10to50', '10to50',\n",
       "       '10to50', '10to50', '10to50', '10to50', '10to50', '10to50',\n",
       "       '10to50', '10to50', '10to50', '10to50', '10to50', 'more100',\n",
       "       'more100', 'more100', 'more100', 'more100', 'more100', 'more100',\n",
       "       'more100', 'more100', 'more100', 'more100', 'more100', 'more100',\n",
       "       'more100', 'more100'], dtype=object)"
      ]
     },
     "execution_count": 138,
     "metadata": {},
     "output_type": "execute_result"
    }
   ],
   "source": [
    "y_test_long['TTF_'][2400:2450].values"
   ]
  },
  {
   "cell_type": "code",
   "execution_count": 139,
   "metadata": {
    "ExecuteTime": {
     "end_time": "2019-10-24T13:58:19.784471Z",
     "start_time": "2019-10-24T13:58:19.780503Z"
    }
   },
   "outputs": [
    {
     "data": {
      "text/plain": [
       "array(['50to100', '50to100', '50to100', '50to100', '50to100', '50to100',\n",
       "       '10to50', '50to100', '50to100', '50to100', '50to100', '50to100',\n",
       "       '10to50', '50to100', '50to100', '50to100', '50to100', '50to100',\n",
       "       '10to50', '10to50', '10to50', '10to50', '10to50', '10to50',\n",
       "       '10to50', '10to50', '10to50', '10to50', '10to50', '10to50',\n",
       "       '10to50', '10to50', '10to50', 'less10', '10to50', 'more100',\n",
       "       'more100', 'more100', 'more100', 'more100', 'more100', 'more100',\n",
       "       'more100', 'more100', 'more100', 'more100', 'more100', 'more100',\n",
       "       'more100', 'more100'], dtype=object)"
      ]
     },
     "execution_count": 139,
     "metadata": {},
     "output_type": "execute_result"
    }
   ],
   "source": [
    "predict_xgb_test[2400:2450]"
   ]
  },
  {
   "cell_type": "markdown",
   "metadata": {},
   "source": [
    "## XGB Regression"
   ]
  },
  {
   "cell_type": "code",
   "execution_count": 140,
   "metadata": {
    "ExecuteTime": {
     "end_time": "2019-10-24T13:58:19.789497Z",
     "start_time": "2019-10-24T13:58:19.785505Z"
    }
   },
   "outputs": [],
   "source": [
    "def mean_absolute_percentage_error(y_true, y_pred): \n",
    "    return np.mean(np.abs((y_true - y_pred) / y_true)) * 100"
   ]
  },
  {
   "cell_type": "code",
   "execution_count": 141,
   "metadata": {
    "ExecuteTime": {
     "end_time": "2019-10-24T13:58:21.063505Z",
     "start_time": "2019-10-24T13:58:19.790470Z"
    }
   },
   "outputs": [
    {
     "name": "stdout",
     "output_type": "stream",
     "text": [
      "[16:58:19] WARNING: C:/Jenkins/workspace/xgboost-win64_release_0.90/src/objective/regression_obj.cu:152: reg:linear is now deprecated in favor of reg:squarederror.\n"
     ]
    },
    {
     "name": "stderr",
     "output_type": "stream",
     "text": [
      "C:\\Users\\tsar\\AppData\\Local\\conda\\conda\\envs\\py36\\lib\\site-packages\\xgboost\\core.py:587: FutureWarning: Series.base is deprecated and will be removed in a future version\n",
      "  if getattr(data, 'base', None) is not None and \\\n",
      "C:\\Users\\tsar\\AppData\\Local\\conda\\conda\\envs\\py36\\lib\\site-packages\\xgboost\\core.py:588: FutureWarning: Series.base is deprecated and will be removed in a future version\n",
      "  data.base is not None and isinstance(data, np.ndarray) \\\n"
     ]
    },
    {
     "data": {
      "text/plain": [
       "XGBRegressor(base_score=0.5, booster='gbtree', colsample_bylevel=1,\n",
       "             colsample_bynode=1, colsample_bytree=1, gamma=0,\n",
       "             importance_type='gain', learning_rate=0.1, max_delta_step=0,\n",
       "             max_depth=3, min_child_weight=1, missing=None, n_estimators=100,\n",
       "             n_jobs=1, nthread=None, objective='reg:linear', random_state=0,\n",
       "             reg_alpha=0, reg_lambda=1, scale_pos_weight=1, seed=None,\n",
       "             silent=None, subsample=1, verbosity=1)"
      ]
     },
     "execution_count": 141,
     "metadata": {},
     "output_type": "execute_result"
    }
   ],
   "source": [
    "from xgboost import XGBRegressor\n",
    "from sklearn.metrics import mean_squared_error\n",
    "from sklearn.metrics import mean_absolute_error\n",
    "xgbr = XGBRegressor()\n",
    "#eval_set=[(data_train.iloc[:,2:], y_train.TTF_), (data_test.iloc[:,2:], y_test_long.TTF_)],\n",
    "#early_stopping_rounds=50,  verbose=False\n",
    "xgbr.fit(data_train, y_train.TTF)"
   ]
  },
  {
   "cell_type": "code",
   "execution_count": 142,
   "metadata": {
    "ExecuteTime": {
     "end_time": "2019-10-24T13:58:21.148527Z",
     "start_time": "2019-10-24T13:58:21.064473Z"
    }
   },
   "outputs": [],
   "source": [
    "predict_xgbr_train = get_predicts(xgbr,data_train)\n",
    "predict_xgbr_val = get_predicts(xgbr,data_val)\n",
    "predict_xgbr_test = get_predicts(xgbr,data_test)"
   ]
  },
  {
   "cell_type": "code",
   "execution_count": 143,
   "metadata": {
    "ExecuteTime": {
     "end_time": "2019-10-24T13:58:21.154475Z",
     "start_time": "2019-10-24T13:58:21.149511Z"
    }
   },
   "outputs": [
    {
     "data": {
      "text/plain": [
       "(38.407046793218164, 51.89746057981903, 45.71892335760576)"
      ]
     },
     "execution_count": 143,
     "metadata": {},
     "output_type": "execute_result"
    }
   ],
   "source": [
    "np.sqrt(mean_squared_error(y_train.TTF,predict_xgbr_train)),np.sqrt(mean_squared_error(y_val.TTF,predict_xgbr_val)),\\\n",
    "np.sqrt(mean_squared_error(y_test_long.TTF,predict_xgbr_test))"
   ]
  },
  {
   "cell_type": "code",
   "execution_count": 144,
   "metadata": {
    "ExecuteTime": {
     "end_time": "2019-10-24T13:58:21.161508Z",
     "start_time": "2019-10-24T13:58:21.155474Z"
    }
   },
   "outputs": [
    {
     "data": {
      "text/plain": [
       "(27.3297600680792, 37.29845203860353, 34.33775893296129)"
      ]
     },
     "execution_count": 144,
     "metadata": {},
     "output_type": "execute_result"
    }
   ],
   "source": [
    "mean_absolute_error(y_train.TTF,predict_xgbr_train),mean_absolute_error(y_val.TTF,predict_xgbr_val),\\\n",
    "mean_absolute_error(y_test_long.TTF,predict_xgbr_test)"
   ]
  },
  {
   "cell_type": "code",
   "execution_count": 145,
   "metadata": {
    "ExecuteTime": {
     "end_time": "2019-10-24T13:58:21.169513Z",
     "start_time": "2019-10-24T13:58:21.162513Z"
    }
   },
   "outputs": [
    {
     "data": {
      "text/plain": [
       "(inf, inf, 28.228534032141695)"
      ]
     },
     "execution_count": 145,
     "metadata": {},
     "output_type": "execute_result"
    }
   ],
   "source": [
    "mean_absolute_percentage_error(y_train.TTF,predict_xgbr_train),mean_absolute_percentage_error(y_val.TTF,predict_xgbr_val),\\\n",
    "mean_absolute_percentage_error(y_test_long.TTF,predict_xgbr_test)"
   ]
  },
  {
   "cell_type": "code",
   "execution_count": 146,
   "metadata": {
    "ExecuteTime": {
     "end_time": "2019-10-24T13:58:21.173512Z",
     "start_time": "2019-10-24T13:58:21.170500Z"
    }
   },
   "outputs": [],
   "source": [
    "#print(y_train[:192]['TTF'].values)\n",
    "#print(predict_xgbr_train[:192])"
   ]
  },
  {
   "cell_type": "code",
   "execution_count": 147,
   "metadata": {
    "ExecuteTime": {
     "end_time": "2019-10-24T13:58:21.178500Z",
     "start_time": "2019-10-24T13:58:21.174500Z"
    }
   },
   "outputs": [],
   "source": [
    "#get_confmatrix(y_train['TTF_'],predict_xgb_train)\n",
    "#get_confmatrix(y_val['TTF_'],predict_xgb_val)\n",
    "#get_confmatrix(y_test_long['TTF_'],predict_xgb_test)"
   ]
  },
  {
   "cell_type": "code",
   "execution_count": 148,
   "metadata": {
    "ExecuteTime": {
     "end_time": "2019-10-24T13:58:21.183475Z",
     "start_time": "2019-10-24T13:58:21.179499Z"
    }
   },
   "outputs": [],
   "source": [
    "#print(get_scores(y_train['TTF_'],predict_xgb_train))\n",
    "#print(get_scores(y_val['TTF_'],predict_xgb_val))\n",
    "#print(get_scores(y_test_long['TTF_'],predict_xgb_test))"
   ]
  },
  {
   "cell_type": "code",
   "execution_count": 149,
   "metadata": {
    "ExecuteTime": {
     "end_time": "2019-10-24T13:58:22.344513Z",
     "start_time": "2019-10-24T13:58:21.184483Z"
    }
   },
   "outputs": [
    {
     "data": {
      "text/plain": [
       "<matplotlib.legend.Legend at 0x2558e43a588>"
      ]
     },
     "execution_count": 149,
     "metadata": {},
     "output_type": "execute_result"
    },
    {
     "data": {
      "image/png": "[encoded data removed]",
      "text/plain": [
       "<Figure size 1080x360 with 2 Axes>"
      ]
     },
     "metadata": {
      "needs_background": "light"
     },
     "output_type": "display_data"
    }
   ],
   "source": [
    "plt.figure(figsize=(15,5))\n",
    "plt.subplot(1,2,1)\n",
    "plt.scatter(np.arange(0,y_train.shape[0]),y_train.TTF,label='GT')\n",
    "#plt.scatter(np.arange(0,len(predict_xgbr_train)),predict_xgbr_train,alpha=0.5,label='predict')\n",
    "plt.scatter(np.arange(0,y_test_long.shape[0]),y_test_long.TTF,label='GT_test')\n",
    "#plt.scatter(np.arange(0,len(predict_xgbr_test)),predict_xgbr_test,alpha=0.5,label='predict_test')\n",
    "plt.legend()\n",
    "plt.subplot(1,2,2)\n",
    "plt.scatter(np.arange(0,data_train.shape[0]),data_train[data_train.columns[0]],label='data_train')\n",
    "plt.scatter(np.arange(0,data_test.shape[0]),data_test[data_train.columns[0]],label='data_test')\n",
    "plt.legend()"
   ]
  },
  {
   "cell_type": "code",
   "execution_count": 150,
   "metadata": {
    "ExecuteTime": {
     "end_time": "2019-10-24T13:58:22.917515Z",
     "start_time": "2019-10-24T13:58:22.345479Z"
    }
   },
   "outputs": [
    {
     "data": {
      "text/plain": [
       "<matplotlib.legend.Legend at 0x2558e4dabe0>"
      ]
     },
     "execution_count": 150,
     "metadata": {},
     "output_type": "execute_result"
    },
    {
     "data": {
      "image/png": "[encoded data removed]",
      "text/plain": [
       "<Figure size 1080x360 with 1 Axes>"
      ]
     },
     "metadata": {
      "needs_background": "light"
     },
     "output_type": "display_data"
    }
   ],
   "source": [
    "plt.figure(figsize=(15,5))\n",
    "plt.scatter(np.arange(0,y_test_long.shape[0]),y_test_long.TTF,label='GT')\n",
    "plt.scatter(np.arange(0,len(predict_xgbr_test)),predict_xgbr_test,alpha=0.5,label='predict')\n",
    "plt.legend()"
   ]
  },
  {
   "cell_type": "markdown",
   "metadata": {},
   "source": [
    "## kNN"
   ]
  },
  {
   "cell_type": "code",
   "execution_count": 151,
   "metadata": {
    "ExecuteTime": {
     "end_time": "2019-10-24T13:58:22.953512Z",
     "start_time": "2019-10-24T13:58:22.918482Z"
    }
   },
   "outputs": [
    {
     "data": {
      "text/plain": [
       "KNeighborsClassifier(algorithm='auto', leaf_size=30, metric='minkowski',\n",
       "                     metric_params=None, n_jobs=None, n_neighbors=5, p=2,\n",
       "                     weights='uniform')"
      ]
     },
     "execution_count": 151,
     "metadata": {},
     "output_type": "execute_result"
    }
   ],
   "source": [
    "from sklearn.neighbors import KNeighborsClassifier\n",
    "knn = KNeighborsClassifier()\n",
    "knn.fit(data_train, y_train.TTF_)"
   ]
  },
  {
   "cell_type": "code",
   "execution_count": 152,
   "metadata": {
    "ExecuteTime": {
     "end_time": "2019-10-24T13:58:23.776489Z",
     "start_time": "2019-10-24T13:58:22.954480Z"
    }
   },
   "outputs": [
    {
     "data": {
      "text/plain": [
       "(0.683, array([0.724, 0.676, 0.7  , 0.641, 0.673]))"
      ]
     },
     "execution_count": 152,
     "metadata": {},
     "output_type": "execute_result"
    }
   ],
   "source": [
    "cv_score_train = cross_val_score(knn,data_train,y_train.TTF_,cv=5)\n",
    "cv_score_train.mean().round(3),cv_score_train.round(3)"
   ]
  },
  {
   "cell_type": "code",
   "execution_count": 153,
   "metadata": {
    "ExecuteTime": {
     "end_time": "2019-10-24T13:58:23.912520Z",
     "start_time": "2019-10-24T13:58:23.777485Z"
    }
   },
   "outputs": [
    {
     "data": {
      "text/plain": [
       "(0.656, array([0.682, 0.61 , 0.624, 0.698, 0.667]))"
      ]
     },
     "execution_count": 153,
     "metadata": {},
     "output_type": "execute_result"
    }
   ],
   "source": [
    "cv_score_val = cross_val_score(knn,data_val,y_val.TTF_,cv=5)\n",
    "cv_score_val.mean().round(3),cv_score_val.round(3)"
   ]
  },
  {
   "cell_type": "code",
   "execution_count": 154,
   "metadata": {
    "ExecuteTime": {
     "end_time": "2019-10-24T13:58:24.553521Z",
     "start_time": "2019-10-24T13:58:23.913487Z"
    }
   },
   "outputs": [
    {
     "data": {
      "text/plain": [
       "(0.785, array([0.8  , 0.779, 0.78 , 0.807, 0.761]))"
      ]
     },
     "execution_count": 154,
     "metadata": {},
     "output_type": "execute_result"
    }
   ],
   "source": [
    "cv_score_test = cross_val_score(knn,data_test,y_test_long.TTF_,cv=5)\n",
    "cv_score_test.mean().round(3),cv_score_test.round(3)"
   ]
  },
  {
   "cell_type": "code",
   "execution_count": 155,
   "metadata": {
    "ExecuteTime": {
     "end_time": "2019-10-24T13:58:25.887548Z",
     "start_time": "2019-10-24T13:58:24.554489Z"
    }
   },
   "outputs": [],
   "source": [
    "predict_knn_train = get_predicts(knn,data_train)\n",
    "predict_knn_val = get_predicts(knn,data_val)\n",
    "predict_knn_test = get_predicts(knn,data_test)"
   ]
  },
  {
   "cell_type": "code",
   "execution_count": 156,
   "metadata": {
    "ExecuteTime": {
     "end_time": "2019-10-24T13:58:25.965527Z",
     "start_time": "2019-10-24T13:58:25.888528Z"
    }
   },
   "outputs": [
    {
     "name": "stdout",
     "output_type": "stream",
     "text": [
      "Pct / Total / Diagonal:  78.66 17618 13858\n",
      "[[2725  409  138  168]\n",
      " [ 457 2363    0 1480]\n",
      " [ 243    1  702    0]\n",
      " [ 148  716    0 8068]]\n",
      "Pct / Total / Diagonal:  69.27 3013 2087\n",
      "[[ 352  118   31   59]\n",
      " [ 121  272    0  307]\n",
      " [  62    1   91    0]\n",
      " [  16  211    0 1372]]\n",
      "Pct / Total / Diagonal:  76.67 13096 10041\n",
      "[[ 485  228   17  139]\n",
      " [ 228  796    0 1284]\n",
      " [   9    0    8    0]\n",
      " [ 165  985    0 8752]]\n"
     ]
    }
   ],
   "source": [
    "conf_train = get_confmatrix(y_train['TTF_'],predict_knn_train);\n",
    "conf_val = get_confmatrix(y_val['TTF_'],predict_knn_val);\n",
    "conf_test = get_confmatrix(y_test_long['TTF_'],predict_knn_test);"
   ]
  },
  {
   "cell_type": "code",
   "execution_count": 157,
   "metadata": {
    "ExecuteTime": {
     "end_time": "2019-10-24T13:58:26.360528Z",
     "start_time": "2019-10-24T13:58:25.966531Z"
    }
   },
   "outputs": [
    {
     "name": "stdout",
     "output_type": "stream",
     "text": [
      "[0.787, 0.759, 0.781, 0.787]\n",
      "[0.693, 0.633, 0.685, 0.693]\n",
      "[0.767, 0.543, 0.761, 0.767]\n"
     ]
    }
   ],
   "source": [
    "scores_train = get_scores(y_train['TTF_'],predict_knn_train)\n",
    "scores_val = get_scores(y_val['TTF_'],predict_knn_val)\n",
    "scores_test = get_scores(y_test_long['TTF_'],predict_knn_test)\n",
    "print(scores_train)\n",
    "print(scores_val)\n",
    "print(scores_test)"
   ]
  },
  {
   "cell_type": "code",
   "execution_count": 158,
   "metadata": {
    "ExecuteTime": {
     "end_time": "2019-10-24T13:58:26.365500Z",
     "start_time": "2019-10-24T13:58:26.361498Z"
    }
   },
   "outputs": [],
   "source": [
    "conf_train_pct = np.round(np.trace(conf_train)/np.sum(conf_train)*100,2)\n",
    "conf_val_pct = np.round(np.trace(conf_val)/np.sum(conf_val)*100,2)\n",
    "conf_test_pct = np.round(np.trace(conf_test)/np.sum(conf_test)*100,2)\n",
    "results_list.append(['knn',[cv_score_train.mean().round(3),cv_score_val.mean().round(3),cv_score_test.mean().round(3)],\\\n",
    "                     cv_score_test.round(3),[conf_train_pct,conf_val_pct,conf_test_pct],\\\n",
    "                    [scores_train, scores_val,scores_test]])"
   ]
  },
  {
   "cell_type": "code",
   "execution_count": 159,
   "metadata": {
    "ExecuteTime": {
     "end_time": "2019-10-24T13:58:26.413499Z",
     "start_time": "2019-10-24T13:58:26.366499Z"
    }
   },
   "outputs": [
    {
     "name": "stdout",
     "output_type": "stream",
     "text": [
      "Total (sum):  17618\n",
      "Diagonal (sum):  13858\n",
      "Correct %:  78.658\n",
      "Diagonal (elements):  [2725 2363  702 8068]\n"
     ]
    }
   ],
   "source": [
    "ff = confusion_matrix(y_train['TTF_'],predict_knn_train)\n",
    "#bb = np.asarray(ff)\n",
    "print('Total (sum): ', np.sum(ff))\n",
    "print('Diagonal (sum): ', np.trace(ff))\n",
    "print('Correct %: ', np.round(np.trace(ff)/np.sum(ff)*100,3))\n",
    "print('Diagonal (elements): ', np.diagonal(ff))"
   ]
  },
  {
   "cell_type": "code",
   "execution_count": 160,
   "metadata": {
    "ExecuteTime": {
     "end_time": "2019-10-24T13:58:26.419502Z",
     "start_time": "2019-10-24T13:58:26.414538Z"
    }
   },
   "outputs": [
    {
     "data": {
      "text/plain": [
       "[['lr',\n",
       "  [0.701, 0.719, 0.803],\n",
       "  array([0.816, 0.81 , 0.792, 0.821, 0.778]),\n",
       "  [70.8, 71.46, 80.23],\n",
       "  [[0.708, 0.647, 0.692, 0.708],\n",
       "   [0.715, 0.647, 0.702, 0.715],\n",
       "   [0.802, 0.528, 0.786, 0.802]]],\n",
       " ['dt',\n",
       "  [0.66, 0.624, 0.735],\n",
       "  array([0.763, 0.733, 0.732, 0.75 , 0.7  ]),\n",
       "  [100.0, 66.08, 72.0],\n",
       "  [[1.0, 1.0, 1.0, 1.0],\n",
       "   [0.661, 0.639, 0.664, 0.661],\n",
       "   [0.72, 0.517, 0.733, 0.72]]],\n",
       " ['rf',\n",
       "  [0.728, 0.681, 0.809],\n",
       "  array([0.83 , 0.788, 0.814, 0.83 , 0.784]),\n",
       "  [99.06, 72.45, 79.78],\n",
       "  [[0.991, 0.989, 0.991, 0.991],\n",
       "   [0.725, 0.705, 0.721, 0.725],\n",
       "   [0.798, 0.603, 0.792, 0.798]]],\n",
       " ['xgb',\n",
       "  [0.758, 0.715, 0.826],\n",
       "  array([0.839, 0.823, 0.822, 0.838, 0.809]),\n",
       "  [79.33, 75.64, 83.32],\n",
       "  [[0.793, 0.777, 0.78, 0.793],\n",
       "   [0.756, 0.724, 0.742, 0.756],\n",
       "   [0.833, 0.628, 0.814, 0.833]]],\n",
       " ['knn',\n",
       "  [0.683, 0.656, 0.785],\n",
       "  array([0.8  , 0.779, 0.78 , 0.807, 0.761]),\n",
       "  [78.66, 69.27, 76.67],\n",
       "  [[0.787, 0.759, 0.781, 0.787],\n",
       "   [0.693, 0.633, 0.685, 0.693],\n",
       "   [0.767, 0.543, 0.761, 0.767]]]]"
      ]
     },
     "execution_count": 160,
     "metadata": {},
     "output_type": "execute_result"
    }
   ],
   "source": [
    "# results_list.append(['lr',[cv_score_train.mean().round(3),cv_score_val.mean().round(3),cv_score_test.mean().round(3)],\\\n",
    "# cv_score.round(3),[conf_train_pct,conf_val_pct,conf_test_pct],\\\n",
    "#                    [scores_train, scores_val,scores_test]])\n",
    "results_list"
   ]
  },
  {
   "cell_type": "code",
   "execution_count": 161,
   "metadata": {
    "ExecuteTime": {
     "end_time": "2019-10-24T13:58:26.427531Z",
     "start_time": "2019-10-24T13:58:26.420499Z"
    }
   },
   "outputs": [],
   "source": [
    "models = [x[0] for x in results_list]\n",
    "cv_score_train_mean = [x[1][0] for x in results_list]\n",
    "cv_score_val_mean = [x[1][1] for x in results_list]\n",
    "cv_score_test_mean = [x[1][2] for x in results_list]\n",
    "pct_score_train_mean = [x[3][0] for x in results_list]\n",
    "pct_score_val_mean = [x[3][1] for x in results_list]\n",
    "pct_score_test_mean = [x[3][2] for x in results_list]"
   ]
  },
  {
   "cell_type": "code",
   "execution_count": 162,
   "metadata": {
    "ExecuteTime": {
     "end_time": "2019-10-24T13:58:26.686533Z",
     "start_time": "2019-10-24T13:58:26.428499Z"
    }
   },
   "outputs": [
    {
     "data": {
      "text/plain": [
       "<matplotlib.legend.Legend at 0x2558e5ab860>"
      ]
     },
     "execution_count": 162,
     "metadata": {},
     "output_type": "execute_result"
    },
    {
     "data": {
      "image/png": "[encoded data removed]",
      "text/plain": [
       "<Figure size 1080x360 with 2 Axes>"
      ]
     },
     "metadata": {
      "needs_background": "light"
     },
     "output_type": "display_data"
    }
   ],
   "source": [
    "plt.figure(figsize=(15,5))\n",
    "plt.subplot(1,2,1)\n",
    "plt.title('CV scores')\n",
    "plt.plot(models,cv_score_train_mean,label='train')\n",
    "plt.plot(models,cv_score_val_mean,label='val')\n",
    "plt.plot(models,cv_score_test_mean,label='test')\n",
    "plt.legend()\n",
    "plt.subplot(1,2,2)\n",
    "plt.title('% acc')\n",
    "plt.plot(models,pct_score_train_mean,label='train')\n",
    "plt.plot(models,pct_score_val_mean,label='val')\n",
    "plt.plot(models,pct_score_test_mean,label='test')\n",
    "plt.legend()"
   ]
  },
  {
   "cell_type": "markdown",
   "metadata": {},
   "source": [
    "# ToDo"
   ]
  },
  {
   "cell_type": "markdown",
   "metadata": {},
   "source": [
    "1) Try TimeSeriesSplit for CV<br/>\n",
    "2) Try predict_proba and cumulative sum for probabilities<br/>\n",
    "3) Try Quantile regression<br/>\n",
    "4) Try Ordinal regression / mord<br/>\n",
    "5) Try NN<br/>\n",
    "6) Try XGB sample_weight (possibly with predict_proba, but it can offset the results - take care)"
   ]
  }
 ],
 "metadata": {
  "kernelspec": {
   "display_name": "Python 36 + tf GPU",
   "language": "python",
   "name": "py36"
  },
  "language_info": {
   "codemirror_mode": {
    "name": "ipython",
    "version": 3
   },
   "file_extension": ".py",
   "mimetype": "text/x-python",
   "name": "python",
   "nbconvert_exporter": "python",
   "pygments_lexer": "ipython3",
   "version": "3.6.7"
  },
  "toc": {
   "base_numbering": 1,
   "nav_menu": {},
   "number_sections": true,
   "sideBar": true,
   "skip_h1_title": false,
   "title_cell": "Table of Contents",
   "title_sidebar": "Contents",
   "toc_cell": false,
   "toc_position": {
    "height": "calc(100% - 180px)",
    "left": "10px",
    "top": "150px",
    "width": "426.667px"
   },
   "toc_section_display": true,
   "toc_window_display": true
  }
 },
 "nbformat": 4,
 "nbformat_minor": 2
}
